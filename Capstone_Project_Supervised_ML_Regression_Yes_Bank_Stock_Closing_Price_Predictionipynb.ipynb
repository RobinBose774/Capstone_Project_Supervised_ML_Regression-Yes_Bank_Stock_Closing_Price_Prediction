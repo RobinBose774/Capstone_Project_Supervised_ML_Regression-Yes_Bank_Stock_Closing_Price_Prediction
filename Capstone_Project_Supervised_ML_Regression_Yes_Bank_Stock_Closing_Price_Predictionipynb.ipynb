{
  "nbformat": 4,
  "nbformat_minor": 0,
  "metadata": {
    "colab": {
      "provenance": [],
      "collapsed_sections": [
        "vncDsAP0Gaoa",
        "FJNUwmbgGyua",
        "w6K7xa23Elo4",
        "yQaldy8SH6Dl",
        "mDgbUHAGgjLW",
        "O_i_v8NEhb9l",
        "HhfV-JJviCcP",
        "Y3lxredqlCYt",
        "3RnN4peoiCZX",
        "x71ZqKXriCWQ",
        "7hBIi_osiCS2",
        "JlHwYmJAmNHm",
        "35m5QtbWiB9F",
        "PoPl-ycgm1ru",
        "H0kj-8xxnORC",
        "nA9Y7ga8ng1Z",
        "PBTbrJXOngz2",
        "u3PMJOP6ngxN",
        "dauF4eBmngu3",
        "bKJF3rekwFvQ",
        "MSa1f5Uengrz",
        "GF8Ens_Soomf",
        "0wOQAZs5pc--",
        "K5QZ13OEpz2H",
        "lQ7QKXXCp7Bj",
        "448CDAPjqfQr",
        "KSlN3yHqYklG",
        "t6dVpIINYklI",
        "ijmpgYnKYklI",
        "-JiQyfWJYklI",
        "EM7whBJCYoAo",
        "fge-S5ZAYoAp",
        "85gYPyotYoAp",
        "RoGjAbkUYoAp",
        "4Of9eVA-YrdM",
        "iky9q4vBYrdO",
        "F6T5p64dYrdO",
        "y-Ehk30pYrdP",
        "bamQiAODYuh1",
        "QHF8YVU7Yuh3",
        "GwzvFGzlYuh3",
        "qYpmQ266Yuh3",
        "OH-pJp9IphqM",
        "bbFf2-_FphqN",
        "_ouA3fa0phqN",
        "Seke61FWphqN",
        "PIIx-8_IphqN",
        "t27r6nlMphqO",
        "r2jJGEOYphqO",
        "b0JNsNcRphqO",
        "BZR9WyysphqO",
        "jj7wYXLtphqO",
        "eZrbJ2SmphqO",
        "rFu4xreNphqO",
        "YJ55k-q6phqO",
        "gCFgpxoyphqP",
        "OVtJsKN_phqQ",
        "lssrdh5qphqQ",
        "U2RJ9gkRphqQ",
        "1M8mcRywphqQ",
        "tgIPom80phqQ",
        "JMzcOPDDphqR",
        "x-EpHcCOp1ci",
        "X_VqEhTip1ck",
        "8zGJKyg5p1ck",
        "PVzmfK_Ep1ck",
        "n3dbpmDWp1ck",
        "ylSl6qgtp1ck",
        "ZWILFDl5p1ck",
        "M7G43BXep1ck",
        "Ag9LCva-p1cl",
        "E6MkPsBcp1cl",
        "2cELzS2fp1cl",
        "3MPXvC8up1cl",
        "NC_X3p0fY2L0",
        "UV0SzAkaZNRQ",
        "YPEH6qLeZNRQ",
        "q29F0dvdveiT",
        "EXh0U9oCveiU",
        "22aHeOlLveiV",
        "g-ATYxFrGrvw",
        "Yfr_Vlr8HBkt",
        "8yEUt7NnHlrM",
        "tEA2Xm5dHt1r",
        "I79__PHVH19G",
        "Ou-I18pAyIpj",
        "fF3858GYyt-u",
        "4_0_7-oCpUZd",
        "hwyV_J3ipUZe",
        "3yB-zSqbpUZe",
        "dEUvejAfpUZe",
        "Fd15vwWVpUZf",
        "bn_IUdTipZyH",
        "49K5P_iCpZyH",
        "Nff-vKELpZyI",
        "kLW572S8pZyI",
        "dWbDXHzopZyI",
        "yLjJCtPM0KBk",
        "xiyOF9F70UgQ",
        "7wuGOrhz0itI",
        "id1riN9m0vUs",
        "578E2V7j08f6",
        "89xtkJwZ18nB",
        "67NQN5KX2AMe",
        "Iwf50b-R2tYG",
        "GMQiZwjn3iu7",
        "WVIkgGqN3qsr",
        "XkPnILGE3zoT",
        "Hlsf0x5436Go",
        "mT9DMSJo4nBL",
        "c49ITxTc407N",
        "OeJFEK0N496M",
        "9ExmJH0g5HBk",
        "cJNqERVU536h",
        "k5UmGsbsOxih",
        "T0VqWOYE6DLQ",
        "qBMux9mC6MCf",
        "-oLEiFgy-5Pf",
        "C74aWNz2AliB",
        "2DejudWSA-a0",
        "pEMng2IbBLp7",
        "rAdphbQ9Bhjc",
        "TNVZ9zx19K6k",
        "nqoHp30x9hH9",
        "rMDnDkt2B6du",
        "yiiVWRdJDDil",
        "1UUpS68QDMuG",
        "kexQrXU-DjzY",
        "T5CmagL3EC8N",
        "BhH2vgX9EjGr",
        "qjKvONjwE8ra",
        "P1XJ9OREExlT",
        "VFOzZv6IFROw",
        "TIqpNgepFxVj",
        "VfCC591jGiD4",
        "OB4l2ZhMeS1U",
        "ArJBuiUVfxKd",
        "4qY1EAkEfxKe",
        "PiV4Ypx8fxKe",
        "TfvqoZmBfxKf",
        "dJ2tPlVmpsJ0",
        "JWYfwnehpsJ1",
        "-jK_YjpMpsJ2",
        "HAih1iBOpsJ2",
        "zVGeBEFhpsJ2",
        "bmKjuQ-FpsJ3",
        "Fze-IPXLpx6K",
        "7AN1z2sKpx6M",
        "9PIHJqyupx6M",
        "_-qAgymDpx6N",
        "Z-hykwinpx6N",
        "h_CCil-SKHpo",
        "cBFFvTBNJzUa",
        "HvGl1hHyA_VK",
        "EyNgTHvd2WFk",
        "KH5McJBi2d8v",
        "iW_Lq9qf2h6X",
        "-Kee-DAl2viO",
        "gCX9965dhzqZ",
        "gIfDvo9L0UH2"
      ],
      "include_colab_link": true
    },
    "kernelspec": {
      "name": "python3",
      "display_name": "Python 3"
    },
    "language_info": {
      "name": "python"
    }
  },
  "cells": [
    {
      "cell_type": "markdown",
      "metadata": {
        "id": "view-in-github",
        "colab_type": "text"
      },
      "source": [
        "<a href=\"https://colab.research.google.com/github/RobinBose774/Capstone_Project_Supervised_ML_Regression-Yes_Bank_Stock_Closing_Price_Prediction/blob/main/Capstone_Project_Supervised_ML_Regression_Yes_Bank_Stock_Closing_Price_Predictionipynb.ipynb\" target=\"_parent\"><img src=\"https://colab.research.google.com/assets/colab-badge.svg\" alt=\"Open In Colab\"/></a>"
      ]
    },
    {
      "cell_type": "markdown",
      "source": [
        "# **Project Name**    - Capstone_Project_Supervised_ML_Regression-Yes_Bank_Stock_Closing_Price_Prediction\n",
        "\n"
      ],
      "metadata": {
        "id": "vncDsAP0Gaoa"
      }
    },
    {
      "cell_type": "markdown",
      "source": [
        "##### **Project Type**    - Regression\n",
        "##### **Contribution**    - Individual\n",
        "##### **Team Member 1 -** Robin Bose\n"
      ],
      "metadata": {
        "id": "beRrZCGUAJYm"
      }
    },
    {
      "cell_type": "markdown",
      "source": [
        "# **Project Summary -**"
      ],
      "metadata": {
        "id": "FJNUwmbgGyua"
      }
    },
    {
      "cell_type": "markdown",
      "source": [
        "![Yes_Bank_SVG_Logo.svg.png](data:image/png;base64,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)"
      ],
      "metadata": {
        "id": "AQ70zn4rsjhz"
      }
    },
    {
      "cell_type": "markdown",
      "source": [
        "This project aims to address the challenge of predicting the closing price of Yes Bank's stock, which is a crucial task for stakeholders, investors, and market participants. Yes Bank, as a prominent private sector bank in India, has encountered significant hurdles in recent years, including a substantial number of bad loans and involvement in fraud cases. These challenges have led to regulatory intervention by the Reserve Bank of India, making the prediction of Yes Bank's stock prices complex and uncertain.\n",
        "\n",
        "To tackle this challenge, the project utilizes a comprehensive dataset comprising monthly stock price data since the bank's inception. The dataset includes various important metrics such as the closing, starting, highest, and lowest prices for each month. The objective is to develop predictive models that can effectively capture the intricate dynamics and trends in Yes Bank's stock prices, taking into account the turbulent events and uncertainties associated with the bank's performance.\n",
        "\n",
        "The project involves applying various modeling techniques, including time series models regression methods. The goal is to evaluate the performance of these models in accurately forecasting the closing price of Yes Bank's stock. Additionally, the models will be assessed on their ability to incorporate the impact of significant events, such as fraud cases involving the bank's founders or regulatory interventions by the Reserve Bank of India.\n",
        "\n",
        "By successfully predicting the closing price of Yes Bank's stock, this project can provide valuable insights and assist stakeholders in making informed decisions related to their investments in the bank. It aims to navigate the complexities and uncertainties surrounding Yes Bank's stock prices, ultimately contributing to the understanding of its financial performance and aiding in effective decision-making."
      ],
      "metadata": {
        "id": "F6v_1wHtG2nS"
      }
    },
    {
      "cell_type": "markdown",
      "source": [
        "# **GitHub Link -**"
      ],
      "metadata": {
        "id": "w6K7xa23Elo4"
      }
    },
    {
      "cell_type": "markdown",
      "source": [
        "https://github.com/RobinBose774/Capstone_Project_Supervised_ML_Regression-Yes_Bank_Stock_Closing_Price_Prediction"
      ],
      "metadata": {
        "id": "h1o69JH3Eqqn"
      }
    },
    {
      "cell_type": "markdown",
      "source": [
        "# **Problem Statement**\n"
      ],
      "metadata": {
        "id": "yQaldy8SH6Dl"
      }
    },
    {
      "cell_type": "markdown",
      "source": [
        "The main objective of this project is to develop a robust and accurate predictive model that can effectively forecast the closing price of Yes Bank's stock. The challenge lies in understanding and capturing the complex dynamics and trends in the stock prices, considering various factors such as the historical trend of an increasing price followed by a sudden decline after 2018.\n",
        "\n",
        "One of the key challenges in developing the predictive model is addressing the issue of multicollinearity present in the dataset. Multicollinearity occurs when there is a high correlation between independent variables, which can lead to difficulties in interpreting the model and can affect the accuracy of the predictions. Therefore, the model should incorporate techniques to handle multicollinearity and ensure that the independent variables are appropriately considered in the prediction process.\n",
        "\n",
        "Furthermore, the model should account for significant events that have had an impact on Yes Bank's stock performance. This includes events such as fraud cases involving the bank's founders and regulatory interventions by the Reserve Bank of India. These events can significantly influence the stock prices, and it is crucial for the predictive model to capture and reflect their effects accurately.\n",
        "\n",
        "In terms of performance, the model should aim for a high level of accuracy in forecasting the closing price of Yes Bank's stock. The 99% accuracy achieved by the K-Nearest Neighbors (KNN) Regression model serves as a benchmark, indicating the target accuracy that the developed model should strive to achieve. By achieving high accuracy, the predictive model can provide valuable insights to stakeholders, investors, and market participants, enabling them to make informed decisions and effectively manage their investments in Yes Bank's stock.\n",
        "\n",
        "Overall, this project seeks to develop a predictive model that addresses the complexities and challenges associated with forecasting Yes Bank's stock prices. The ultimate goal is to provide stakeholders with a reliable tool that can enhance their understanding of the stock's future performance and support them in making well-informed investment decisions."
      ],
      "metadata": {
        "id": "DpeJGUA3kjGy"
      }
    },
    {
      "cell_type": "markdown",
      "source": [
        "# **General Guidelines** : -  "
      ],
      "metadata": {
        "id": "mDgbUHAGgjLW"
      }
    },
    {
      "cell_type": "markdown",
      "source": [
        "1.   Well-structured, formatted, and commented code is required.\n",
        "2.   Exception Handling, Production Grade Code & Deployment Ready Code will be a plus. Those students will be awarded some additional credits.\n",
        "     \n",
        "     The additional credits will have advantages over other students during Star Student selection.\n",
        "       \n",
        "             [ Note: - Deployment Ready Code is defined as, the whole .ipynb notebook should be executable in one go\n",
        "                       without a single error logged. ]\n",
        "\n",
        "3.   Each and every logic should have proper comments.\n",
        "4. You may add as many number of charts you want. Make Sure for each and every chart the following format should be answered.\n",
        "        \n",
        "\n",
        "```\n",
        "# Chart visualization code\n",
        "```\n",
        "            \n",
        "\n",
        "*   Why did you pick the specific chart?\n",
        "*   What is/are the insight(s) found from the chart?\n",
        "* Will the gained insights help creating a positive business impact?\n",
        "Are there any insights that lead to negative growth? Justify with specific reason.\n",
        "\n",
        "5. You have to create at least 15 logical & meaningful charts having important insights.\n",
        "\n",
        "\n",
        "[ Hints : - Do the Vizualization in  a structured way while following \"UBM\" Rule.\n",
        "\n",
        "U - Univariate Analysis,\n",
        "\n",
        "B - Bivariate Analysis (Numerical - Categorical, Numerical - Numerical, Categorical - Categorical)\n",
        "\n",
        "M - Multivariate Analysis\n",
        " ]\n",
        "\n",
        "\n",
        "\n",
        "\n",
        "\n",
        "6. You may add more ml algorithms for model creation. Make sure for each and every algorithm, the following format should be answered.\n",
        "\n",
        "\n",
        "*   Explain the ML Model used and it's performance using Evaluation metric Score Chart.\n",
        "\n",
        "\n",
        "*   Cross- Validation & Hyperparameter Tuning\n",
        "\n",
        "*   Have you seen any improvement? Note down the improvement with updates Evaluation metric Score Chart.\n",
        "\n",
        "*   Explain each evaluation metric's indication towards business and the business impact pf the ML model used.\n",
        "\n",
        "\n",
        "\n",
        "\n",
        "\n",
        "\n",
        "\n",
        "\n",
        "\n",
        "\n",
        "\n",
        "\n",
        "\n",
        "\n",
        "\n",
        "\n",
        "\n",
        "\n"
      ],
      "metadata": {
        "id": "ZrxVaUj-hHfC"
      }
    },
    {
      "cell_type": "markdown",
      "source": [
        "# ***Let's Begin !***"
      ],
      "metadata": {
        "id": "O_i_v8NEhb9l"
      }
    },
    {
      "cell_type": "markdown",
      "source": [
        "## ***1. Know Your Data***"
      ],
      "metadata": {
        "id": "HhfV-JJviCcP"
      }
    },
    {
      "cell_type": "markdown",
      "source": [
        "### Import Libraries"
      ],
      "metadata": {
        "id": "Y3lxredqlCYt"
      }
    },
    {
      "cell_type": "code",
      "source": [
        "# Import necessary libraries\n",
        "\n",
        "# Import NumPy for numerical computations\n",
        "import numpy as np\n",
        "\n",
        "# Import Pandas for data manipulation and analysis\n",
        "import pandas as pd\n",
        "\n",
        "# Import Matplotlib for basic data visualization\n",
        "import matplotlib.pyplot as plt\n",
        "\n",
        "# Import Seaborn for advanced statistical visualizations\n",
        "import seaborn as sns\n",
        "\n",
        "# Import Plotly graph objects for interactive visualizations\n",
        "import plotly.graph_objects as go\n",
        "\n",
        "# Import the datetime module for working with dates and times\n",
        "from datetime import datetime\n",
        "\n",
        "# Import warnings module to ignore potential warnings\n",
        "import warnings"
      ],
      "metadata": {
        "id": "M8Vqi-pPk-HR"
      },
      "execution_count": 1,
      "outputs": []
    },
    {
      "cell_type": "markdown",
      "source": [
        "### Dataset Loading"
      ],
      "metadata": {
        "id": "3RnN4peoiCZX"
      }
    },
    {
      "cell_type": "code",
      "source": [
        "# Load Dataset\n",
        "# This code imports the `drive` library from Google Colab.\n",
        "# The 'drive' library allows us to mount our Google Drive to our Colab notebook.\n",
        "# The 'mount()' function mounts our Google Drive to the '/content/drive' directory.\n",
        "from google.colab import drive\n",
        "drive.mount('/content/drive')"
      ],
      "metadata": {
        "id": "4CkvbW_SlZ_R",
        "outputId": "d1fa6a42-fd3c-4e63-8ec8-80df501f477a",
        "colab": {
          "base_uri": "https://localhost:8080/"
        }
      },
      "execution_count": 2,
      "outputs": [
        {
          "output_type": "stream",
          "name": "stdout",
          "text": [
            "Mounted at /content/drive\n"
          ]
        }
      ]
    },
    {
      "cell_type": "code",
      "source": [
        "# Load the stock price data from the CSV file\n",
        "# This code reads the CSV file 'data_YesBank_StockPrices.csv' from the '/content/drive/MyDrive/capstone project-Supervised ML-Regression/Data File' directory.\n",
        "# The 'pd.read_csv()' function reads the CSV file and returns a Pandas DataFrame.\n",
        "stock_df = pd.read_csv(\"/content/drive/MyDrive/Colab Notebooks/capston project/Yes_Bank_Stock_Closing_Price_Prediction(Capstone_Project_Supervised_ML_Regression)/data_YesBank_StockPrices.csv\")"
      ],
      "metadata": {
        "id": "ATXKkwM4vNXN"
      },
      "execution_count": 3,
      "outputs": []
    },
    {
      "cell_type": "markdown",
      "source": [
        "### Dataset First View"
      ],
      "metadata": {
        "id": "x71ZqKXriCWQ"
      }
    },
    {
      "cell_type": "code",
      "source": [
        "# Display the first few rows of the DataFrame with a cool color gradient\n",
        "# This code uses the 'head()' method to display the first few rows of the DataFrame.\n",
        "# The 'style.background_gradient()' method applies a color gradient to the background of the DataFrame.\n",
        "# The 'cmap='cool'' argument specifies the colormap to use.\n",
        "stock_df.head().style.background_gradient(cmap='hot')"
      ],
      "metadata": {
        "id": "LWNFOSvLl09H",
        "outputId": "ece64f44-acd6-4fd6-f250-ff085497c428",
        "colab": {
          "base_uri": "https://localhost:8080/",
          "height": 206
        }
      },
      "execution_count": 4,
      "outputs": [
        {
          "output_type": "execute_result",
          "data": {
            "text/plain": [
              "<pandas.io.formats.style.Styler at 0x7acd23552410>"
            ],
            "text/html": [
              "<style type=\"text/css\">\n",
              "#T_60ccc_row0_col1 {\n",
              "  background-color: #ff4400;\n",
              "  color: #f1f1f1;\n",
              "}\n",
              "#T_60ccc_row0_col2 {\n",
              "  background-color: #590000;\n",
              "  color: #f1f1f1;\n",
              "}\n",
              "#T_60ccc_row0_col3, #T_60ccc_row0_col4, #T_60ccc_row1_col1, #T_60ccc_row4_col2 {\n",
              "  background-color: #0b0000;\n",
              "  color: #f1f1f1;\n",
              "}\n",
              "#T_60ccc_row1_col2, #T_60ccc_row1_col4, #T_60ccc_row2_col1, #T_60ccc_row4_col3 {\n",
              "  background-color: #ffffff;\n",
              "  color: #000000;\n",
              "}\n",
              "#T_60ccc_row1_col3 {\n",
              "  background-color: #ffff36;\n",
              "  color: #000000;\n",
              "}\n",
              "#T_60ccc_row2_col2, #T_60ccc_row4_col4 {\n",
              "  background-color: #fffff7;\n",
              "  color: #000000;\n",
              "}\n",
              "#T_60ccc_row2_col3 {\n",
              "  background-color: #ffb000;\n",
              "  color: #000000;\n",
              "}\n",
              "#T_60ccc_row2_col4 {\n",
              "  background-color: #ffff85;\n",
              "  color: #000000;\n",
              "}\n",
              "#T_60ccc_row3_col1 {\n",
              "  background-color: #ffda00;\n",
              "  color: #000000;\n",
              "}\n",
              "#T_60ccc_row3_col2 {\n",
              "  background-color: #ff9800;\n",
              "  color: #000000;\n",
              "}\n",
              "#T_60ccc_row3_col3 {\n",
              "  background-color: #ffe400;\n",
              "  color: #000000;\n",
              "}\n",
              "#T_60ccc_row3_col4 {\n",
              "  background-color: #ff7e00;\n",
              "  color: #f1f1f1;\n",
              "}\n",
              "#T_60ccc_row4_col1 {\n",
              "  background-color: #ffff71;\n",
              "  color: #000000;\n",
              "}\n",
              "</style>\n",
              "<table id=\"T_60ccc\" class=\"dataframe\">\n",
              "  <thead>\n",
              "    <tr>\n",
              "      <th class=\"blank level0\" >&nbsp;</th>\n",
              "      <th id=\"T_60ccc_level0_col0\" class=\"col_heading level0 col0\" >Date</th>\n",
              "      <th id=\"T_60ccc_level0_col1\" class=\"col_heading level0 col1\" >Open</th>\n",
              "      <th id=\"T_60ccc_level0_col2\" class=\"col_heading level0 col2\" >High</th>\n",
              "      <th id=\"T_60ccc_level0_col3\" class=\"col_heading level0 col3\" >Low</th>\n",
              "      <th id=\"T_60ccc_level0_col4\" class=\"col_heading level0 col4\" >Close</th>\n",
              "    </tr>\n",
              "  </thead>\n",
              "  <tbody>\n",
              "    <tr>\n",
              "      <th id=\"T_60ccc_level0_row0\" class=\"row_heading level0 row0\" >0</th>\n",
              "      <td id=\"T_60ccc_row0_col0\" class=\"data row0 col0\" >Jul-05</td>\n",
              "      <td id=\"T_60ccc_row0_col1\" class=\"data row0 col1\" >13.000000</td>\n",
              "      <td id=\"T_60ccc_row0_col2\" class=\"data row0 col2\" >14.000000</td>\n",
              "      <td id=\"T_60ccc_row0_col3\" class=\"data row0 col3\" >11.250000</td>\n",
              "      <td id=\"T_60ccc_row0_col4\" class=\"data row0 col4\" >12.460000</td>\n",
              "    </tr>\n",
              "    <tr>\n",
              "      <th id=\"T_60ccc_level0_row1\" class=\"row_heading level0 row1\" >1</th>\n",
              "      <td id=\"T_60ccc_row1_col0\" class=\"data row1 col0\" >Aug-05</td>\n",
              "      <td id=\"T_60ccc_row1_col1\" class=\"data row1 col1\" >12.580000</td>\n",
              "      <td id=\"T_60ccc_row1_col2\" class=\"data row1 col2\" >14.880000</td>\n",
              "      <td id=\"T_60ccc_row1_col3\" class=\"data row1 col3\" >12.550000</td>\n",
              "      <td id=\"T_60ccc_row1_col4\" class=\"data row1 col4\" >13.420000</td>\n",
              "    </tr>\n",
              "    <tr>\n",
              "      <th id=\"T_60ccc_level0_row2\" class=\"row_heading level0 row2\" >2</th>\n",
              "      <td id=\"T_60ccc_row2_col0\" class=\"data row2 col0\" >Sep-05</td>\n",
              "      <td id=\"T_60ccc_row2_col1\" class=\"data row2 col1\" >13.480000</td>\n",
              "      <td id=\"T_60ccc_row2_col2\" class=\"data row2 col2\" >14.870000</td>\n",
              "      <td id=\"T_60ccc_row2_col3\" class=\"data row2 col3\" >12.270000</td>\n",
              "      <td id=\"T_60ccc_row2_col4\" class=\"data row2 col4\" >13.300000</td>\n",
              "    </tr>\n",
              "    <tr>\n",
              "      <th id=\"T_60ccc_level0_row3\" class=\"row_heading level0 row3\" >3</th>\n",
              "      <td id=\"T_60ccc_row3_col0\" class=\"data row3 col0\" >Oct-05</td>\n",
              "      <td id=\"T_60ccc_row3_col1\" class=\"data row3 col1\" >13.200000</td>\n",
              "      <td id=\"T_60ccc_row3_col2\" class=\"data row3 col2\" >14.470000</td>\n",
              "      <td id=\"T_60ccc_row3_col3\" class=\"data row3 col3\" >12.400000</td>\n",
              "      <td id=\"T_60ccc_row3_col4\" class=\"data row3 col4\" >12.990000</td>\n",
              "    </tr>\n",
              "    <tr>\n",
              "      <th id=\"T_60ccc_level0_row4\" class=\"row_heading level0 row4\" >4</th>\n",
              "      <td id=\"T_60ccc_row4_col0\" class=\"data row4 col0\" >Nov-05</td>\n",
              "      <td id=\"T_60ccc_row4_col1\" class=\"data row4 col1\" >13.350000</td>\n",
              "      <td id=\"T_60ccc_row4_col2\" class=\"data row4 col2\" >13.880000</td>\n",
              "      <td id=\"T_60ccc_row4_col3\" class=\"data row4 col3\" >12.880000</td>\n",
              "      <td id=\"T_60ccc_row4_col4\" class=\"data row4 col4\" >13.410000</td>\n",
              "    </tr>\n",
              "  </tbody>\n",
              "</table>\n"
            ]
          },
          "metadata": {},
          "execution_count": 4
        }
      ]
    },
    {
      "cell_type": "code",
      "source": [
        "# Display the last few rows of the DataFrame with a cool color gradient\n",
        "# This code uses the 'tail()' method to display the last few rows of the DataFrame.\n",
        "# The 'style.background_gradient()' method applies a color gradient to the background of the DataFrame.\n",
        "# The \"cmap='cool'\" argument specifies the colormap to use.\n",
        "stock_df.tail().style.background_gradient(cmap='hot')"
      ],
      "metadata": {
        "id": "RqETiOSmv0hh",
        "outputId": "446d26db-3770-4679-d23c-9959c742742f",
        "colab": {
          "base_uri": "https://localhost:8080/",
          "height": 206
        }
      },
      "execution_count": 5,
      "outputs": [
        {
          "output_type": "execute_result",
          "data": {
            "text/plain": [
              "<pandas.io.formats.style.Styler at 0x7acce8cf2800>"
            ],
            "text/html": [
              "<style type=\"text/css\">\n",
              "#T_e744f_row0_col1, #T_e744f_row0_col2, #T_e744f_row2_col3, #T_e744f_row4_col4 {\n",
              "  background-color: #ffffff;\n",
              "  color: #000000;\n",
              "}\n",
              "#T_e744f_row0_col3, #T_e744f_row0_col4, #T_e744f_row1_col1, #T_e744f_row3_col2 {\n",
              "  background-color: #0b0000;\n",
              "  color: #f1f1f1;\n",
              "}\n",
              "#T_e744f_row1_col2 {\n",
              "  background-color: #9e0000;\n",
              "  color: #f1f1f1;\n",
              "}\n",
              "#T_e744f_row1_col3 {\n",
              "  background-color: #ff3c00;\n",
              "  color: #f1f1f1;\n",
              "}\n",
              "#T_e744f_row1_col4 {\n",
              "  background-color: #ffff91;\n",
              "  color: #000000;\n",
              "}\n",
              "#T_e744f_row2_col1 {\n",
              "  background-color: #7b0000;\n",
              "  color: #f1f1f1;\n",
              "}\n",
              "#T_e744f_row2_col2 {\n",
              "  background-color: #470000;\n",
              "  color: #f1f1f1;\n",
              "}\n",
              "#T_e744f_row2_col4 {\n",
              "  background-color: #ff3200;\n",
              "  color: #f1f1f1;\n",
              "}\n",
              "#T_e744f_row3_col1 {\n",
              "  background-color: #4a0000;\n",
              "  color: #f1f1f1;\n",
              "}\n",
              "#T_e744f_row3_col3 {\n",
              "  background-color: #ffa500;\n",
              "  color: #000000;\n",
              "}\n",
              "#T_e744f_row3_col4 {\n",
              "  background-color: #7e0000;\n",
              "  color: #f1f1f1;\n",
              "}\n",
              "#T_e744f_row4_col1 {\n",
              "  background-color: #1d0000;\n",
              "  color: #f1f1f1;\n",
              "}\n",
              "#T_e744f_row4_col2 {\n",
              "  background-color: #320000;\n",
              "  color: #f1f1f1;\n",
              "}\n",
              "#T_e744f_row4_col3 {\n",
              "  background-color: #ffcf00;\n",
              "  color: #000000;\n",
              "}\n",
              "</style>\n",
              "<table id=\"T_e744f\" class=\"dataframe\">\n",
              "  <thead>\n",
              "    <tr>\n",
              "      <th class=\"blank level0\" >&nbsp;</th>\n",
              "      <th id=\"T_e744f_level0_col0\" class=\"col_heading level0 col0\" >Date</th>\n",
              "      <th id=\"T_e744f_level0_col1\" class=\"col_heading level0 col1\" >Open</th>\n",
              "      <th id=\"T_e744f_level0_col2\" class=\"col_heading level0 col2\" >High</th>\n",
              "      <th id=\"T_e744f_level0_col3\" class=\"col_heading level0 col3\" >Low</th>\n",
              "      <th id=\"T_e744f_level0_col4\" class=\"col_heading level0 col4\" >Close</th>\n",
              "    </tr>\n",
              "  </thead>\n",
              "  <tbody>\n",
              "    <tr>\n",
              "      <th id=\"T_e744f_level0_row0\" class=\"row_heading level0 row0\" >180</th>\n",
              "      <td id=\"T_e744f_row0_col0\" class=\"data row0 col0\" >Jul-20</td>\n",
              "      <td id=\"T_e744f_row0_col1\" class=\"data row0 col1\" >25.600000</td>\n",
              "      <td id=\"T_e744f_row0_col2\" class=\"data row0 col2\" >28.300000</td>\n",
              "      <td id=\"T_e744f_row0_col3\" class=\"data row0 col3\" >11.100000</td>\n",
              "      <td id=\"T_e744f_row0_col4\" class=\"data row0 col4\" >11.950000</td>\n",
              "    </tr>\n",
              "    <tr>\n",
              "      <th id=\"T_e744f_level0_row1\" class=\"row_heading level0 row1\" >181</th>\n",
              "      <td id=\"T_e744f_row1_col0\" class=\"data row1 col0\" >Aug-20</td>\n",
              "      <td id=\"T_e744f_row1_col1\" class=\"data row1 col1\" >12.000000</td>\n",
              "      <td id=\"T_e744f_row1_col2\" class=\"data row1 col2\" >17.160000</td>\n",
              "      <td id=\"T_e744f_row1_col3\" class=\"data row1 col3\" >11.850000</td>\n",
              "      <td id=\"T_e744f_row1_col4\" class=\"data row1 col4\" >14.370000</td>\n",
              "    </tr>\n",
              "    <tr>\n",
              "      <th id=\"T_e744f_level0_row2\" class=\"row_heading level0 row2\" >182</th>\n",
              "      <td id=\"T_e744f_row2_col0\" class=\"data row2 col0\" >Sep-20</td>\n",
              "      <td id=\"T_e744f_row2_col1\" class=\"data row2 col1\" >14.300000</td>\n",
              "      <td id=\"T_e744f_row2_col2\" class=\"data row2 col2\" >15.340000</td>\n",
              "      <td id=\"T_e744f_row2_col3\" class=\"data row2 col3\" >12.750000</td>\n",
              "      <td id=\"T_e744f_row2_col4\" class=\"data row2 col4\" >13.150000</td>\n",
              "    </tr>\n",
              "    <tr>\n",
              "      <th id=\"T_e744f_level0_row3\" class=\"row_heading level0 row3\" >183</th>\n",
              "      <td id=\"T_e744f_row3_col0\" class=\"data row3 col0\" >Oct-20</td>\n",
              "      <td id=\"T_e744f_row3_col1\" class=\"data row3 col1\" >13.300000</td>\n",
              "      <td id=\"T_e744f_row3_col2\" class=\"data row3 col2\" >14.010000</td>\n",
              "      <td id=\"T_e744f_row3_col3\" class=\"data row3 col3\" >12.110000</td>\n",
              "      <td id=\"T_e744f_row3_col4\" class=\"data row3 col4\" >12.420000</td>\n",
              "    </tr>\n",
              "    <tr>\n",
              "      <th id=\"T_e744f_level0_row4\" class=\"row_heading level0 row4\" >184</th>\n",
              "      <td id=\"T_e744f_row4_col0\" class=\"data row4 col0\" >Nov-20</td>\n",
              "      <td id=\"T_e744f_row4_col1\" class=\"data row4 col1\" >12.410000</td>\n",
              "      <td id=\"T_e744f_row4_col2\" class=\"data row4 col2\" >14.900000</td>\n",
              "      <td id=\"T_e744f_row4_col3\" class=\"data row4 col3\" >12.210000</td>\n",
              "      <td id=\"T_e744f_row4_col4\" class=\"data row4 col4\" >14.670000</td>\n",
              "    </tr>\n",
              "  </tbody>\n",
              "</table>\n"
            ]
          },
          "metadata": {},
          "execution_count": 5
        }
      ]
    },
    {
      "cell_type": "markdown",
      "source": [
        "### Dataset Rows & Columns count"
      ],
      "metadata": {
        "id": "7hBIi_osiCS2"
      }
    },
    {
      "cell_type": "code",
      "source": [
        "# Dataset Rows & Columns count"
      ],
      "metadata": {
        "id": "Kllu7SJgmLij"
      },
      "execution_count": null,
      "outputs": []
    },
    {
      "cell_type": "markdown",
      "source": [
        "### Dataset Information"
      ],
      "metadata": {
        "id": "JlHwYmJAmNHm"
      }
    },
    {
      "cell_type": "code",
      "source": [
        "# Dataset Info"
      ],
      "metadata": {
        "id": "e9hRXRi6meOf"
      },
      "execution_count": null,
      "outputs": []
    },
    {
      "cell_type": "markdown",
      "source": [
        "#### Duplicate Values"
      ],
      "metadata": {
        "id": "35m5QtbWiB9F"
      }
    },
    {
      "cell_type": "code",
      "source": [
        "# Dataset Duplicate Value Count"
      ],
      "metadata": {
        "id": "1sLdpKYkmox0"
      },
      "execution_count": null,
      "outputs": []
    },
    {
      "cell_type": "markdown",
      "source": [
        "#### Missing Values/Null Values"
      ],
      "metadata": {
        "id": "PoPl-ycgm1ru"
      }
    },
    {
      "cell_type": "code",
      "source": [
        "# Missing Values/Null Values Count"
      ],
      "metadata": {
        "id": "GgHWkxvamxVg"
      },
      "execution_count": null,
      "outputs": []
    },
    {
      "cell_type": "code",
      "source": [
        "# Visualizing the missing values"
      ],
      "metadata": {
        "id": "3q5wnI3om9sJ"
      },
      "execution_count": null,
      "outputs": []
    },
    {
      "cell_type": "markdown",
      "source": [
        "### What did you know about your dataset?"
      ],
      "metadata": {
        "id": "H0kj-8xxnORC"
      }
    },
    {
      "cell_type": "markdown",
      "source": [
        "Answer Here"
      ],
      "metadata": {
        "id": "gfoNAAC-nUe_"
      }
    },
    {
      "cell_type": "markdown",
      "source": [
        "## ***2. Understanding Your Variables***"
      ],
      "metadata": {
        "id": "nA9Y7ga8ng1Z"
      }
    },
    {
      "cell_type": "code",
      "source": [
        "# Dataset Columns"
      ],
      "metadata": {
        "id": "j7xfkqrt5Ag5"
      },
      "execution_count": null,
      "outputs": []
    },
    {
      "cell_type": "code",
      "source": [
        "# Dataset Describe"
      ],
      "metadata": {
        "id": "DnOaZdaE5Q5t"
      },
      "execution_count": null,
      "outputs": []
    },
    {
      "cell_type": "markdown",
      "source": [
        "### Variables Description"
      ],
      "metadata": {
        "id": "PBTbrJXOngz2"
      }
    },
    {
      "cell_type": "markdown",
      "source": [
        "Answer Here"
      ],
      "metadata": {
        "id": "aJV4KIxSnxay"
      }
    },
    {
      "cell_type": "markdown",
      "source": [
        "### Check Unique Values for each variable."
      ],
      "metadata": {
        "id": "u3PMJOP6ngxN"
      }
    },
    {
      "cell_type": "code",
      "source": [
        "# Check Unique Values for each variable."
      ],
      "metadata": {
        "id": "zms12Yq5n-jE"
      },
      "execution_count": null,
      "outputs": []
    },
    {
      "cell_type": "markdown",
      "source": [
        "## 3. ***Data Wrangling***"
      ],
      "metadata": {
        "id": "dauF4eBmngu3"
      }
    },
    {
      "cell_type": "markdown",
      "source": [
        "### Data Wrangling Code"
      ],
      "metadata": {
        "id": "bKJF3rekwFvQ"
      }
    },
    {
      "cell_type": "code",
      "source": [
        "# Write your code to make your dataset analysis ready."
      ],
      "metadata": {
        "id": "wk-9a2fpoLcV"
      },
      "execution_count": null,
      "outputs": []
    },
    {
      "cell_type": "markdown",
      "source": [
        "### What all manipulations have you done and insights you found?"
      ],
      "metadata": {
        "id": "MSa1f5Uengrz"
      }
    },
    {
      "cell_type": "markdown",
      "source": [
        "Answer Here."
      ],
      "metadata": {
        "id": "LbyXE7I1olp8"
      }
    },
    {
      "cell_type": "markdown",
      "source": [
        "## ***4. Data Vizualization, Storytelling & Experimenting with charts : Understand the relationships between variables***"
      ],
      "metadata": {
        "id": "GF8Ens_Soomf"
      }
    },
    {
      "cell_type": "markdown",
      "source": [
        "#### Chart - 1"
      ],
      "metadata": {
        "id": "0wOQAZs5pc--"
      }
    },
    {
      "cell_type": "code",
      "source": [
        "# Chart - 1 visualization code"
      ],
      "metadata": {
        "id": "7v_ESjsspbW7"
      },
      "execution_count": null,
      "outputs": []
    },
    {
      "cell_type": "markdown",
      "source": [
        "##### 1. Why did you pick the specific chart?"
      ],
      "metadata": {
        "id": "K5QZ13OEpz2H"
      }
    },
    {
      "cell_type": "markdown",
      "source": [
        "Answer Here."
      ],
      "metadata": {
        "id": "XESiWehPqBRc"
      }
    },
    {
      "cell_type": "markdown",
      "source": [
        "##### 2. What is/are the insight(s) found from the chart?"
      ],
      "metadata": {
        "id": "lQ7QKXXCp7Bj"
      }
    },
    {
      "cell_type": "markdown",
      "source": [
        "Answer Here"
      ],
      "metadata": {
        "id": "C_j1G7yiqdRP"
      }
    },
    {
      "cell_type": "markdown",
      "source": [
        "##### 3. Will the gained insights help creating a positive business impact?\n",
        "Are there any insights that lead to negative growth? Justify with specific reason."
      ],
      "metadata": {
        "id": "448CDAPjqfQr"
      }
    },
    {
      "cell_type": "markdown",
      "source": [
        "Answer Here"
      ],
      "metadata": {
        "id": "3cspy4FjqxJW"
      }
    },
    {
      "cell_type": "markdown",
      "source": [
        "#### Chart - 2"
      ],
      "metadata": {
        "id": "KSlN3yHqYklG"
      }
    },
    {
      "cell_type": "code",
      "source": [
        "# Chart - 2 visualization code"
      ],
      "metadata": {
        "id": "R4YgtaqtYklH"
      },
      "execution_count": null,
      "outputs": []
    },
    {
      "cell_type": "markdown",
      "source": [
        "##### 1. Why did you pick the specific chart?"
      ],
      "metadata": {
        "id": "t6dVpIINYklI"
      }
    },
    {
      "cell_type": "markdown",
      "source": [
        "Answer Here."
      ],
      "metadata": {
        "id": "5aaW0BYyYklI"
      }
    },
    {
      "cell_type": "markdown",
      "source": [
        "##### 2. What is/are the insight(s) found from the chart?"
      ],
      "metadata": {
        "id": "ijmpgYnKYklI"
      }
    },
    {
      "cell_type": "markdown",
      "source": [
        "Answer Here"
      ],
      "metadata": {
        "id": "PSx9atu2YklI"
      }
    },
    {
      "cell_type": "markdown",
      "source": [
        "##### 3. Will the gained insights help creating a positive business impact?\n",
        "Are there any insights that lead to negative growth? Justify with specific reason."
      ],
      "metadata": {
        "id": "-JiQyfWJYklI"
      }
    },
    {
      "cell_type": "markdown",
      "source": [
        "Answer Here"
      ],
      "metadata": {
        "id": "BcBbebzrYklV"
      }
    },
    {
      "cell_type": "markdown",
      "source": [
        "#### Chart - 3"
      ],
      "metadata": {
        "id": "EM7whBJCYoAo"
      }
    },
    {
      "cell_type": "code",
      "source": [
        "# Chart - 3 visualization code"
      ],
      "metadata": {
        "id": "t6GMdE67YoAp"
      },
      "execution_count": null,
      "outputs": []
    },
    {
      "cell_type": "markdown",
      "source": [
        "##### 1. Why did you pick the specific chart?"
      ],
      "metadata": {
        "id": "fge-S5ZAYoAp"
      }
    },
    {
      "cell_type": "markdown",
      "source": [
        "Answer Here."
      ],
      "metadata": {
        "id": "5dBItgRVYoAp"
      }
    },
    {
      "cell_type": "markdown",
      "source": [
        "##### 2. What is/are the insight(s) found from the chart?"
      ],
      "metadata": {
        "id": "85gYPyotYoAp"
      }
    },
    {
      "cell_type": "markdown",
      "source": [
        "Answer Here"
      ],
      "metadata": {
        "id": "4jstXR6OYoAp"
      }
    },
    {
      "cell_type": "markdown",
      "source": [
        "##### 3. Will the gained insights help creating a positive business impact?\n",
        "Are there any insights that lead to negative growth? Justify with specific reason."
      ],
      "metadata": {
        "id": "RoGjAbkUYoAp"
      }
    },
    {
      "cell_type": "markdown",
      "source": [
        "Answer Here"
      ],
      "metadata": {
        "id": "zfJ8IqMcYoAp"
      }
    },
    {
      "cell_type": "markdown",
      "source": [
        "#### Chart - 4"
      ],
      "metadata": {
        "id": "4Of9eVA-YrdM"
      }
    },
    {
      "cell_type": "code",
      "source": [
        "# Chart - 4 visualization code"
      ],
      "metadata": {
        "id": "irlUoxc8YrdO"
      },
      "execution_count": null,
      "outputs": []
    },
    {
      "cell_type": "markdown",
      "source": [
        "##### 1. Why did you pick the specific chart?"
      ],
      "metadata": {
        "id": "iky9q4vBYrdO"
      }
    },
    {
      "cell_type": "markdown",
      "source": [
        "Answer Here."
      ],
      "metadata": {
        "id": "aJRCwT6DYrdO"
      }
    },
    {
      "cell_type": "markdown",
      "source": [
        "##### 2. What is/are the insight(s) found from the chart?"
      ],
      "metadata": {
        "id": "F6T5p64dYrdO"
      }
    },
    {
      "cell_type": "markdown",
      "source": [
        "Answer Here"
      ],
      "metadata": {
        "id": "Xx8WAJvtYrdO"
      }
    },
    {
      "cell_type": "markdown",
      "source": [
        "##### 3. Will the gained insights help creating a positive business impact?\n",
        "Are there any insights that lead to negative growth? Justify with specific reason."
      ],
      "metadata": {
        "id": "y-Ehk30pYrdP"
      }
    },
    {
      "cell_type": "markdown",
      "source": [
        "Answer Here"
      ],
      "metadata": {
        "id": "jLNxxz7MYrdP"
      }
    },
    {
      "cell_type": "markdown",
      "source": [
        "#### Chart - 5"
      ],
      "metadata": {
        "id": "bamQiAODYuh1"
      }
    },
    {
      "cell_type": "code",
      "source": [
        "# Chart - 5 visualization code"
      ],
      "metadata": {
        "id": "TIJwrbroYuh3"
      },
      "execution_count": null,
      "outputs": []
    },
    {
      "cell_type": "markdown",
      "source": [
        "##### 1. Why did you pick the specific chart?"
      ],
      "metadata": {
        "id": "QHF8YVU7Yuh3"
      }
    },
    {
      "cell_type": "markdown",
      "source": [
        "Answer Here."
      ],
      "metadata": {
        "id": "dcxuIMRPYuh3"
      }
    },
    {
      "cell_type": "markdown",
      "source": [
        "##### 2. What is/are the insight(s) found from the chart?"
      ],
      "metadata": {
        "id": "GwzvFGzlYuh3"
      }
    },
    {
      "cell_type": "markdown",
      "source": [
        "Answer Here"
      ],
      "metadata": {
        "id": "uyqkiB8YYuh3"
      }
    },
    {
      "cell_type": "markdown",
      "source": [
        "##### 3. Will the gained insights help creating a positive business impact?\n",
        "Are there any insights that lead to negative growth? Justify with specific reason."
      ],
      "metadata": {
        "id": "qYpmQ266Yuh3"
      }
    },
    {
      "cell_type": "markdown",
      "source": [
        "Answer Here"
      ],
      "metadata": {
        "id": "_WtzZ_hCYuh4"
      }
    },
    {
      "cell_type": "markdown",
      "source": [
        "#### Chart - 6"
      ],
      "metadata": {
        "id": "OH-pJp9IphqM"
      }
    },
    {
      "cell_type": "code",
      "source": [
        "# Chart - 6 visualization code"
      ],
      "metadata": {
        "id": "kuRf4wtuphqN"
      },
      "execution_count": null,
      "outputs": []
    },
    {
      "cell_type": "markdown",
      "source": [
        "##### 1. Why did you pick the specific chart?"
      ],
      "metadata": {
        "id": "bbFf2-_FphqN"
      }
    },
    {
      "cell_type": "markdown",
      "source": [
        "Answer Here."
      ],
      "metadata": {
        "id": "loh7H2nzphqN"
      }
    },
    {
      "cell_type": "markdown",
      "source": [
        "##### 2. What is/are the insight(s) found from the chart?"
      ],
      "metadata": {
        "id": "_ouA3fa0phqN"
      }
    },
    {
      "cell_type": "markdown",
      "source": [
        "Answer Here"
      ],
      "metadata": {
        "id": "VECbqPI7phqN"
      }
    },
    {
      "cell_type": "markdown",
      "source": [
        "##### 3. Will the gained insights help creating a positive business impact?\n",
        "Are there any insights that lead to negative growth? Justify with specific reason."
      ],
      "metadata": {
        "id": "Seke61FWphqN"
      }
    },
    {
      "cell_type": "markdown",
      "source": [
        "Answer Here"
      ],
      "metadata": {
        "id": "DW4_bGpfphqN"
      }
    },
    {
      "cell_type": "markdown",
      "source": [
        "#### Chart - 7"
      ],
      "metadata": {
        "id": "PIIx-8_IphqN"
      }
    },
    {
      "cell_type": "code",
      "source": [
        "# Chart - 7 visualization code"
      ],
      "metadata": {
        "id": "lqAIGUfyphqO"
      },
      "execution_count": null,
      "outputs": []
    },
    {
      "cell_type": "markdown",
      "source": [
        "##### 1. Why did you pick the specific chart?"
      ],
      "metadata": {
        "id": "t27r6nlMphqO"
      }
    },
    {
      "cell_type": "markdown",
      "source": [
        "Answer Here."
      ],
      "metadata": {
        "id": "iv6ro40sphqO"
      }
    },
    {
      "cell_type": "markdown",
      "source": [
        "##### 2. What is/are the insight(s) found from the chart?"
      ],
      "metadata": {
        "id": "r2jJGEOYphqO"
      }
    },
    {
      "cell_type": "markdown",
      "source": [
        "Answer Here"
      ],
      "metadata": {
        "id": "Po6ZPi4hphqO"
      }
    },
    {
      "cell_type": "markdown",
      "source": [
        "##### 3. Will the gained insights help creating a positive business impact?\n",
        "Are there any insights that lead to negative growth? Justify with specific reason."
      ],
      "metadata": {
        "id": "b0JNsNcRphqO"
      }
    },
    {
      "cell_type": "markdown",
      "source": [
        "Answer Here"
      ],
      "metadata": {
        "id": "xvSq8iUTphqO"
      }
    },
    {
      "cell_type": "markdown",
      "source": [
        "#### Chart - 8"
      ],
      "metadata": {
        "id": "BZR9WyysphqO"
      }
    },
    {
      "cell_type": "code",
      "source": [
        "# Chart - 8 visualization code"
      ],
      "metadata": {
        "id": "TdPTWpAVphqO"
      },
      "execution_count": null,
      "outputs": []
    },
    {
      "cell_type": "markdown",
      "source": [
        "##### 1. Why did you pick the specific chart?"
      ],
      "metadata": {
        "id": "jj7wYXLtphqO"
      }
    },
    {
      "cell_type": "markdown",
      "source": [
        "Answer Here."
      ],
      "metadata": {
        "id": "Ob8u6rCTphqO"
      }
    },
    {
      "cell_type": "markdown",
      "source": [
        "##### 2. What is/are the insight(s) found from the chart?"
      ],
      "metadata": {
        "id": "eZrbJ2SmphqO"
      }
    },
    {
      "cell_type": "markdown",
      "source": [
        "Answer Here"
      ],
      "metadata": {
        "id": "mZtgC_hjphqO"
      }
    },
    {
      "cell_type": "markdown",
      "source": [
        "##### 3. Will the gained insights help creating a positive business impact?\n",
        "Are there any insights that lead to negative growth? Justify with specific reason."
      ],
      "metadata": {
        "id": "rFu4xreNphqO"
      }
    },
    {
      "cell_type": "markdown",
      "source": [
        "Answer Here"
      ],
      "metadata": {
        "id": "ey_0qi68phqO"
      }
    },
    {
      "cell_type": "markdown",
      "source": [
        "#### Chart - 9"
      ],
      "metadata": {
        "id": "YJ55k-q6phqO"
      }
    },
    {
      "cell_type": "code",
      "source": [
        "# Chart - 9 visualization code"
      ],
      "metadata": {
        "id": "B2aS4O1ophqO"
      },
      "execution_count": null,
      "outputs": []
    },
    {
      "cell_type": "markdown",
      "source": [
        "##### 1. Why did you pick the specific chart?"
      ],
      "metadata": {
        "id": "gCFgpxoyphqP"
      }
    },
    {
      "cell_type": "markdown",
      "source": [
        "Answer Here."
      ],
      "metadata": {
        "id": "TVxDimi2phqP"
      }
    },
    {
      "cell_type": "markdown",
      "source": [
        "##### 2. What is/are the insight(s) found from the chart?"
      ],
      "metadata": {
        "id": "OVtJsKN_phqQ"
      }
    },
    {
      "cell_type": "markdown",
      "source": [
        "Answer Here"
      ],
      "metadata": {
        "id": "ngGi97qjphqQ"
      }
    },
    {
      "cell_type": "markdown",
      "source": [
        "##### 3. Will the gained insights help creating a positive business impact?\n",
        "Are there any insights that lead to negative growth? Justify with specific reason."
      ],
      "metadata": {
        "id": "lssrdh5qphqQ"
      }
    },
    {
      "cell_type": "markdown",
      "source": [
        "Answer Here"
      ],
      "metadata": {
        "id": "tBpY5ekJphqQ"
      }
    },
    {
      "cell_type": "markdown",
      "source": [
        "#### Chart - 10"
      ],
      "metadata": {
        "id": "U2RJ9gkRphqQ"
      }
    },
    {
      "cell_type": "code",
      "source": [
        "# Chart - 10 visualization code"
      ],
      "metadata": {
        "id": "GM7a4YP4phqQ"
      },
      "execution_count": null,
      "outputs": []
    },
    {
      "cell_type": "markdown",
      "source": [
        "##### 1. Why did you pick the specific chart?"
      ],
      "metadata": {
        "id": "1M8mcRywphqQ"
      }
    },
    {
      "cell_type": "markdown",
      "source": [
        "Answer Here."
      ],
      "metadata": {
        "id": "8agQvks0phqQ"
      }
    },
    {
      "cell_type": "markdown",
      "source": [
        "##### 2. What is/are the insight(s) found from the chart?"
      ],
      "metadata": {
        "id": "tgIPom80phqQ"
      }
    },
    {
      "cell_type": "markdown",
      "source": [
        "Answer Here"
      ],
      "metadata": {
        "id": "Qp13pnNzphqQ"
      }
    },
    {
      "cell_type": "markdown",
      "source": [
        "##### 3. Will the gained insights help creating a positive business impact?\n",
        "Are there any insights that lead to negative growth? Justify with specific reason."
      ],
      "metadata": {
        "id": "JMzcOPDDphqR"
      }
    },
    {
      "cell_type": "markdown",
      "source": [
        "Answer Here"
      ],
      "metadata": {
        "id": "R4Ka1PC2phqR"
      }
    },
    {
      "cell_type": "markdown",
      "source": [
        "#### Chart - 11"
      ],
      "metadata": {
        "id": "x-EpHcCOp1ci"
      }
    },
    {
      "cell_type": "code",
      "source": [
        "# Chart - 11 visualization code"
      ],
      "metadata": {
        "id": "mAQTIvtqp1cj"
      },
      "execution_count": null,
      "outputs": []
    },
    {
      "cell_type": "markdown",
      "source": [
        "##### 1. Why did you pick the specific chart?"
      ],
      "metadata": {
        "id": "X_VqEhTip1ck"
      }
    },
    {
      "cell_type": "markdown",
      "source": [
        "Answer Here."
      ],
      "metadata": {
        "id": "-vsMzt_np1ck"
      }
    },
    {
      "cell_type": "markdown",
      "source": [
        "##### 2. What is/are the insight(s) found from the chart?"
      ],
      "metadata": {
        "id": "8zGJKyg5p1ck"
      }
    },
    {
      "cell_type": "markdown",
      "source": [
        "Answer Here"
      ],
      "metadata": {
        "id": "ZYdMsrqVp1ck"
      }
    },
    {
      "cell_type": "markdown",
      "source": [
        "##### 3. Will the gained insights help creating a positive business impact?\n",
        "Are there any insights that lead to negative growth? Justify with specific reason."
      ],
      "metadata": {
        "id": "PVzmfK_Ep1ck"
      }
    },
    {
      "cell_type": "markdown",
      "source": [
        "Answer Here"
      ],
      "metadata": {
        "id": "druuKYZpp1ck"
      }
    },
    {
      "cell_type": "markdown",
      "source": [
        "#### Chart - 12"
      ],
      "metadata": {
        "id": "n3dbpmDWp1ck"
      }
    },
    {
      "cell_type": "code",
      "source": [
        "# Chart - 12 visualization code"
      ],
      "metadata": {
        "id": "bwevp1tKp1ck"
      },
      "execution_count": null,
      "outputs": []
    },
    {
      "cell_type": "markdown",
      "source": [
        "##### 1. Why did you pick the specific chart?"
      ],
      "metadata": {
        "id": "ylSl6qgtp1ck"
      }
    },
    {
      "cell_type": "markdown",
      "source": [
        "Answer Here."
      ],
      "metadata": {
        "id": "m2xqNkiQp1ck"
      }
    },
    {
      "cell_type": "markdown",
      "source": [
        "##### 2. What is/are the insight(s) found from the chart?"
      ],
      "metadata": {
        "id": "ZWILFDl5p1ck"
      }
    },
    {
      "cell_type": "markdown",
      "source": [
        "Answer Here"
      ],
      "metadata": {
        "id": "x-lUsV2mp1ck"
      }
    },
    {
      "cell_type": "markdown",
      "source": [
        "##### 3. Will the gained insights help creating a positive business impact?\n",
        "Are there any insights that lead to negative growth? Justify with specific reason."
      ],
      "metadata": {
        "id": "M7G43BXep1ck"
      }
    },
    {
      "cell_type": "markdown",
      "source": [
        "Answer Here"
      ],
      "metadata": {
        "id": "5wwDJXsLp1cl"
      }
    },
    {
      "cell_type": "markdown",
      "source": [
        "#### Chart - 13"
      ],
      "metadata": {
        "id": "Ag9LCva-p1cl"
      }
    },
    {
      "cell_type": "code",
      "source": [
        "# Chart - 13 visualization code"
      ],
      "metadata": {
        "id": "EUfxeq9-p1cl"
      },
      "execution_count": null,
      "outputs": []
    },
    {
      "cell_type": "markdown",
      "source": [
        "##### 1. Why did you pick the specific chart?"
      ],
      "metadata": {
        "id": "E6MkPsBcp1cl"
      }
    },
    {
      "cell_type": "markdown",
      "source": [
        "Answer Here."
      ],
      "metadata": {
        "id": "V22bRsFWp1cl"
      }
    },
    {
      "cell_type": "markdown",
      "source": [
        "##### 2. What is/are the insight(s) found from the chart?"
      ],
      "metadata": {
        "id": "2cELzS2fp1cl"
      }
    },
    {
      "cell_type": "markdown",
      "source": [
        "Answer Here"
      ],
      "metadata": {
        "id": "ozQPc2_Ip1cl"
      }
    },
    {
      "cell_type": "markdown",
      "source": [
        "##### 3. Will the gained insights help creating a positive business impact?\n",
        "Are there any insights that lead to negative growth? Justify with specific reason."
      ],
      "metadata": {
        "id": "3MPXvC8up1cl"
      }
    },
    {
      "cell_type": "markdown",
      "source": [
        "Answer Here"
      ],
      "metadata": {
        "id": "GL8l1tdLp1cl"
      }
    },
    {
      "cell_type": "markdown",
      "source": [
        "#### Chart - 14 - Correlation Heatmap"
      ],
      "metadata": {
        "id": "NC_X3p0fY2L0"
      }
    },
    {
      "cell_type": "code",
      "source": [
        "# Correlation Heatmap visualization code"
      ],
      "metadata": {
        "id": "xyC9zolEZNRQ"
      },
      "execution_count": null,
      "outputs": []
    },
    {
      "cell_type": "markdown",
      "source": [
        "##### 1. Why did you pick the specific chart?"
      ],
      "metadata": {
        "id": "UV0SzAkaZNRQ"
      }
    },
    {
      "cell_type": "markdown",
      "source": [
        "Answer Here."
      ],
      "metadata": {
        "id": "DVPuT8LYZNRQ"
      }
    },
    {
      "cell_type": "markdown",
      "source": [
        "##### 2. What is/are the insight(s) found from the chart?"
      ],
      "metadata": {
        "id": "YPEH6qLeZNRQ"
      }
    },
    {
      "cell_type": "markdown",
      "source": [
        "Answer Here"
      ],
      "metadata": {
        "id": "bfSqtnDqZNRR"
      }
    },
    {
      "cell_type": "markdown",
      "source": [
        "#### Chart - 15 - Pair Plot"
      ],
      "metadata": {
        "id": "q29F0dvdveiT"
      }
    },
    {
      "cell_type": "code",
      "source": [
        "# Pair Plot visualization code"
      ],
      "metadata": {
        "id": "o58-TEIhveiU"
      },
      "execution_count": null,
      "outputs": []
    },
    {
      "cell_type": "markdown",
      "source": [
        "##### 1. Why did you pick the specific chart?"
      ],
      "metadata": {
        "id": "EXh0U9oCveiU"
      }
    },
    {
      "cell_type": "markdown",
      "source": [
        "Answer Here."
      ],
      "metadata": {
        "id": "eMmPjTByveiU"
      }
    },
    {
      "cell_type": "markdown",
      "source": [
        "##### 2. What is/are the insight(s) found from the chart?"
      ],
      "metadata": {
        "id": "22aHeOlLveiV"
      }
    },
    {
      "cell_type": "markdown",
      "source": [
        "Answer Here"
      ],
      "metadata": {
        "id": "uPQ8RGwHveiV"
      }
    },
    {
      "cell_type": "markdown",
      "source": [
        "## ***5. Hypothesis Testing***"
      ],
      "metadata": {
        "id": "g-ATYxFrGrvw"
      }
    },
    {
      "cell_type": "markdown",
      "source": [
        "### Based on your chart experiments, define three hypothetical statements from the dataset. In the next three questions, perform hypothesis testing to obtain final conclusion about the statements through your code and statistical testing."
      ],
      "metadata": {
        "id": "Yfr_Vlr8HBkt"
      }
    },
    {
      "cell_type": "markdown",
      "source": [
        "Answer Here."
      ],
      "metadata": {
        "id": "-7MS06SUHkB-"
      }
    },
    {
      "cell_type": "markdown",
      "source": [
        "### Hypothetical Statement - 1"
      ],
      "metadata": {
        "id": "8yEUt7NnHlrM"
      }
    },
    {
      "cell_type": "markdown",
      "source": [
        "#### 1. State Your research hypothesis as a null hypothesis and alternate hypothesis."
      ],
      "metadata": {
        "id": "tEA2Xm5dHt1r"
      }
    },
    {
      "cell_type": "markdown",
      "source": [
        "Answer Here."
      ],
      "metadata": {
        "id": "HI9ZP0laH0D-"
      }
    },
    {
      "cell_type": "markdown",
      "source": [
        "#### 2. Perform an appropriate statistical test."
      ],
      "metadata": {
        "id": "I79__PHVH19G"
      }
    },
    {
      "cell_type": "code",
      "source": [
        "# Perform Statistical Test to obtain P-Value"
      ],
      "metadata": {
        "id": "oZrfquKtyian"
      },
      "execution_count": null,
      "outputs": []
    },
    {
      "cell_type": "markdown",
      "source": [
        "##### Which statistical test have you done to obtain P-Value?"
      ],
      "metadata": {
        "id": "Ou-I18pAyIpj"
      }
    },
    {
      "cell_type": "markdown",
      "source": [
        "Answer Here."
      ],
      "metadata": {
        "id": "s2U0kk00ygSB"
      }
    },
    {
      "cell_type": "markdown",
      "source": [
        "##### Why did you choose the specific statistical test?"
      ],
      "metadata": {
        "id": "fF3858GYyt-u"
      }
    },
    {
      "cell_type": "markdown",
      "source": [
        "Answer Here."
      ],
      "metadata": {
        "id": "HO4K0gP5y3B4"
      }
    },
    {
      "cell_type": "markdown",
      "source": [
        "### Hypothetical Statement - 2"
      ],
      "metadata": {
        "id": "4_0_7-oCpUZd"
      }
    },
    {
      "cell_type": "markdown",
      "source": [
        "#### 1. State Your research hypothesis as a null hypothesis and alternate hypothesis."
      ],
      "metadata": {
        "id": "hwyV_J3ipUZe"
      }
    },
    {
      "cell_type": "markdown",
      "source": [
        "Answer Here."
      ],
      "metadata": {
        "id": "FnpLGJ-4pUZe"
      }
    },
    {
      "cell_type": "markdown",
      "source": [
        "#### 2. Perform an appropriate statistical test."
      ],
      "metadata": {
        "id": "3yB-zSqbpUZe"
      }
    },
    {
      "cell_type": "code",
      "source": [
        "# Perform Statistical Test to obtain P-Value"
      ],
      "metadata": {
        "id": "sWxdNTXNpUZe"
      },
      "execution_count": null,
      "outputs": []
    },
    {
      "cell_type": "markdown",
      "source": [
        "##### Which statistical test have you done to obtain P-Value?"
      ],
      "metadata": {
        "id": "dEUvejAfpUZe"
      }
    },
    {
      "cell_type": "markdown",
      "source": [
        "Answer Here."
      ],
      "metadata": {
        "id": "oLDrPz7HpUZf"
      }
    },
    {
      "cell_type": "markdown",
      "source": [
        "##### Why did you choose the specific statistical test?"
      ],
      "metadata": {
        "id": "Fd15vwWVpUZf"
      }
    },
    {
      "cell_type": "markdown",
      "source": [
        "Answer Here."
      ],
      "metadata": {
        "id": "4xOGYyiBpUZf"
      }
    },
    {
      "cell_type": "markdown",
      "source": [
        "### Hypothetical Statement - 3"
      ],
      "metadata": {
        "id": "bn_IUdTipZyH"
      }
    },
    {
      "cell_type": "markdown",
      "source": [
        "#### 1. State Your research hypothesis as a null hypothesis and alternate hypothesis."
      ],
      "metadata": {
        "id": "49K5P_iCpZyH"
      }
    },
    {
      "cell_type": "markdown",
      "source": [
        "Answer Here."
      ],
      "metadata": {
        "id": "7gWI5rT9pZyH"
      }
    },
    {
      "cell_type": "markdown",
      "source": [
        "#### 2. Perform an appropriate statistical test."
      ],
      "metadata": {
        "id": "Nff-vKELpZyI"
      }
    },
    {
      "cell_type": "code",
      "source": [
        "# Perform Statistical Test to obtain P-Value"
      ],
      "metadata": {
        "id": "s6AnJQjtpZyI"
      },
      "execution_count": null,
      "outputs": []
    },
    {
      "cell_type": "markdown",
      "source": [
        "##### Which statistical test have you done to obtain P-Value?"
      ],
      "metadata": {
        "id": "kLW572S8pZyI"
      }
    },
    {
      "cell_type": "markdown",
      "source": [
        "Answer Here."
      ],
      "metadata": {
        "id": "ytWJ8v15pZyI"
      }
    },
    {
      "cell_type": "markdown",
      "source": [
        "##### Why did you choose the specific statistical test?"
      ],
      "metadata": {
        "id": "dWbDXHzopZyI"
      }
    },
    {
      "cell_type": "markdown",
      "source": [
        "Answer Here."
      ],
      "metadata": {
        "id": "M99G98V6pZyI"
      }
    },
    {
      "cell_type": "markdown",
      "source": [
        "## ***6. Feature Engineering & Data Pre-processing***"
      ],
      "metadata": {
        "id": "yLjJCtPM0KBk"
      }
    },
    {
      "cell_type": "markdown",
      "source": [
        "### 1. Handling Missing Values"
      ],
      "metadata": {
        "id": "xiyOF9F70UgQ"
      }
    },
    {
      "cell_type": "code",
      "source": [
        "# Handling Missing Values & Missing Value Imputation"
      ],
      "metadata": {
        "id": "iRsAHk1K0fpS"
      },
      "execution_count": null,
      "outputs": []
    },
    {
      "cell_type": "markdown",
      "source": [
        "#### What all missing value imputation techniques have you used and why did you use those techniques?"
      ],
      "metadata": {
        "id": "7wuGOrhz0itI"
      }
    },
    {
      "cell_type": "markdown",
      "source": [
        "Answer Here."
      ],
      "metadata": {
        "id": "1ixusLtI0pqI"
      }
    },
    {
      "cell_type": "markdown",
      "source": [
        "### 2. Handling Outliers"
      ],
      "metadata": {
        "id": "id1riN9m0vUs"
      }
    },
    {
      "cell_type": "code",
      "source": [
        "# Handling Outliers & Outlier treatments"
      ],
      "metadata": {
        "id": "M6w2CzZf04JK"
      },
      "execution_count": null,
      "outputs": []
    },
    {
      "cell_type": "markdown",
      "source": [
        "##### What all outlier treatment techniques have you used and why did you use those techniques?"
      ],
      "metadata": {
        "id": "578E2V7j08f6"
      }
    },
    {
      "cell_type": "markdown",
      "source": [
        "Answer Here."
      ],
      "metadata": {
        "id": "uGZz5OrT1HH-"
      }
    },
    {
      "cell_type": "markdown",
      "source": [
        "### 3. Categorical Encoding"
      ],
      "metadata": {
        "id": "89xtkJwZ18nB"
      }
    },
    {
      "cell_type": "code",
      "source": [
        "# Encode your categorical columns"
      ],
      "metadata": {
        "id": "21JmIYMG2hEo"
      },
      "execution_count": null,
      "outputs": []
    },
    {
      "cell_type": "markdown",
      "source": [
        "#### What all categorical encoding techniques have you used & why did you use those techniques?"
      ],
      "metadata": {
        "id": "67NQN5KX2AMe"
      }
    },
    {
      "cell_type": "markdown",
      "source": [
        "Answer Here."
      ],
      "metadata": {
        "id": "UDaue5h32n_G"
      }
    },
    {
      "cell_type": "markdown",
      "source": [
        "### 4. Textual Data Preprocessing\n",
        "(It's mandatory for textual dataset i.e., NLP, Sentiment Analysis, Text Clustering etc.)"
      ],
      "metadata": {
        "id": "Iwf50b-R2tYG"
      }
    },
    {
      "cell_type": "markdown",
      "source": [
        "#### 1. Expand Contraction"
      ],
      "metadata": {
        "id": "GMQiZwjn3iu7"
      }
    },
    {
      "cell_type": "code",
      "source": [
        "# Expand Contraction"
      ],
      "metadata": {
        "id": "PTouz10C3oNN"
      },
      "execution_count": null,
      "outputs": []
    },
    {
      "cell_type": "markdown",
      "source": [
        "#### 2. Lower Casing"
      ],
      "metadata": {
        "id": "WVIkgGqN3qsr"
      }
    },
    {
      "cell_type": "code",
      "source": [
        "# Lower Casing"
      ],
      "metadata": {
        "id": "88JnJ1jN3w7j"
      },
      "execution_count": null,
      "outputs": []
    },
    {
      "cell_type": "markdown",
      "source": [
        "#### 3. Removing Punctuations"
      ],
      "metadata": {
        "id": "XkPnILGE3zoT"
      }
    },
    {
      "cell_type": "code",
      "source": [
        "# Remove Punctuations"
      ],
      "metadata": {
        "id": "vqbBqNaA33c0"
      },
      "execution_count": null,
      "outputs": []
    },
    {
      "cell_type": "markdown",
      "source": [
        "#### 4. Removing URLs & Removing words and digits contain digits."
      ],
      "metadata": {
        "id": "Hlsf0x5436Go"
      }
    },
    {
      "cell_type": "code",
      "source": [
        "# Remove URLs & Remove words and digits contain digits"
      ],
      "metadata": {
        "id": "2sxKgKxu4Ip3"
      },
      "execution_count": null,
      "outputs": []
    },
    {
      "cell_type": "markdown",
      "source": [
        "#### 5. Removing Stopwords & Removing White spaces"
      ],
      "metadata": {
        "id": "mT9DMSJo4nBL"
      }
    },
    {
      "cell_type": "code",
      "source": [
        "# Remove Stopwords"
      ],
      "metadata": {
        "id": "T2LSJh154s8W"
      },
      "execution_count": null,
      "outputs": []
    },
    {
      "cell_type": "code",
      "source": [
        "# Remove White spaces"
      ],
      "metadata": {
        "id": "EgLJGffy4vm0"
      },
      "execution_count": null,
      "outputs": []
    },
    {
      "cell_type": "markdown",
      "source": [
        "#### 6. Rephrase Text"
      ],
      "metadata": {
        "id": "c49ITxTc407N"
      }
    },
    {
      "cell_type": "code",
      "source": [
        "# Rephrase Text"
      ],
      "metadata": {
        "id": "foqY80Qu48N2"
      },
      "execution_count": null,
      "outputs": []
    },
    {
      "cell_type": "markdown",
      "source": [
        "#### 7. Tokenization"
      ],
      "metadata": {
        "id": "OeJFEK0N496M"
      }
    },
    {
      "cell_type": "code",
      "source": [
        "# Tokenization"
      ],
      "metadata": {
        "id": "ijx1rUOS5CUU"
      },
      "execution_count": null,
      "outputs": []
    },
    {
      "cell_type": "markdown",
      "source": [
        "#### 8. Text Normalization"
      ],
      "metadata": {
        "id": "9ExmJH0g5HBk"
      }
    },
    {
      "cell_type": "code",
      "source": [
        "# Normalizing Text (i.e., Stemming, Lemmatization etc.)"
      ],
      "metadata": {
        "id": "AIJ1a-Zc5PY8"
      },
      "execution_count": null,
      "outputs": []
    },
    {
      "cell_type": "markdown",
      "source": [
        "##### Which text normalization technique have you used and why?"
      ],
      "metadata": {
        "id": "cJNqERVU536h"
      }
    },
    {
      "cell_type": "markdown",
      "source": [
        "Answer Here."
      ],
      "metadata": {
        "id": "Z9jKVxE06BC1"
      }
    },
    {
      "cell_type": "markdown",
      "source": [
        "#### 9. Part of speech tagging"
      ],
      "metadata": {
        "id": "k5UmGsbsOxih"
      }
    },
    {
      "cell_type": "code",
      "source": [
        "# POS Taging"
      ],
      "metadata": {
        "id": "btT3ZJBAO6Ik"
      },
      "execution_count": null,
      "outputs": []
    },
    {
      "cell_type": "markdown",
      "source": [
        "#### 10. Text Vectorization"
      ],
      "metadata": {
        "id": "T0VqWOYE6DLQ"
      }
    },
    {
      "cell_type": "code",
      "source": [
        "# Vectorizing Text"
      ],
      "metadata": {
        "id": "yBRtdhth6JDE"
      },
      "execution_count": null,
      "outputs": []
    },
    {
      "cell_type": "markdown",
      "source": [
        "##### Which text vectorization technique have you used and why?"
      ],
      "metadata": {
        "id": "qBMux9mC6MCf"
      }
    },
    {
      "cell_type": "markdown",
      "source": [
        "Answer Here."
      ],
      "metadata": {
        "id": "su2EnbCh6UKQ"
      }
    },
    {
      "cell_type": "markdown",
      "source": [
        "### 4. Feature Manipulation & Selection"
      ],
      "metadata": {
        "id": "-oLEiFgy-5Pf"
      }
    },
    {
      "cell_type": "markdown",
      "source": [
        "#### 1. Feature Manipulation"
      ],
      "metadata": {
        "id": "C74aWNz2AliB"
      }
    },
    {
      "cell_type": "code",
      "source": [
        "# Manipulate Features to minimize feature correlation and create new features"
      ],
      "metadata": {
        "id": "h1qC4yhBApWC"
      },
      "execution_count": null,
      "outputs": []
    },
    {
      "cell_type": "markdown",
      "source": [
        "#### 2. Feature Selection"
      ],
      "metadata": {
        "id": "2DejudWSA-a0"
      }
    },
    {
      "cell_type": "code",
      "source": [
        "# Select your features wisely to avoid overfitting"
      ],
      "metadata": {
        "id": "YLhe8UmaBCEE"
      },
      "execution_count": null,
      "outputs": []
    },
    {
      "cell_type": "markdown",
      "source": [
        "##### What all feature selection methods have you used  and why?"
      ],
      "metadata": {
        "id": "pEMng2IbBLp7"
      }
    },
    {
      "cell_type": "markdown",
      "source": [
        "Answer Here."
      ],
      "metadata": {
        "id": "rb2Lh6Z8BgGs"
      }
    },
    {
      "cell_type": "markdown",
      "source": [
        "##### Which all features you found important and why?"
      ],
      "metadata": {
        "id": "rAdphbQ9Bhjc"
      }
    },
    {
      "cell_type": "markdown",
      "source": [
        "Answer Here."
      ],
      "metadata": {
        "id": "fGgaEstsBnaf"
      }
    },
    {
      "cell_type": "markdown",
      "source": [
        "### 5. Data Transformation"
      ],
      "metadata": {
        "id": "TNVZ9zx19K6k"
      }
    },
    {
      "cell_type": "markdown",
      "source": [
        "#### Do you think that your data needs to be transformed? If yes, which transformation have you used. Explain Why?"
      ],
      "metadata": {
        "id": "nqoHp30x9hH9"
      }
    },
    {
      "cell_type": "code",
      "source": [
        "# Transform Your data"
      ],
      "metadata": {
        "id": "I6quWQ1T9rtH"
      },
      "execution_count": null,
      "outputs": []
    },
    {
      "cell_type": "markdown",
      "source": [
        "### 6. Data Scaling"
      ],
      "metadata": {
        "id": "rMDnDkt2B6du"
      }
    },
    {
      "cell_type": "code",
      "source": [
        "# Scaling your data"
      ],
      "metadata": {
        "id": "dL9LWpySC6x_"
      },
      "execution_count": null,
      "outputs": []
    },
    {
      "cell_type": "markdown",
      "source": [
        "##### Which method have you used to scale you data and why?"
      ],
      "metadata": {
        "id": "yiiVWRdJDDil"
      }
    },
    {
      "cell_type": "markdown",
      "source": [
        "### 7. Dimesionality Reduction"
      ],
      "metadata": {
        "id": "1UUpS68QDMuG"
      }
    },
    {
      "cell_type": "markdown",
      "source": [
        "##### Do you think that dimensionality reduction is needed? Explain Why?"
      ],
      "metadata": {
        "id": "kexQrXU-DjzY"
      }
    },
    {
      "cell_type": "markdown",
      "source": [
        "Answer Here."
      ],
      "metadata": {
        "id": "GGRlBsSGDtTQ"
      }
    },
    {
      "cell_type": "code",
      "source": [
        "# DImensionality Reduction (If needed)"
      ],
      "metadata": {
        "id": "kQfvxBBHDvCa"
      },
      "execution_count": null,
      "outputs": []
    },
    {
      "cell_type": "markdown",
      "source": [
        "##### Which dimensionality reduction technique have you used and why? (If dimensionality reduction done on dataset.)"
      ],
      "metadata": {
        "id": "T5CmagL3EC8N"
      }
    },
    {
      "cell_type": "markdown",
      "source": [
        "Answer Here."
      ],
      "metadata": {
        "id": "ZKr75IDuEM7t"
      }
    },
    {
      "cell_type": "markdown",
      "source": [
        "### 8. Data Splitting"
      ],
      "metadata": {
        "id": "BhH2vgX9EjGr"
      }
    },
    {
      "cell_type": "code",
      "source": [
        "# Split your data to train and test. Choose Splitting ratio wisely."
      ],
      "metadata": {
        "id": "0CTyd2UwEyNM"
      },
      "execution_count": null,
      "outputs": []
    },
    {
      "cell_type": "markdown",
      "source": [
        "##### What data splitting ratio have you used and why?"
      ],
      "metadata": {
        "id": "qjKvONjwE8ra"
      }
    },
    {
      "cell_type": "markdown",
      "source": [
        "Answer Here."
      ],
      "metadata": {
        "id": "Y2lJ8cobFDb_"
      }
    },
    {
      "cell_type": "markdown",
      "source": [
        "### 9. Handling Imbalanced Dataset"
      ],
      "metadata": {
        "id": "P1XJ9OREExlT"
      }
    },
    {
      "cell_type": "markdown",
      "source": [
        "##### Do you think the dataset is imbalanced? Explain Why."
      ],
      "metadata": {
        "id": "VFOzZv6IFROw"
      }
    },
    {
      "cell_type": "markdown",
      "source": [
        "Answer Here."
      ],
      "metadata": {
        "id": "GeKDIv7pFgcC"
      }
    },
    {
      "cell_type": "code",
      "source": [
        "# Handling Imbalanced Dataset (If needed)"
      ],
      "metadata": {
        "id": "nQsRhhZLFiDs"
      },
      "execution_count": null,
      "outputs": []
    },
    {
      "cell_type": "markdown",
      "source": [
        "##### What technique did you use to handle the imbalance dataset and why? (If needed to be balanced)"
      ],
      "metadata": {
        "id": "TIqpNgepFxVj"
      }
    },
    {
      "cell_type": "markdown",
      "source": [
        "Answer Here."
      ],
      "metadata": {
        "id": "qbet1HwdGDTz"
      }
    },
    {
      "cell_type": "markdown",
      "source": [
        "## ***7. ML Model Implementation***"
      ],
      "metadata": {
        "id": "VfCC591jGiD4"
      }
    },
    {
      "cell_type": "markdown",
      "source": [
        "### ML Model - 1"
      ],
      "metadata": {
        "id": "OB4l2ZhMeS1U"
      }
    },
    {
      "cell_type": "code",
      "source": [
        "# ML Model - 1 Implementation\n",
        "\n",
        "# Fit the Algorithm\n",
        "\n",
        "# Predict on the model"
      ],
      "metadata": {
        "id": "7ebyywQieS1U"
      },
      "execution_count": null,
      "outputs": []
    },
    {
      "cell_type": "markdown",
      "source": [
        "#### 1. Explain the ML Model used and it's performance using Evaluation metric Score Chart."
      ],
      "metadata": {
        "id": "ArJBuiUVfxKd"
      }
    },
    {
      "cell_type": "code",
      "source": [
        "# Visualizing evaluation Metric Score chart"
      ],
      "metadata": {
        "id": "rqD5ZohzfxKe"
      },
      "execution_count": null,
      "outputs": []
    },
    {
      "cell_type": "markdown",
      "source": [
        "#### 2. Cross- Validation & Hyperparameter Tuning"
      ],
      "metadata": {
        "id": "4qY1EAkEfxKe"
      }
    },
    {
      "cell_type": "code",
      "source": [
        "# ML Model - 1 Implementation with hyperparameter optimization techniques (i.e., GridSearch CV, RandomSearch CV, Bayesian Optimization etc.)\n",
        "\n",
        "# Fit the Algorithm\n",
        "\n",
        "# Predict on the model"
      ],
      "metadata": {
        "id": "Dy61ujd6fxKe"
      },
      "execution_count": null,
      "outputs": []
    },
    {
      "cell_type": "markdown",
      "source": [
        "##### Which hyperparameter optimization technique have you used and why?"
      ],
      "metadata": {
        "id": "PiV4Ypx8fxKe"
      }
    },
    {
      "cell_type": "markdown",
      "source": [
        "Answer Here."
      ],
      "metadata": {
        "id": "negyGRa7fxKf"
      }
    },
    {
      "cell_type": "markdown",
      "source": [
        "##### Have you seen any improvement? Note down the improvement with updates Evaluation metric Score Chart."
      ],
      "metadata": {
        "id": "TfvqoZmBfxKf"
      }
    },
    {
      "cell_type": "markdown",
      "source": [
        "Answer Here."
      ],
      "metadata": {
        "id": "OaLui8CcfxKf"
      }
    },
    {
      "cell_type": "markdown",
      "source": [
        "### ML Model - 2"
      ],
      "metadata": {
        "id": "dJ2tPlVmpsJ0"
      }
    },
    {
      "cell_type": "markdown",
      "source": [
        "#### 1. Explain the ML Model used and it's performance using Evaluation metric Score Chart."
      ],
      "metadata": {
        "id": "JWYfwnehpsJ1"
      }
    },
    {
      "cell_type": "code",
      "source": [
        "# Visualizing evaluation Metric Score chart"
      ],
      "metadata": {
        "id": "yEl-hgQWpsJ1"
      },
      "execution_count": null,
      "outputs": []
    },
    {
      "cell_type": "markdown",
      "source": [
        "#### 2. Cross- Validation & Hyperparameter Tuning"
      ],
      "metadata": {
        "id": "-jK_YjpMpsJ2"
      }
    },
    {
      "cell_type": "code",
      "source": [
        "# ML Model - 1 Implementation with hyperparameter optimization techniques (i.e., GridSearch CV, RandomSearch CV, Bayesian Optimization etc.)\n",
        "\n",
        "# Fit the Algorithm\n",
        "\n",
        "# Predict on the model"
      ],
      "metadata": {
        "id": "Dn0EOfS6psJ2"
      },
      "execution_count": null,
      "outputs": []
    },
    {
      "cell_type": "markdown",
      "source": [
        "##### Which hyperparameter optimization technique have you used and why?"
      ],
      "metadata": {
        "id": "HAih1iBOpsJ2"
      }
    },
    {
      "cell_type": "markdown",
      "source": [
        "Answer Here."
      ],
      "metadata": {
        "id": "9kBgjYcdpsJ2"
      }
    },
    {
      "cell_type": "markdown",
      "source": [
        "##### Have you seen any improvement? Note down the improvement with updates Evaluation metric Score Chart."
      ],
      "metadata": {
        "id": "zVGeBEFhpsJ2"
      }
    },
    {
      "cell_type": "markdown",
      "source": [
        "Answer Here."
      ],
      "metadata": {
        "id": "74yRdG6UpsJ3"
      }
    },
    {
      "cell_type": "markdown",
      "source": [
        "#### 3. Explain each evaluation metric's indication towards business and the business impact pf the ML model used."
      ],
      "metadata": {
        "id": "bmKjuQ-FpsJ3"
      }
    },
    {
      "cell_type": "markdown",
      "source": [
        "Answer Here."
      ],
      "metadata": {
        "id": "BDKtOrBQpsJ3"
      }
    },
    {
      "cell_type": "markdown",
      "source": [
        "### ML Model - 3"
      ],
      "metadata": {
        "id": "Fze-IPXLpx6K"
      }
    },
    {
      "cell_type": "code",
      "source": [
        "# ML Model - 3 Implementation\n",
        "\n",
        "# Fit the Algorithm\n",
        "\n",
        "# Predict on the model"
      ],
      "metadata": {
        "id": "FFrSXAtrpx6M"
      },
      "execution_count": null,
      "outputs": []
    },
    {
      "cell_type": "markdown",
      "source": [
        "#### 1. Explain the ML Model used and it's performance using Evaluation metric Score Chart."
      ],
      "metadata": {
        "id": "7AN1z2sKpx6M"
      }
    },
    {
      "cell_type": "code",
      "source": [
        "# Visualizing evaluation Metric Score chart"
      ],
      "metadata": {
        "id": "xIY4lxxGpx6M"
      },
      "execution_count": null,
      "outputs": []
    },
    {
      "cell_type": "markdown",
      "source": [
        "#### 2. Cross- Validation & Hyperparameter Tuning"
      ],
      "metadata": {
        "id": "9PIHJqyupx6M"
      }
    },
    {
      "cell_type": "code",
      "source": [
        "# ML Model - 3 Implementation with hyperparameter optimization techniques (i.e., GridSearch CV, RandomSearch CV, Bayesian Optimization etc.)\n",
        "\n",
        "# Fit the Algorithm\n",
        "\n",
        "# Predict on the model"
      ],
      "metadata": {
        "id": "eSVXuaSKpx6M"
      },
      "execution_count": null,
      "outputs": []
    },
    {
      "cell_type": "markdown",
      "source": [
        "##### Which hyperparameter optimization technique have you used and why?"
      ],
      "metadata": {
        "id": "_-qAgymDpx6N"
      }
    },
    {
      "cell_type": "markdown",
      "source": [
        "Answer Here."
      ],
      "metadata": {
        "id": "lQMffxkwpx6N"
      }
    },
    {
      "cell_type": "markdown",
      "source": [
        "##### Have you seen any improvement? Note down the improvement with updates Evaluation metric Score Chart."
      ],
      "metadata": {
        "id": "Z-hykwinpx6N"
      }
    },
    {
      "cell_type": "markdown",
      "source": [
        "Answer Here."
      ],
      "metadata": {
        "id": "MzVzZC6opx6N"
      }
    },
    {
      "cell_type": "markdown",
      "source": [
        "### 1. Which Evaluation metrics did you consider for a positive business impact and why?"
      ],
      "metadata": {
        "id": "h_CCil-SKHpo"
      }
    },
    {
      "cell_type": "markdown",
      "source": [
        "Answer Here."
      ],
      "metadata": {
        "id": "jHVz9hHDKFms"
      }
    },
    {
      "cell_type": "markdown",
      "source": [
        "### 2. Which ML model did you choose from the above created models as your final prediction model and why?"
      ],
      "metadata": {
        "id": "cBFFvTBNJzUa"
      }
    },
    {
      "cell_type": "markdown",
      "source": [
        "Answer Here."
      ],
      "metadata": {
        "id": "6ksF5Q1LKTVm"
      }
    },
    {
      "cell_type": "markdown",
      "source": [
        "### 3. Explain the model which you have used and the feature importance using any model explainability tool?"
      ],
      "metadata": {
        "id": "HvGl1hHyA_VK"
      }
    },
    {
      "cell_type": "markdown",
      "source": [
        "Answer Here."
      ],
      "metadata": {
        "id": "YnvVTiIxBL-C"
      }
    },
    {
      "cell_type": "markdown",
      "source": [
        "## ***8.*** ***Future Work (Optional)***"
      ],
      "metadata": {
        "id": "EyNgTHvd2WFk"
      }
    },
    {
      "cell_type": "markdown",
      "source": [
        "### 1. Save the best performing ml model in a pickle file or joblib file format for deployment process.\n"
      ],
      "metadata": {
        "id": "KH5McJBi2d8v"
      }
    },
    {
      "cell_type": "code",
      "source": [
        "# Save the File"
      ],
      "metadata": {
        "id": "bQIANRl32f4J"
      },
      "execution_count": null,
      "outputs": []
    },
    {
      "cell_type": "markdown",
      "source": [
        "### 2. Again Load the saved model file and try to predict unseen data for a sanity check.\n"
      ],
      "metadata": {
        "id": "iW_Lq9qf2h6X"
      }
    },
    {
      "cell_type": "code",
      "source": [
        "# Load the File and predict unseen data."
      ],
      "metadata": {
        "id": "oEXk9ydD2nVC"
      },
      "execution_count": null,
      "outputs": []
    },
    {
      "cell_type": "markdown",
      "source": [
        "### ***Congrats! Your model is successfully created and ready for deployment on a live server for a real user interaction !!!***"
      ],
      "metadata": {
        "id": "-Kee-DAl2viO"
      }
    },
    {
      "cell_type": "markdown",
      "source": [
        "# **Conclusion**"
      ],
      "metadata": {
        "id": "gCX9965dhzqZ"
      }
    },
    {
      "cell_type": "markdown",
      "source": [
        "Write the conclusion here."
      ],
      "metadata": {
        "id": "Fjb1IsQkh3yE"
      }
    },
    {
      "cell_type": "markdown",
      "source": [
        "### ***Hurrah! You have successfully completed your Machine Learning Capstone Project !!!***"
      ],
      "metadata": {
        "id": "gIfDvo9L0UH2"
      }
    }
  ]
}