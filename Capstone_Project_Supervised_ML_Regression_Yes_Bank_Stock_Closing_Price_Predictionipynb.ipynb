{
  "nbformat": 4,
  "nbformat_minor": 0,
  "metadata": {
    "colab": {
      "provenance": [],
      "collapsed_sections": [
        "vncDsAP0Gaoa",
        "FJNUwmbgGyua",
        "w6K7xa23Elo4",
        "yQaldy8SH6Dl",
        "mDgbUHAGgjLW",
        "O_i_v8NEhb9l",
        "HhfV-JJviCcP",
        "Y3lxredqlCYt",
        "3RnN4peoiCZX",
        "x71ZqKXriCWQ",
        "7hBIi_osiCS2",
        "JlHwYmJAmNHm",
        "35m5QtbWiB9F",
        "PoPl-ycgm1ru",
        "H0kj-8xxnORC",
        "nA9Y7ga8ng1Z",
        "PBTbrJXOngz2",
        "u3PMJOP6ngxN",
        "dauF4eBmngu3",
        "bKJF3rekwFvQ",
        "MSa1f5Uengrz",
        "GF8Ens_Soomf",
        "0wOQAZs5pc--",
        "K5QZ13OEpz2H",
        "lQ7QKXXCp7Bj",
        "448CDAPjqfQr",
        "KSlN3yHqYklG",
        "t6dVpIINYklI",
        "ijmpgYnKYklI",
        "-JiQyfWJYklI",
        "EM7whBJCYoAo",
        "fge-S5ZAYoAp",
        "85gYPyotYoAp",
        "RoGjAbkUYoAp",
        "4Of9eVA-YrdM",
        "iky9q4vBYrdO",
        "F6T5p64dYrdO",
        "y-Ehk30pYrdP",
        "bamQiAODYuh1",
        "QHF8YVU7Yuh3",
        "GwzvFGzlYuh3",
        "qYpmQ266Yuh3",
        "OH-pJp9IphqM",
        "bbFf2-_FphqN",
        "_ouA3fa0phqN",
        "Seke61FWphqN",
        "PIIx-8_IphqN",
        "t27r6nlMphqO",
        "r2jJGEOYphqO",
        "b0JNsNcRphqO",
        "BZR9WyysphqO",
        "jj7wYXLtphqO",
        "eZrbJ2SmphqO",
        "rFu4xreNphqO",
        "YJ55k-q6phqO",
        "gCFgpxoyphqP",
        "OVtJsKN_phqQ",
        "lssrdh5qphqQ",
        "U2RJ9gkRphqQ",
        "1M8mcRywphqQ",
        "tgIPom80phqQ",
        "JMzcOPDDphqR",
        "x-EpHcCOp1ci",
        "X_VqEhTip1ck",
        "8zGJKyg5p1ck",
        "PVzmfK_Ep1ck",
        "n3dbpmDWp1ck",
        "ylSl6qgtp1ck",
        "ZWILFDl5p1ck",
        "M7G43BXep1ck",
        "Ag9LCva-p1cl",
        "E6MkPsBcp1cl",
        "2cELzS2fp1cl",
        "3MPXvC8up1cl",
        "NC_X3p0fY2L0",
        "UV0SzAkaZNRQ",
        "YPEH6qLeZNRQ",
        "q29F0dvdveiT",
        "EXh0U9oCveiU",
        "22aHeOlLveiV",
        "g-ATYxFrGrvw",
        "Yfr_Vlr8HBkt",
        "8yEUt7NnHlrM",
        "tEA2Xm5dHt1r",
        "I79__PHVH19G",
        "Ou-I18pAyIpj",
        "fF3858GYyt-u",
        "4_0_7-oCpUZd",
        "hwyV_J3ipUZe",
        "3yB-zSqbpUZe",
        "dEUvejAfpUZe",
        "Fd15vwWVpUZf",
        "bn_IUdTipZyH",
        "49K5P_iCpZyH",
        "Nff-vKELpZyI",
        "kLW572S8pZyI",
        "dWbDXHzopZyI",
        "yLjJCtPM0KBk",
        "xiyOF9F70UgQ",
        "7wuGOrhz0itI",
        "id1riN9m0vUs",
        "578E2V7j08f6",
        "89xtkJwZ18nB",
        "67NQN5KX2AMe",
        "Iwf50b-R2tYG",
        "GMQiZwjn3iu7",
        "WVIkgGqN3qsr",
        "XkPnILGE3zoT",
        "Hlsf0x5436Go",
        "mT9DMSJo4nBL",
        "c49ITxTc407N",
        "OeJFEK0N496M",
        "9ExmJH0g5HBk",
        "cJNqERVU536h",
        "k5UmGsbsOxih",
        "T0VqWOYE6DLQ",
        "qBMux9mC6MCf",
        "-oLEiFgy-5Pf",
        "C74aWNz2AliB",
        "2DejudWSA-a0",
        "pEMng2IbBLp7",
        "rAdphbQ9Bhjc",
        "TNVZ9zx19K6k",
        "nqoHp30x9hH9",
        "rMDnDkt2B6du",
        "yiiVWRdJDDil",
        "1UUpS68QDMuG",
        "kexQrXU-DjzY",
        "T5CmagL3EC8N",
        "BhH2vgX9EjGr",
        "qjKvONjwE8ra",
        "P1XJ9OREExlT",
        "VFOzZv6IFROw",
        "TIqpNgepFxVj",
        "VfCC591jGiD4",
        "OB4l2ZhMeS1U",
        "ArJBuiUVfxKd",
        "4qY1EAkEfxKe",
        "PiV4Ypx8fxKe",
        "TfvqoZmBfxKf",
        "dJ2tPlVmpsJ0",
        "JWYfwnehpsJ1",
        "-jK_YjpMpsJ2",
        "HAih1iBOpsJ2",
        "zVGeBEFhpsJ2",
        "bmKjuQ-FpsJ3",
        "Fze-IPXLpx6K",
        "7AN1z2sKpx6M",
        "9PIHJqyupx6M",
        "_-qAgymDpx6N",
        "Z-hykwinpx6N",
        "h_CCil-SKHpo",
        "cBFFvTBNJzUa",
        "HvGl1hHyA_VK",
        "EyNgTHvd2WFk",
        "KH5McJBi2d8v",
        "iW_Lq9qf2h6X",
        "-Kee-DAl2viO",
        "gCX9965dhzqZ",
        "gIfDvo9L0UH2"
      ],
      "include_colab_link": true
    },
    "kernelspec": {
      "name": "python3",
      "display_name": "Python 3"
    },
    "language_info": {
      "name": "python"
    }
  },
  "cells": [
    {
      "cell_type": "markdown",
      "metadata": {
        "id": "view-in-github",
        "colab_type": "text"
      },
      "source": [
        "<a href=\"https://colab.research.google.com/github/RobinBose774/Capstone_Project_Supervised_ML_Regression-Yes_Bank_Stock_Closing_Price_Prediction/blob/main/Capstone_Project_Supervised_ML_Regression_Yes_Bank_Stock_Closing_Price_Predictionipynb.ipynb\" target=\"_parent\"><img src=\"https://colab.research.google.com/assets/colab-badge.svg\" alt=\"Open In Colab\"/></a>"
      ]
    },
    {
      "cell_type": "markdown",
      "source": [
        "# **Project Name**    - Capstone_Project_Supervised_ML_Regression-Yes_Bank_Stock_Closing_Price_Prediction\n",
        "\n"
      ],
      "metadata": {
        "id": "vncDsAP0Gaoa"
      }
    },
    {
      "cell_type": "markdown",
      "source": [
        "##### **Project Type**    - Regression\n",
        "##### **Contribution**    - Individual\n",
        "##### **Team Member 1 -** Robin Bose\n"
      ],
      "metadata": {
        "id": "beRrZCGUAJYm"
      }
    },
    {
      "cell_type": "markdown",
      "source": [
        "# **Project Summary -**"
      ],
      "metadata": {
        "id": "FJNUwmbgGyua"
      }
    },
    {
      "cell_type": "markdown",
      "source": [
        "![Yes_Bank_SVG_Logo.svg.png](data:image/png;base64,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)"
      ],
      "metadata": {
        "id": "AQ70zn4rsjhz"
      }
    },
    {
      "cell_type": "markdown",
      "source": [
        "This project aims to address the challenge of predicting the closing price of Yes Bank's stock, which is a crucial task for stakeholders, investors, and market participants. Yes Bank, as a prominent private sector bank in India, has encountered significant hurdles in recent years, including a substantial number of bad loans and involvement in fraud cases. These challenges have led to regulatory intervention by the Reserve Bank of India, making the prediction of Yes Bank's stock prices complex and uncertain.\n",
        "\n",
        "To tackle this challenge, the project utilizes a comprehensive dataset comprising monthly stock price data since the bank's inception. The dataset includes various important metrics such as the closing, starting, highest, and lowest prices for each month. The objective is to develop predictive models that can effectively capture the intricate dynamics and trends in Yes Bank's stock prices, taking into account the turbulent events and uncertainties associated with the bank's performance.\n",
        "\n",
        "The project involves applying various modeling techniques, including time series models regression methods. The goal is to evaluate the performance of these models in accurately forecasting the closing price of Yes Bank's stock. Additionally, the models will be assessed on their ability to incorporate the impact of significant events, such as fraud cases involving the bank's founders or regulatory interventions by the Reserve Bank of India.\n",
        "\n",
        "By successfully predicting the closing price of Yes Bank's stock, this project can provide valuable insights and assist stakeholders in making informed decisions related to their investments in the bank. It aims to navigate the complexities and uncertainties surrounding Yes Bank's stock prices, ultimately contributing to the understanding of its financial performance and aiding in effective decision-making."
      ],
      "metadata": {
        "id": "F6v_1wHtG2nS"
      }
    },
    {
      "cell_type": "markdown",
      "source": [
        "# **GitHub Link -**"
      ],
      "metadata": {
        "id": "w6K7xa23Elo4"
      }
    },
    {
      "cell_type": "markdown",
      "source": [
        "https://github.com/RobinBose774/Capstone_Project_Supervised_ML_Regression-Yes_Bank_Stock_Closing_Price_Prediction"
      ],
      "metadata": {
        "id": "h1o69JH3Eqqn"
      }
    },
    {
      "cell_type": "markdown",
      "source": [
        "# **Problem Statement**\n"
      ],
      "metadata": {
        "id": "yQaldy8SH6Dl"
      }
    },
    {
      "cell_type": "markdown",
      "source": [
        "The main objective of this project is to develop a robust and accurate predictive model that can effectively forecast the closing price of Yes Bank's stock. The challenge lies in understanding and capturing the complex dynamics and trends in the stock prices, considering various factors such as the historical trend of an increasing price followed by a sudden decline after 2018.\n",
        "\n",
        "One of the key challenges in developing the predictive model is addressing the issue of multicollinearity present in the dataset. Multicollinearity occurs when there is a high correlation between independent variables, which can lead to difficulties in interpreting the model and can affect the accuracy of the predictions. Therefore, the model should incorporate techniques to handle multicollinearity and ensure that the independent variables are appropriately considered in the prediction process.\n",
        "\n",
        "Furthermore, the model should account for significant events that have had an impact on Yes Bank's stock performance. This includes events such as fraud cases involving the bank's founders and regulatory interventions by the Reserve Bank of India. These events can significantly influence the stock prices, and it is crucial for the predictive model to capture and reflect their effects accurately.\n",
        "\n",
        "In terms of performance, the model should aim for a high level of accuracy in forecasting the closing price of Yes Bank's stock. The 99% accuracy achieved by the K-Nearest Neighbors (KNN) Regression model serves as a benchmark, indicating the target accuracy that the developed model should strive to achieve. By achieving high accuracy, the predictive model can provide valuable insights to stakeholders, investors, and market participants, enabling them to make informed decisions and effectively manage their investments in Yes Bank's stock.\n",
        "\n",
        "Overall, this project seeks to develop a predictive model that addresses the complexities and challenges associated with forecasting Yes Bank's stock prices. The ultimate goal is to provide stakeholders with a reliable tool that can enhance their understanding of the stock's future performance and support them in making well-informed investment decisions."
      ],
      "metadata": {
        "id": "DpeJGUA3kjGy"
      }
    },
    {
      "cell_type": "markdown",
      "source": [
        "# **General Guidelines** : -  "
      ],
      "metadata": {
        "id": "mDgbUHAGgjLW"
      }
    },
    {
      "cell_type": "markdown",
      "source": [
        "1.   Well-structured, formatted, and commented code is required.\n",
        "2.   Exception Handling, Production Grade Code & Deployment Ready Code will be a plus. Those students will be awarded some additional credits.\n",
        "     \n",
        "     The additional credits will have advantages over other students during Star Student selection.\n",
        "       \n",
        "             [ Note: - Deployment Ready Code is defined as, the whole .ipynb notebook should be executable in one go\n",
        "                       without a single error logged. ]\n",
        "\n",
        "3.   Each and every logic should have proper comments.\n",
        "4. You may add as many number of charts you want. Make Sure for each and every chart the following format should be answered.\n",
        "        \n",
        "\n",
        "```\n",
        "# Chart visualization code\n",
        "```\n",
        "            \n",
        "\n",
        "*   Why did you pick the specific chart?\n",
        "*   What is/are the insight(s) found from the chart?\n",
        "* Will the gained insights help creating a positive business impact?\n",
        "Are there any insights that lead to negative growth? Justify with specific reason.\n",
        "\n",
        "5. You have to create at least 15 logical & meaningful charts having important insights.\n",
        "\n",
        "\n",
        "[ Hints : - Do the Vizualization in  a structured way while following \"UBM\" Rule.\n",
        "\n",
        "U - Univariate Analysis,\n",
        "\n",
        "B - Bivariate Analysis (Numerical - Categorical, Numerical - Numerical, Categorical - Categorical)\n",
        "\n",
        "M - Multivariate Analysis\n",
        " ]\n",
        "\n",
        "\n",
        "\n",
        "\n",
        "\n",
        "6. You may add more ml algorithms for model creation. Make sure for each and every algorithm, the following format should be answered.\n",
        "\n",
        "\n",
        "*   Explain the ML Model used and it's performance using Evaluation metric Score Chart.\n",
        "\n",
        "\n",
        "*   Cross- Validation & Hyperparameter Tuning\n",
        "\n",
        "*   Have you seen any improvement? Note down the improvement with updates Evaluation metric Score Chart.\n",
        "\n",
        "*   Explain each evaluation metric's indication towards business and the business impact pf the ML model used.\n",
        "\n",
        "\n",
        "\n",
        "\n",
        "\n",
        "\n",
        "\n",
        "\n",
        "\n",
        "\n",
        "\n",
        "\n",
        "\n",
        "\n",
        "\n",
        "\n",
        "\n",
        "\n"
      ],
      "metadata": {
        "id": "ZrxVaUj-hHfC"
      }
    },
    {
      "cell_type": "markdown",
      "source": [
        "# ***Let's Begin !***"
      ],
      "metadata": {
        "id": "O_i_v8NEhb9l"
      }
    },
    {
      "cell_type": "markdown",
      "source": [
        "## ***1. Know Your Data***"
      ],
      "metadata": {
        "id": "HhfV-JJviCcP"
      }
    },
    {
      "cell_type": "markdown",
      "source": [
        "### Import Libraries"
      ],
      "metadata": {
        "id": "Y3lxredqlCYt"
      }
    },
    {
      "cell_type": "code",
      "source": [
        "# Import necessary libraries\n",
        "\n",
        "# Import NumPy for numerical computations\n",
        "import numpy as np\n",
        "\n",
        "# Import Pandas for data manipulation and analysis\n",
        "import pandas as pd\n",
        "\n",
        "# Import Matplotlib for basic data visualization\n",
        "import matplotlib.pyplot as plt\n",
        "\n",
        "# Import Seaborn for advanced statistical visualizations\n",
        "import seaborn as sns\n",
        "\n",
        "# Import Plotly graph objects for interactive visualizations\n",
        "import plotly.graph_objects as go\n",
        "\n",
        "# Import the datetime module for working with dates and times\n",
        "from datetime import datetime\n",
        "\n",
        "# Import warnings module to ignore potential warnings\n",
        "import warnings"
      ],
      "metadata": {
        "id": "M8Vqi-pPk-HR"
      },
      "execution_count": null,
      "outputs": []
    },
    {
      "cell_type": "markdown",
      "source": [
        "### Dataset Loading"
      ],
      "metadata": {
        "id": "3RnN4peoiCZX"
      }
    },
    {
      "cell_type": "code",
      "source": [
        "# Load Dataset\n",
        "# This code imports the `drive` library from Google Colab.\n",
        "# The 'drive' library allows us to mount our Google Drive to our Colab notebook.\n",
        "# The 'mount()' function mounts our Google Drive to the '/content/drive' directory.\n",
        "from google.colab import drive\n",
        "drive.mount('/content/drive')"
      ],
      "metadata": {
        "id": "4CkvbW_SlZ_R",
        "outputId": "bcd31ea1-9f9c-42bb-8fea-b527585c99e2",
        "colab": {
          "base_uri": "https://localhost:8080/"
        }
      },
      "execution_count": null,
      "outputs": [
        {
          "output_type": "stream",
          "name": "stdout",
          "text": [
            "Mounted at /content/drive\n"
          ]
        }
      ]
    },
    {
      "cell_type": "code",
      "source": [
        "# Load the stock price data from the CSV file\n",
        "# This code reads the CSV file 'data_YesBank_StockPrices.csv' from the '/content/drive/MyDrive/capstone project-Supervised ML-Regression/Data File' directory.\n",
        "# The 'pd.read_csv()' function reads the CSV file and returns a Pandas DataFrame.\n",
        "stock_df = pd.read_csv(\"/content/drive/MyDrive/Colab Notebooks/capston project/Yes_Bank_Stock_Closing_Price_Prediction(Capstone_Project_Supervised_ML_Regression)/data_YesBank_StockPrices.csv\")"
      ],
      "metadata": {
        "id": "ATXKkwM4vNXN"
      },
      "execution_count": null,
      "outputs": []
    },
    {
      "cell_type": "markdown",
      "source": [
        "### Dataset First View"
      ],
      "metadata": {
        "id": "x71ZqKXriCWQ"
      }
    },
    {
      "cell_type": "code",
      "source": [
        "# Display the first few rows of the DataFrame with a cool color gradient\n",
        "# This code uses the 'head()' method to display the first few rows of the DataFrame.\n",
        "# The 'style.background_gradient()' method applies a color gradient to the background of the DataFrame.\n",
        "# The 'cmap='cool'' argument specifies the colormap to use.\n",
        "stock_df.head().style.background_gradient(cmap='hot')"
      ],
      "metadata": {
        "id": "LWNFOSvLl09H",
        "outputId": "9096fa91-5024-42b1-dcaf-894f3e02e973",
        "colab": {
          "base_uri": "https://localhost:8080/",
          "height": 206
        }
      },
      "execution_count": null,
      "outputs": [
        {
          "output_type": "execute_result",
          "data": {
            "text/plain": [
              "<pandas.io.formats.style.Styler at 0x7b3c660a6e00>"
            ],
            "text/html": [
              "<style type=\"text/css\">\n",
              "#T_afa69_row0_col1 {\n",
              "  background-color: #ff4400;\n",
              "  color: #f1f1f1;\n",
              "}\n",
              "#T_afa69_row0_col2 {\n",
              "  background-color: #590000;\n",
              "  color: #f1f1f1;\n",
              "}\n",
              "#T_afa69_row0_col3, #T_afa69_row0_col4, #T_afa69_row1_col1, #T_afa69_row4_col2 {\n",
              "  background-color: #0b0000;\n",
              "  color: #f1f1f1;\n",
              "}\n",
              "#T_afa69_row1_col2, #T_afa69_row1_col4, #T_afa69_row2_col1, #T_afa69_row4_col3 {\n",
              "  background-color: #ffffff;\n",
              "  color: #000000;\n",
              "}\n",
              "#T_afa69_row1_col3 {\n",
              "  background-color: #ffff36;\n",
              "  color: #000000;\n",
              "}\n",
              "#T_afa69_row2_col2, #T_afa69_row4_col4 {\n",
              "  background-color: #fffff7;\n",
              "  color: #000000;\n",
              "}\n",
              "#T_afa69_row2_col3 {\n",
              "  background-color: #ffb000;\n",
              "  color: #000000;\n",
              "}\n",
              "#T_afa69_row2_col4 {\n",
              "  background-color: #ffff85;\n",
              "  color: #000000;\n",
              "}\n",
              "#T_afa69_row3_col1 {\n",
              "  background-color: #ffda00;\n",
              "  color: #000000;\n",
              "}\n",
              "#T_afa69_row3_col2 {\n",
              "  background-color: #ff9800;\n",
              "  color: #000000;\n",
              "}\n",
              "#T_afa69_row3_col3 {\n",
              "  background-color: #ffe400;\n",
              "  color: #000000;\n",
              "}\n",
              "#T_afa69_row3_col4 {\n",
              "  background-color: #ff7e00;\n",
              "  color: #f1f1f1;\n",
              "}\n",
              "#T_afa69_row4_col1 {\n",
              "  background-color: #ffff71;\n",
              "  color: #000000;\n",
              "}\n",
              "</style>\n",
              "<table id=\"T_afa69\" class=\"dataframe\">\n",
              "  <thead>\n",
              "    <tr>\n",
              "      <th class=\"blank level0\" >&nbsp;</th>\n",
              "      <th id=\"T_afa69_level0_col0\" class=\"col_heading level0 col0\" >Date</th>\n",
              "      <th id=\"T_afa69_level0_col1\" class=\"col_heading level0 col1\" >Open</th>\n",
              "      <th id=\"T_afa69_level0_col2\" class=\"col_heading level0 col2\" >High</th>\n",
              "      <th id=\"T_afa69_level0_col3\" class=\"col_heading level0 col3\" >Low</th>\n",
              "      <th id=\"T_afa69_level0_col4\" class=\"col_heading level0 col4\" >Close</th>\n",
              "    </tr>\n",
              "  </thead>\n",
              "  <tbody>\n",
              "    <tr>\n",
              "      <th id=\"T_afa69_level0_row0\" class=\"row_heading level0 row0\" >0</th>\n",
              "      <td id=\"T_afa69_row0_col0\" class=\"data row0 col0\" >Jul-05</td>\n",
              "      <td id=\"T_afa69_row0_col1\" class=\"data row0 col1\" >13.000000</td>\n",
              "      <td id=\"T_afa69_row0_col2\" class=\"data row0 col2\" >14.000000</td>\n",
              "      <td id=\"T_afa69_row0_col3\" class=\"data row0 col3\" >11.250000</td>\n",
              "      <td id=\"T_afa69_row0_col4\" class=\"data row0 col4\" >12.460000</td>\n",
              "    </tr>\n",
              "    <tr>\n",
              "      <th id=\"T_afa69_level0_row1\" class=\"row_heading level0 row1\" >1</th>\n",
              "      <td id=\"T_afa69_row1_col0\" class=\"data row1 col0\" >Aug-05</td>\n",
              "      <td id=\"T_afa69_row1_col1\" class=\"data row1 col1\" >12.580000</td>\n",
              "      <td id=\"T_afa69_row1_col2\" class=\"data row1 col2\" >14.880000</td>\n",
              "      <td id=\"T_afa69_row1_col3\" class=\"data row1 col3\" >12.550000</td>\n",
              "      <td id=\"T_afa69_row1_col4\" class=\"data row1 col4\" >13.420000</td>\n",
              "    </tr>\n",
              "    <tr>\n",
              "      <th id=\"T_afa69_level0_row2\" class=\"row_heading level0 row2\" >2</th>\n",
              "      <td id=\"T_afa69_row2_col0\" class=\"data row2 col0\" >Sep-05</td>\n",
              "      <td id=\"T_afa69_row2_col1\" class=\"data row2 col1\" >13.480000</td>\n",
              "      <td id=\"T_afa69_row2_col2\" class=\"data row2 col2\" >14.870000</td>\n",
              "      <td id=\"T_afa69_row2_col3\" class=\"data row2 col3\" >12.270000</td>\n",
              "      <td id=\"T_afa69_row2_col4\" class=\"data row2 col4\" >13.300000</td>\n",
              "    </tr>\n",
              "    <tr>\n",
              "      <th id=\"T_afa69_level0_row3\" class=\"row_heading level0 row3\" >3</th>\n",
              "      <td id=\"T_afa69_row3_col0\" class=\"data row3 col0\" >Oct-05</td>\n",
              "      <td id=\"T_afa69_row3_col1\" class=\"data row3 col1\" >13.200000</td>\n",
              "      <td id=\"T_afa69_row3_col2\" class=\"data row3 col2\" >14.470000</td>\n",
              "      <td id=\"T_afa69_row3_col3\" class=\"data row3 col3\" >12.400000</td>\n",
              "      <td id=\"T_afa69_row3_col4\" class=\"data row3 col4\" >12.990000</td>\n",
              "    </tr>\n",
              "    <tr>\n",
              "      <th id=\"T_afa69_level0_row4\" class=\"row_heading level0 row4\" >4</th>\n",
              "      <td id=\"T_afa69_row4_col0\" class=\"data row4 col0\" >Nov-05</td>\n",
              "      <td id=\"T_afa69_row4_col1\" class=\"data row4 col1\" >13.350000</td>\n",
              "      <td id=\"T_afa69_row4_col2\" class=\"data row4 col2\" >13.880000</td>\n",
              "      <td id=\"T_afa69_row4_col3\" class=\"data row4 col3\" >12.880000</td>\n",
              "      <td id=\"T_afa69_row4_col4\" class=\"data row4 col4\" >13.410000</td>\n",
              "    </tr>\n",
              "  </tbody>\n",
              "</table>\n"
            ]
          },
          "metadata": {},
          "execution_count": 4
        }
      ]
    },
    {
      "cell_type": "code",
      "source": [
        "# Display the last few rows of the DataFrame with a cool color gradient\n",
        "# This code uses the 'tail()' method to display the last few rows of the DataFrame.\n",
        "# The 'style.background_gradient()' method applies a color gradient to the background of the DataFrame.\n",
        "# The \"cmap='cool'\" argument specifies the colormap to use.\n",
        "stock_df.tail().style.background_gradient(cmap='hot')"
      ],
      "metadata": {
        "id": "RqETiOSmv0hh",
        "outputId": "ca47b2a6-4881-4ef1-a207-90092eeafaeb",
        "colab": {
          "base_uri": "https://localhost:8080/",
          "height": 206
        }
      },
      "execution_count": null,
      "outputs": [
        {
          "output_type": "execute_result",
          "data": {
            "text/plain": [
              "<pandas.io.formats.style.Styler at 0x7b3c6581f520>"
            ],
            "text/html": [
              "<style type=\"text/css\">\n",
              "#T_6cee6_row0_col1, #T_6cee6_row0_col2, #T_6cee6_row2_col3, #T_6cee6_row4_col4 {\n",
              "  background-color: #ffffff;\n",
              "  color: #000000;\n",
              "}\n",
              "#T_6cee6_row0_col3, #T_6cee6_row0_col4, #T_6cee6_row1_col1, #T_6cee6_row3_col2 {\n",
              "  background-color: #0b0000;\n",
              "  color: #f1f1f1;\n",
              "}\n",
              "#T_6cee6_row1_col2 {\n",
              "  background-color: #9e0000;\n",
              "  color: #f1f1f1;\n",
              "}\n",
              "#T_6cee6_row1_col3 {\n",
              "  background-color: #ff3c00;\n",
              "  color: #f1f1f1;\n",
              "}\n",
              "#T_6cee6_row1_col4 {\n",
              "  background-color: #ffff91;\n",
              "  color: #000000;\n",
              "}\n",
              "#T_6cee6_row2_col1 {\n",
              "  background-color: #7b0000;\n",
              "  color: #f1f1f1;\n",
              "}\n",
              "#T_6cee6_row2_col2 {\n",
              "  background-color: #470000;\n",
              "  color: #f1f1f1;\n",
              "}\n",
              "#T_6cee6_row2_col4 {\n",
              "  background-color: #ff3200;\n",
              "  color: #f1f1f1;\n",
              "}\n",
              "#T_6cee6_row3_col1 {\n",
              "  background-color: #4a0000;\n",
              "  color: #f1f1f1;\n",
              "}\n",
              "#T_6cee6_row3_col3 {\n",
              "  background-color: #ffa500;\n",
              "  color: #000000;\n",
              "}\n",
              "#T_6cee6_row3_col4 {\n",
              "  background-color: #7e0000;\n",
              "  color: #f1f1f1;\n",
              "}\n",
              "#T_6cee6_row4_col1 {\n",
              "  background-color: #1d0000;\n",
              "  color: #f1f1f1;\n",
              "}\n",
              "#T_6cee6_row4_col2 {\n",
              "  background-color: #320000;\n",
              "  color: #f1f1f1;\n",
              "}\n",
              "#T_6cee6_row4_col3 {\n",
              "  background-color: #ffcf00;\n",
              "  color: #000000;\n",
              "}\n",
              "</style>\n",
              "<table id=\"T_6cee6\" class=\"dataframe\">\n",
              "  <thead>\n",
              "    <tr>\n",
              "      <th class=\"blank level0\" >&nbsp;</th>\n",
              "      <th id=\"T_6cee6_level0_col0\" class=\"col_heading level0 col0\" >Date</th>\n",
              "      <th id=\"T_6cee6_level0_col1\" class=\"col_heading level0 col1\" >Open</th>\n",
              "      <th id=\"T_6cee6_level0_col2\" class=\"col_heading level0 col2\" >High</th>\n",
              "      <th id=\"T_6cee6_level0_col3\" class=\"col_heading level0 col3\" >Low</th>\n",
              "      <th id=\"T_6cee6_level0_col4\" class=\"col_heading level0 col4\" >Close</th>\n",
              "    </tr>\n",
              "  </thead>\n",
              "  <tbody>\n",
              "    <tr>\n",
              "      <th id=\"T_6cee6_level0_row0\" class=\"row_heading level0 row0\" >180</th>\n",
              "      <td id=\"T_6cee6_row0_col0\" class=\"data row0 col0\" >Jul-20</td>\n",
              "      <td id=\"T_6cee6_row0_col1\" class=\"data row0 col1\" >25.600000</td>\n",
              "      <td id=\"T_6cee6_row0_col2\" class=\"data row0 col2\" >28.300000</td>\n",
              "      <td id=\"T_6cee6_row0_col3\" class=\"data row0 col3\" >11.100000</td>\n",
              "      <td id=\"T_6cee6_row0_col4\" class=\"data row0 col4\" >11.950000</td>\n",
              "    </tr>\n",
              "    <tr>\n",
              "      <th id=\"T_6cee6_level0_row1\" class=\"row_heading level0 row1\" >181</th>\n",
              "      <td id=\"T_6cee6_row1_col0\" class=\"data row1 col0\" >Aug-20</td>\n",
              "      <td id=\"T_6cee6_row1_col1\" class=\"data row1 col1\" >12.000000</td>\n",
              "      <td id=\"T_6cee6_row1_col2\" class=\"data row1 col2\" >17.160000</td>\n",
              "      <td id=\"T_6cee6_row1_col3\" class=\"data row1 col3\" >11.850000</td>\n",
              "      <td id=\"T_6cee6_row1_col4\" class=\"data row1 col4\" >14.370000</td>\n",
              "    </tr>\n",
              "    <tr>\n",
              "      <th id=\"T_6cee6_level0_row2\" class=\"row_heading level0 row2\" >182</th>\n",
              "      <td id=\"T_6cee6_row2_col0\" class=\"data row2 col0\" >Sep-20</td>\n",
              "      <td id=\"T_6cee6_row2_col1\" class=\"data row2 col1\" >14.300000</td>\n",
              "      <td id=\"T_6cee6_row2_col2\" class=\"data row2 col2\" >15.340000</td>\n",
              "      <td id=\"T_6cee6_row2_col3\" class=\"data row2 col3\" >12.750000</td>\n",
              "      <td id=\"T_6cee6_row2_col4\" class=\"data row2 col4\" >13.150000</td>\n",
              "    </tr>\n",
              "    <tr>\n",
              "      <th id=\"T_6cee6_level0_row3\" class=\"row_heading level0 row3\" >183</th>\n",
              "      <td id=\"T_6cee6_row3_col0\" class=\"data row3 col0\" >Oct-20</td>\n",
              "      <td id=\"T_6cee6_row3_col1\" class=\"data row3 col1\" >13.300000</td>\n",
              "      <td id=\"T_6cee6_row3_col2\" class=\"data row3 col2\" >14.010000</td>\n",
              "      <td id=\"T_6cee6_row3_col3\" class=\"data row3 col3\" >12.110000</td>\n",
              "      <td id=\"T_6cee6_row3_col4\" class=\"data row3 col4\" >12.420000</td>\n",
              "    </tr>\n",
              "    <tr>\n",
              "      <th id=\"T_6cee6_level0_row4\" class=\"row_heading level0 row4\" >184</th>\n",
              "      <td id=\"T_6cee6_row4_col0\" class=\"data row4 col0\" >Nov-20</td>\n",
              "      <td id=\"T_6cee6_row4_col1\" class=\"data row4 col1\" >12.410000</td>\n",
              "      <td id=\"T_6cee6_row4_col2\" class=\"data row4 col2\" >14.900000</td>\n",
              "      <td id=\"T_6cee6_row4_col3\" class=\"data row4 col3\" >12.210000</td>\n",
              "      <td id=\"T_6cee6_row4_col4\" class=\"data row4 col4\" >14.670000</td>\n",
              "    </tr>\n",
              "  </tbody>\n",
              "</table>\n"
            ]
          },
          "metadata": {},
          "execution_count": 5
        }
      ]
    },
    {
      "cell_type": "markdown",
      "source": [
        "### Dataset Rows & Columns count"
      ],
      "metadata": {
        "id": "7hBIi_osiCS2"
      }
    },
    {
      "cell_type": "code",
      "source": [
        "# Get the shape of the DataFrame\n",
        "# This code uses the 'shape' property of the DataFrame to get the number of rows and columns.\n",
        "# The 'shape' property returns a tuple of the form (number of rows, number of columns).\n",
        "print(\"The shape of the DataFrame is:\", stock_df.shape)"
      ],
      "metadata": {
        "id": "Kllu7SJgmLij",
        "outputId": "3070c4a8-a4d6-4f1f-f853-d315325f537e",
        "colab": {
          "base_uri": "https://localhost:8080/"
        }
      },
      "execution_count": null,
      "outputs": [
        {
          "output_type": "stream",
          "name": "stdout",
          "text": [
            "The shape of the DataFrame is: (185, 5)\n"
          ]
        }
      ]
    },
    {
      "cell_type": "markdown",
      "source": [
        "### Dataset Information"
      ],
      "metadata": {
        "id": "JlHwYmJAmNHm"
      }
    },
    {
      "cell_type": "code",
      "source": [
        "# Dataset Info\n",
        "print(\"The information about the DataFrame is:\", stock_df.info())"
      ],
      "metadata": {
        "id": "e9hRXRi6meOf",
        "outputId": "cef4b668-d0ee-4fcd-91cb-3eeebdf09518",
        "colab": {
          "base_uri": "https://localhost:8080/"
        }
      },
      "execution_count": null,
      "outputs": [
        {
          "output_type": "stream",
          "name": "stdout",
          "text": [
            "<class 'pandas.core.frame.DataFrame'>\n",
            "RangeIndex: 185 entries, 0 to 184\n",
            "Data columns (total 5 columns):\n",
            " #   Column  Non-Null Count  Dtype  \n",
            "---  ------  --------------  -----  \n",
            " 0   Date    185 non-null    object \n",
            " 1   Open    185 non-null    float64\n",
            " 2   High    185 non-null    float64\n",
            " 3   Low     185 non-null    float64\n",
            " 4   Close   185 non-null    float64\n",
            "dtypes: float64(4), object(1)\n",
            "memory usage: 7.4+ KB\n",
            "The information about the DataFrame is: None\n"
          ]
        }
      ]
    },
    {
      "cell_type": "markdown",
      "source": [
        "From the above analysis, we can conclude that:\n",
        "\n",
        "The shape of our dataset is 185 rows and 5 columns. This means that the dataset has 185 data points, and each data point has 5 features. The data points represent the stock prices of YesBank for a period of time. The features represent the date, open price, high price, low price, close price, and volume of the stock.\n",
        "Datatype of Date is given as object which we need to change that to DateTime. The Date column contains the date of the stock price. The data type of this column is currently object, which means that the values in this column are strings. We need to change the data type of this column to DateTime so that we can perform date-related operations on it, such as calculating the day of the week, the month, or the year.\n",
        "Rest all features have float value as data point. The other 4 columns in the dataset contain floating-point numbers. These numbers represent the open price, high price, low price, and close price of the stock. The volume column contains the number of shares traded on a given day."
      ],
      "metadata": {
        "id": "lc6ckHmshBo3"
      }
    },
    {
      "cell_type": "markdown",
      "source": [
        "#### Duplicate Values"
      ],
      "metadata": {
        "id": "35m5QtbWiB9F"
      }
    },
    {
      "cell_type": "code",
      "source": [
        "# Dataset Duplicate Value Count\n",
        "number_of_duplicates = len(stock_df[stock_df.duplicated()])\n",
        "\n",
        "# Print the number of duplicate rows\n",
        "print(\"The number of duplicate rows is:\", number_of_duplicates)"
      ],
      "metadata": {
        "id": "1sLdpKYkmox0",
        "outputId": "f675e3dc-4a3c-4a44-a33b-c63785f8e845",
        "colab": {
          "base_uri": "https://localhost:8080/"
        }
      },
      "execution_count": null,
      "outputs": [
        {
          "output_type": "stream",
          "name": "stdout",
          "text": [
            "The number of duplicate rows is: 0\n"
          ]
        }
      ]
    },
    {
      "cell_type": "markdown",
      "source": [
        "#### Missing Values/Null Values"
      ],
      "metadata": {
        "id": "PoPl-ycgm1ru"
      }
    },
    {
      "cell_type": "code",
      "source": [
        "# Count the number of missing values in each column of the DataFrame\n",
        "# This code uses the `isnull()` method to find all of the missing values in the DataFrame.\n",
        "# The `sum()` function returns the sum of the missing values in each column.\n",
        "missing_values_count = stock_df.isnull().sum()\n",
        "\n",
        "# Print the number of missing values in each column\n",
        "print(\"The number of missing values in each column is:\",\"\\n\", missing_values_count)"
      ],
      "metadata": {
        "id": "GgHWkxvamxVg",
        "outputId": "c4c00d79-6a72-4197-b7be-9e8d9fb30c78",
        "colab": {
          "base_uri": "https://localhost:8080/"
        }
      },
      "execution_count": null,
      "outputs": [
        {
          "output_type": "stream",
          "name": "stdout",
          "text": [
            "The number of missing values in each column is: \n",
            " Date     0\n",
            "Open     0\n",
            "High     0\n",
            "Low      0\n",
            "Close    0\n",
            "dtype: int64\n"
          ]
        }
      ]
    },
    {
      "cell_type": "markdown",
      "source": [
        "## ***2. Understanding Your Variables***"
      ],
      "metadata": {
        "id": "nA9Y7ga8ng1Z"
      }
    },
    {
      "cell_type": "code",
      "source": [
        "# Get the column names of the DataFrame\n",
        "# This code uses the `columns` property of the DataFrame to get the column names.\n",
        "# The `print()` function prints the column names.\n",
        "column_names = stock_df.columns\n",
        "\n",
        "# Print the column names\n",
        "print(\"The column names of the DataFrame are:\", column_names)"
      ],
      "metadata": {
        "id": "j7xfkqrt5Ag5",
        "outputId": "0e0551aa-6ffa-40fc-bcdc-a0432a11ed89",
        "colab": {
          "base_uri": "https://localhost:8080/"
        }
      },
      "execution_count": null,
      "outputs": [
        {
          "output_type": "stream",
          "name": "stdout",
          "text": [
            "The column names of the DataFrame are: Index(['Date', 'Open', 'High', 'Low', 'Close'], dtype='object')\n"
          ]
        }
      ]
    },
    {
      "cell_type": "code",
      "source": [
        "# Get summary statistics for all columns in the DataFrame\n",
        "# This code uses the `describe()` method of the DataFrame to get summary statistics for all columns.\n",
        "# The `include='all'` argument specifies that the summary statistics should be calculated for all columns, including columns with non-numeric data types.\n",
        "# The `print()` function prints the summary statistics.\n",
        "summary_statistics = stock_df.describe(include='all')\n",
        "\n",
        "# Print the summary statistics\n",
        "print(\"The summary statistics for all columns in the DataFrame are:\",\"\\n\",\"--------------------------------------------------------------\",\"\\n\",summary_statistics)"
      ],
      "metadata": {
        "id": "DnOaZdaE5Q5t",
        "outputId": "50cfaebd-cb53-4545-b527-ede7f8d394fa",
        "colab": {
          "base_uri": "https://localhost:8080/"
        }
      },
      "execution_count": null,
      "outputs": [
        {
          "output_type": "stream",
          "name": "stdout",
          "text": [
            "The summary statistics for all columns in the DataFrame are: \n",
            " -------------------------------------------------------------- \n",
            "           Date        Open        High         Low       Close\n",
            "count      185  185.000000  185.000000  185.000000  185.000000\n",
            "unique     185         NaN         NaN         NaN         NaN\n",
            "top     Jul-05         NaN         NaN         NaN         NaN\n",
            "freq         1         NaN         NaN         NaN         NaN\n",
            "mean       NaN  105.541405  116.104324   94.947838  105.204703\n",
            "std        NaN   98.879850  106.333497   91.219415   98.583153\n",
            "min        NaN   10.000000   11.240000    5.550000    9.980000\n",
            "25%        NaN   33.800000   36.140000   28.510000   33.450000\n",
            "50%        NaN   62.980000   72.550000   58.000000   62.540000\n",
            "75%        NaN  153.000000  169.190000  138.350000  153.300000\n",
            "max        NaN  369.950000  404.000000  345.500000  367.900000\n"
          ]
        }
      ]
    },
    {
      "cell_type": "markdown",
      "source": [
        "### Variables Description"
      ],
      "metadata": {
        "id": "PBTbrJXOngz2"
      }
    },
    {
      "cell_type": "markdown",
      "source": [
        "The dataset consists of monthly observations of Yes Bank stock prices since its listing on the stock exchange. The dataset includes the following features:\n",
        "\n",
        "\n",
        "\n",
        "*   `Date:` This indicates the specific month for which the stock price is recorded.\n",
        "*   `Open:` This represents the price of the stock at the beginning of the trading day when the stock exchange opens.\n",
        "*   `High:` This indicates the highest price reached by the stock during the given month.\n",
        "*   `Low:` This indicates the lowest price reached by the stock during the given month\n",
        "*   `Close:` This represents the price of the stock at the end of the trading day when the stock exchange closes.\n",
        "\n",
        "The dataset provides a comprehensive overview of the monthly performance of Yes Bank stock, including the opening, highest, lowest, and closing prices for each month since its listing on the stock exchange."
      ],
      "metadata": {
        "id": "aJV4KIxSnxay"
      }
    },
    {
      "cell_type": "markdown",
      "source": [
        "## 3. ***Data Wrangling***"
      ],
      "metadata": {
        "id": "dauF4eBmngu3"
      }
    },
    {
      "cell_type": "markdown",
      "source": [
        "Since the dataset does not contain any duplicate or null values, there is no need to perform any operations to treat them. The dataset is already clean in this regard. We can now proceed with the next step, which involves detecting and dealing with outliers.\n",
        "\n",
        "Outliers are data points that significantly deviate from the majority of the observations and may have a disproportionate impact on analysis results. Detecting outliers is important to ensure accurate and reliable analysis.\n",
        "\n",
        "To detect outliers in the dataset, various statistical techniques can be employed, such as the use of z-scores, interquartile range (IQR), or box plots. These methods help identify data points that fall outside a certain threshold or are significantly different from the rest of the data.\n",
        "\n",
        "Once outliers are identified, there are different approaches to deal with them. One common approach is to remove the outliers from the dataset, assuming they are erroneous or represent extreme values that may skew the analysis. Another approach is to replace the outliers with more representative values, such as the mean, median, or a value obtained through interpolation or extrapolation.\n",
        "\n",
        "In addition to outlier detection, it is necessary to change the data type of the datetime column from object to datetime format. This conversion allows for more effective handling and manipulation of dates and times. It enables various time-based operations, such as sorting, filtering, and extracting specific time intervals, which are crucial for analyzing and visualizing the stock price data over time"
      ],
      "metadata": {
        "id": "K56j6iMoh_Xk"
      }
    },
    {
      "cell_type": "markdown",
      "source": [
        "### Data Wrangling Code"
      ],
      "metadata": {
        "id": "bKJF3rekwFvQ"
      }
    },
    {
      "cell_type": "code",
      "source": [
        "# Check Unique Values for each variable.\n",
        "\n",
        "for variable in stock_df.columns:\n",
        "  print(f\"The unique values for the '{variable}' variable are:\\n\\n {stock_df[variable].unique()}\\n\\n\")"
      ],
      "metadata": {
        "id": "wk-9a2fpoLcV",
        "outputId": "d96cc84b-cbb5-480c-fa8c-df2857909f31",
        "colab": {
          "base_uri": "https://localhost:8080/"
        }
      },
      "execution_count": null,
      "outputs": [
        {
          "output_type": "stream",
          "name": "stdout",
          "text": [
            "The unique values for the 'Date' variable are:\n",
            "\n",
            " ['Jul-05' 'Aug-05' 'Sep-05' 'Oct-05' 'Nov-05' 'Dec-05' 'Jan-06' 'Feb-06'\n",
            " 'Mar-06' 'Apr-06' 'May-06' 'Jun-06' 'Jul-06' 'Aug-06' 'Sep-06' 'Oct-06'\n",
            " 'Nov-06' 'Dec-06' 'Jan-07' 'Feb-07' 'Mar-07' 'Apr-07' 'May-07' 'Jun-07'\n",
            " 'Jul-07' 'Aug-07' 'Sep-07' 'Oct-07' 'Nov-07' 'Dec-07' 'Jan-08' 'Feb-08'\n",
            " 'Mar-08' 'Apr-08' 'May-08' 'Jun-08' 'Jul-08' 'Aug-08' 'Sep-08' 'Oct-08'\n",
            " 'Nov-08' 'Dec-08' 'Jan-09' 'Feb-09' 'Mar-09' 'Apr-09' 'May-09' 'Jun-09'\n",
            " 'Jul-09' 'Aug-09' 'Sep-09' 'Oct-09' 'Nov-09' 'Dec-09' 'Jan-10' 'Feb-10'\n",
            " 'Mar-10' 'Apr-10' 'May-10' 'Jun-10' 'Jul-10' 'Aug-10' 'Sep-10' 'Oct-10'\n",
            " 'Nov-10' 'Dec-10' 'Jan-11' 'Feb-11' 'Mar-11' 'Apr-11' 'May-11' 'Jun-11'\n",
            " 'Jul-11' 'Aug-11' 'Sep-11' 'Oct-11' 'Nov-11' 'Dec-11' 'Jan-12' 'Feb-12'\n",
            " 'Mar-12' 'Apr-12' 'May-12' 'Jun-12' 'Jul-12' 'Aug-12' 'Sep-12' 'Oct-12'\n",
            " 'Nov-12' 'Dec-12' 'Jan-13' 'Feb-13' 'Mar-13' 'Apr-13' 'May-13' 'Jun-13'\n",
            " 'Jul-13' 'Aug-13' 'Sep-13' 'Oct-13' 'Nov-13' 'Dec-13' 'Jan-14' 'Feb-14'\n",
            " 'Mar-14' 'Apr-14' 'May-14' 'Jun-14' 'Jul-14' 'Aug-14' 'Sep-14' 'Oct-14'\n",
            " 'Nov-14' 'Dec-14' 'Jan-15' 'Feb-15' 'Mar-15' 'Apr-15' 'May-15' 'Jun-15'\n",
            " 'Jul-15' 'Aug-15' 'Sep-15' 'Oct-15' 'Nov-15' 'Dec-15' 'Jan-16' 'Feb-16'\n",
            " 'Mar-16' 'Apr-16' 'May-16' 'Jun-16' 'Jul-16' 'Aug-16' 'Sep-16' 'Oct-16'\n",
            " 'Nov-16' 'Dec-16' 'Jan-17' 'Feb-17' 'Mar-17' 'Apr-17' 'May-17' 'Jun-17'\n",
            " 'Jul-17' 'Aug-17' 'Sep-17' 'Oct-17' 'Nov-17' 'Dec-17' 'Jan-18' 'Feb-18'\n",
            " 'Mar-18' 'Apr-18' 'May-18' 'Jun-18' 'Jul-18' 'Aug-18' 'Sep-18' 'Oct-18'\n",
            " 'Nov-18' 'Dec-18' 'Jan-19' 'Feb-19' 'Mar-19' 'Apr-19' 'May-19' 'Jun-19'\n",
            " 'Jul-19' 'Aug-19' 'Sep-19' 'Oct-19' 'Nov-19' 'Dec-19' 'Jan-20' 'Feb-20'\n",
            " 'Mar-20' 'Apr-20' 'May-20' 'Jun-20' 'Jul-20' 'Aug-20' 'Sep-20' 'Oct-20'\n",
            " 'Nov-20']\n",
            "\n",
            "\n",
            "The unique values for the 'Open' variable are:\n",
            "\n",
            " [ 13.    12.58  13.48  13.2   13.35  13.49  13.68  15.5   16.2   20.56\n",
            "  19.8   18.2   16.    15.9   18.    18.78  22.8   25.4   27.4   30.2\n",
            "  29.3   27.    30.66  33.89  35.98  37.5   37.4   41.8   44.4   46.4\n",
            "  49.99  50.88  48.9   33.9   34.3   31.22  22.85  25.    26.68  24.6\n",
            "  14.79  12.4   15.28  12.19  10.    10.04  15.94  25.6   29.7   31.98\n",
            "  33.8   41.2   46.58  50.98  53.6   49.    47.8   50.67  56.94  56.7\n",
            "  53.55  59.4   62.8   70.9   72.2   61.8   62.98  53.    51.84  62.\n",
            "  61.26  60.4   63.    62.9   56.    53.8   62.2   57.    47.92  65.9\n",
            "  69.    73.62  70.4   65.45  68.15  73.    66.2   76.4   82.54  89.2\n",
            "  93.2  104.41  94.    85.7  100.99  99.    92.4   66.    49.2   58.\n",
            "  74.    74.4   74.74  61.54  60.52  83.45  88.8  114.8  108.43 107.4\n",
            " 114.6  112.1  137.1  142.08 154.4  172.5  174.8  162.8  170.   177.\n",
            " 169.   165.9  135.61 146.96 151.73 153.   145.   150.4  138.8  172.02\n",
            " 189.8  206.4  221.96 244.   273.3  253.41 255.   235.4  231.98 280.4\n",
            " 290.6  309.6  326.   286.66 293.04 363.   351.   354.6  315.5  307.2\n",
            " 314.   355.   320.7  305.   362.85 348.   340.   369.95 347.2  180.\n",
            " 192.   174.   182.85 197.   234.6  277.   163.3  147.95 109.6   59.5\n",
            "  42.    71.    70.    46.9   39.1   35.2   22.3   27.8   27.75  12.\n",
            "  14.3   13.3   12.41]\n",
            "\n",
            "\n",
            "The unique values for the 'High' variable are:\n",
            "\n",
            " [ 14.    14.88  14.87  14.47  13.88  14.44  17.16  16.97  20.95  20.8\n",
            "  21.8   18.4   17.2   18.6   18.88  24.2   28.47  29.66  34.16  32.6\n",
            "  31.58  31.99  36.14  36.38  41.04  39.    41.75  47.3   50.98  54.\n",
            "  55.56  53.97  48.9   35.8   36.88  32.22  30.5   28.98  29.8   25.\n",
            "  17.8   16.56  18.34  12.5   11.24  17.51  28.84  31.08  33.16  35.18\n",
            "  41.3   52.34  54.98  55.67  57.58  51.48  52.06  59.48  58.08  59.9\n",
            "  60.94  68.88  71.74  76.    77.6   68.36  63.54  57.69  65.2   68.26\n",
            "  61.68  63.39  68.    63.96  60.08  64.8   63.7   59.8   66.5   74.8\n",
            "  77.88  76.1   70.59  70.6   73.19  74.78  77.69  84.2   89.6   95.\n",
            " 107.   107.8  100.15 101.8  109.43 102.94 100.4   67.81  78.94  76.44\n",
            "  77.27  83.    76.35  62.7   83.36  94.98 117.6  117.57 114.46 118.69\n",
            " 126.85 137.8  143.91 155.   179.   173.88 182.   172.8  176.96 179.4\n",
            " 175.58 169.19 155.5  155.94 157.96 154.52 149.9  157.85 175.12 190.44\n",
            " 209.   223.   247.18 275.   290.   265.5  262.72 245.   284.31 294.19\n",
            " 311.57 330.58 330.3  306.34 372.   368.52 383.25 375.75 329.8  319.\n",
            " 366.   366.5  325.8  368.75 364.4  350.1  393.35 404.   350.   268.45\n",
            " 231.4  194.3  236.3  236.9  281.3  285.9  178.05 153.8  110.6   92.4\n",
            "  72.55  76.65  75.35  70.5   48.5   40.7   87.95  30.45  31.6   31.95\n",
            "  28.3   15.34  14.01  14.9 ]\n",
            "\n",
            "\n",
            "The unique values for the 'Low' variable are:\n",
            "\n",
            " [ 11.25  12.55  12.27  12.4   12.88  13.    13.58  15.4   16.02  18.02\n",
            "  15.8   13.4   13.82  15.7   16.8   18.5   21.4   24.4   27.    26.8\n",
            "  23.31  26.2   29.11  30.4   35.02  30.2   35.3   33.6   40.02  45.\n",
            "  30.24  44.4   24.11  28.51  30.03  22.62  20.4   24.62  21.7   11.01\n",
            "  11.13  11.48   9.9    8.16   9.94  14.76  23.    24.83  29.    32.\n",
            "  36.8   42.84  48.6   46.42  44.6   47.3   48.8   50.66  52.6   53.02\n",
            "  59.01  62.51  68.21  58.    55.44  49.39  46.71  50.8   60.5   54.5\n",
            "  54.8   61.36  50.51  51.2   48.1   52.04  47.4   46.11  63.6   66.2\n",
            "  69.11  58.85  62.14  67.57  65.27  64.46  75.6   82.22  88.01  93.2\n",
            "  93.4   83.42  83.43  97.2   87.15  57.71  43.22  44.8   56.08  64.65\n",
            "  71.63  60.8   58.42  60.34  80.8   86.98 101.62 100.44 103.31 107.18\n",
            " 109.2  132.44 134.   150.47 156.1  156.8  154.53 157.8  158.9  156.45\n",
            " 118.   127.   141.73 144.03 133.71 126.45 132.74 138.35 165.33 181.28\n",
            " 201.14 221.35 240.68 231.2  245.8  219.1  218.25 226.3  275.61 283.6\n",
            " 300.2  275.15 280.21 290.78 337.37 345.5  299.   296.   300.65 307.35\n",
            " 304.65 285.1  303.3  325.7  327.35 332.45 338.   166.15 168.6  147.\n",
            " 160.2  181.15 167.65 228.8  165.3  133.05  98.75  81.75  53.15  40.95\n",
            "  29.05  59.95  40.7   36.55   5.55  20.3   25.2   25.55  11.1   11.85\n",
            "  12.75  12.11  12.21]\n",
            "\n",
            "\n",
            "The unique values for the 'Close' variable are:\n",
            "\n",
            " [ 12.46  13.42  13.3   12.99  13.41  13.71  15.33  16.12  20.08  19.49\n",
            "  18.03  15.62  16.16  17.84  18.46  22.78  25.32  26.97  30.16  28.63\n",
            "  28.14  30.31  33.51  35.98  37.93  36.99  41.36  43.48  46.18  49.81\n",
            "  50.54  49.42  33.75  34.06  31.13  22.85  25.45  26.83  24.13  13.58\n",
            "  12.26  15.03  12.24  10.26   9.98  15.45  25.12  29.68  31.93  33.45\n",
            "  40.99  47.31  50.57  53.41  49.84  47.32  50.97  57.1   57.57  53.83\n",
            "  58.99  62.22  70.3   71.86  61.21  62.54  52.59  51.29  61.98  61.02\n",
            "  60.07  62.38  62.13  55.61  54.5   62.9   54.49  47.72  65.99  69.14\n",
            "  73.46  70.07  66.02  67.83  72.85  65.97  76.44  82.29  88.48  92.84\n",
            " 104.41  94.5   85.71 100.28  97.49  92.2   64.76  48.65  57.5   73.76\n",
            "  73.74  74.02  61.59  60.95  82.7   88.14 113.89 108.38 108.21 114.33\n",
            " 111.7  136.83 142.08 154.57 172.5  172.55 163.31 167.96 176.52 168.6\n",
            " 165.74 137.9  145.92 151.82 153.3  145.23 149.38 137.67 172.91 188.73\n",
            " 206.39 221.3  243.44 272.56 250.85 253.52 234.28 231.26 279.1  290.56\n",
            " 309.82 326.14 286.38 292.37 361.96 351.15 350.   314.35 306.8  315.05\n",
            " 354.45 322.25 304.9  362.05 346.2  339.6  367.9  343.4  183.45 188.05\n",
            " 169.65 181.75 194.3  231.2  275.05 168.   147.95 108.7   91.3   59.5\n",
            "  41.45  70.45  68.3   46.95  39.2   34.55  22.45  27.95  26.85  25.6\n",
            "  11.95  14.37  13.15  12.42  14.67]\n",
            "\n",
            "\n"
          ]
        }
      ]
    },
    {
      "cell_type": "code",
      "source": [
        "# Saving a copy of the original dataframe\n",
        "og_df = stock_df.copy()"
      ],
      "metadata": {
        "id": "nGBCEBFDjp8M"
      },
      "execution_count": null,
      "outputs": []
    },
    {
      "cell_type": "markdown",
      "source": [
        "## **`Data Type Correction`**"
      ],
      "metadata": {
        "id": "RKOw4vsLj3eJ"
      }
    },
    {
      "cell_type": "markdown",
      "source": [
        "Since the dataset does not contain any duplicate or null values, we do not need to perform any operations to treat them. We can proceed to outlier detection and dealing with them.\n",
        "\n",
        "However, the datatype of the Date column is currently object. We need to change it to datetime format. This is because the Date column represents a date and time, and the object datatype is not sufficient to represent this type of data.\n",
        "\n",
        "To change the datatype of the Date column, we can use the pd.to_datetime() function. For example, the following code would change the datatype of the Date column to datetime:"
      ],
      "metadata": {
        "id": "FP1C4z1ykB8o"
      }
    },
    {
      "cell_type": "code",
      "source": [
        "# Checking the exact datatype of the entries under the 'Date' column\n",
        "type(stock_df['Date'][0])"
      ],
      "metadata": {
        "id": "UbScWfq_7QfG",
        "colab": {
          "base_uri": "https://localhost:8080/"
        },
        "outputId": "636dfec2-1eaa-4f87-b836-dd54c6646182"
      },
      "execution_count": null,
      "outputs": [
        {
          "output_type": "execute_result",
          "data": {
            "text/plain": [
              "str"
            ]
          },
          "metadata": {},
          "execution_count": 14
        }
      ]
    },
    {
      "cell_type": "code",
      "source": [
        "# Changing date colunn datatype to datetime format.\n",
        "from datetime import datetime\n",
        "\n",
        "# parsing date which is string of format %b-%y to datetime (%b for Month as locale’s abbreviated name and %y for Year without century as a zero-padded decimal number.\n",
        "stock_df['Date'] = stock_df['Date'].apply(lambda x: datetime.strptime(x, '%b-%y'))"
      ],
      "metadata": {
        "id": "szHC6CKdXwdM"
      },
      "execution_count": null,
      "outputs": []
    },
    {
      "cell_type": "code",
      "source": [
        "# Check the datatype of the columns after changing datatype of date\n",
        "# using 'info()' method\n",
        "print(stock_df.info())"
      ],
      "metadata": {
        "id": "9HEF7b1WYtHY",
        "colab": {
          "base_uri": "https://localhost:8080/"
        },
        "outputId": "509156b7-7d68-47e6-e11a-9a873a6d97ad"
      },
      "execution_count": null,
      "outputs": [
        {
          "output_type": "stream",
          "name": "stdout",
          "text": [
            "<class 'pandas.core.frame.DataFrame'>\n",
            "RangeIndex: 185 entries, 0 to 184\n",
            "Data columns (total 5 columns):\n",
            " #   Column  Non-Null Count  Dtype         \n",
            "---  ------  --------------  -----         \n",
            " 0   Date    185 non-null    datetime64[ns]\n",
            " 1   Open    185 non-null    float64       \n",
            " 2   High    185 non-null    float64       \n",
            " 3   Low     185 non-null    float64       \n",
            " 4   Close   185 non-null    float64       \n",
            "dtypes: datetime64[ns](1), float64(4)\n",
            "memory usage: 7.4 KB\n",
            "None\n"
          ]
        }
      ]
    },
    {
      "cell_type": "code",
      "source": [
        "#Check the datatype of the columns after changing datatype of date\n",
        "stock_df.dtypes"
      ],
      "metadata": {
        "id": "s50pbJPSyvbO",
        "colab": {
          "base_uri": "https://localhost:8080/"
        },
        "outputId": "4d784239-dfea-4f5e-ad04-498b83d5577b"
      },
      "execution_count": null,
      "outputs": [
        {
          "output_type": "execute_result",
          "data": {
            "text/plain": [
              "Date     datetime64[ns]\n",
              "Open            float64\n",
              "High            float64\n",
              "Low             float64\n",
              "Close           float64\n",
              "dtype: object"
            ]
          },
          "metadata": {},
          "execution_count": 17
        }
      ]
    },
    {
      "cell_type": "code",
      "source": [
        "# Setting the 'Date' column as the index\n",
        "stock_df = stock_df.set_index('Date')"
      ],
      "metadata": {
        "id": "7VGN7gJz7ZW1"
      },
      "execution_count": null,
      "outputs": []
    },
    {
      "cell_type": "code",
      "source": [
        "# Set the background color of the DataFrame to a gradient\n",
        "# using 'style.background_gradient()' method\n",
        "stock_df.head().style.background_gradient(cmap='hot')"
      ],
      "metadata": {
        "id": "TaIE6UdYY1ke",
        "colab": {
          "base_uri": "https://localhost:8080/",
          "height": 237
        },
        "outputId": "ec0053b8-df5a-4b3c-9dd2-9ffe9ed9ff38"
      },
      "execution_count": null,
      "outputs": [
        {
          "output_type": "execute_result",
          "data": {
            "text/plain": [
              "<pandas.io.formats.style.Styler at 0x7b3c658689a0>"
            ],
            "text/html": [
              "<style type=\"text/css\">\n",
              "#T_1bb4e_row0_col0 {\n",
              "  background-color: #ff4400;\n",
              "  color: #f1f1f1;\n",
              "}\n",
              "#T_1bb4e_row0_col1 {\n",
              "  background-color: #590000;\n",
              "  color: #f1f1f1;\n",
              "}\n",
              "#T_1bb4e_row0_col2, #T_1bb4e_row0_col3, #T_1bb4e_row1_col0, #T_1bb4e_row4_col1 {\n",
              "  background-color: #0b0000;\n",
              "  color: #f1f1f1;\n",
              "}\n",
              "#T_1bb4e_row1_col1, #T_1bb4e_row1_col3, #T_1bb4e_row2_col0, #T_1bb4e_row4_col2 {\n",
              "  background-color: #ffffff;\n",
              "  color: #000000;\n",
              "}\n",
              "#T_1bb4e_row1_col2 {\n",
              "  background-color: #ffff36;\n",
              "  color: #000000;\n",
              "}\n",
              "#T_1bb4e_row2_col1, #T_1bb4e_row4_col3 {\n",
              "  background-color: #fffff7;\n",
              "  color: #000000;\n",
              "}\n",
              "#T_1bb4e_row2_col2 {\n",
              "  background-color: #ffb000;\n",
              "  color: #000000;\n",
              "}\n",
              "#T_1bb4e_row2_col3 {\n",
              "  background-color: #ffff85;\n",
              "  color: #000000;\n",
              "}\n",
              "#T_1bb4e_row3_col0 {\n",
              "  background-color: #ffda00;\n",
              "  color: #000000;\n",
              "}\n",
              "#T_1bb4e_row3_col1 {\n",
              "  background-color: #ff9800;\n",
              "  color: #000000;\n",
              "}\n",
              "#T_1bb4e_row3_col2 {\n",
              "  background-color: #ffe400;\n",
              "  color: #000000;\n",
              "}\n",
              "#T_1bb4e_row3_col3 {\n",
              "  background-color: #ff7e00;\n",
              "  color: #f1f1f1;\n",
              "}\n",
              "#T_1bb4e_row4_col0 {\n",
              "  background-color: #ffff71;\n",
              "  color: #000000;\n",
              "}\n",
              "</style>\n",
              "<table id=\"T_1bb4e\" class=\"dataframe\">\n",
              "  <thead>\n",
              "    <tr>\n",
              "      <th class=\"blank level0\" >&nbsp;</th>\n",
              "      <th id=\"T_1bb4e_level0_col0\" class=\"col_heading level0 col0\" >Open</th>\n",
              "      <th id=\"T_1bb4e_level0_col1\" class=\"col_heading level0 col1\" >High</th>\n",
              "      <th id=\"T_1bb4e_level0_col2\" class=\"col_heading level0 col2\" >Low</th>\n",
              "      <th id=\"T_1bb4e_level0_col3\" class=\"col_heading level0 col3\" >Close</th>\n",
              "    </tr>\n",
              "    <tr>\n",
              "      <th class=\"index_name level0\" >Date</th>\n",
              "      <th class=\"blank col0\" >&nbsp;</th>\n",
              "      <th class=\"blank col1\" >&nbsp;</th>\n",
              "      <th class=\"blank col2\" >&nbsp;</th>\n",
              "      <th class=\"blank col3\" >&nbsp;</th>\n",
              "    </tr>\n",
              "  </thead>\n",
              "  <tbody>\n",
              "    <tr>\n",
              "      <th id=\"T_1bb4e_level0_row0\" class=\"row_heading level0 row0\" >2005-07-01 00:00:00</th>\n",
              "      <td id=\"T_1bb4e_row0_col0\" class=\"data row0 col0\" >13.000000</td>\n",
              "      <td id=\"T_1bb4e_row0_col1\" class=\"data row0 col1\" >14.000000</td>\n",
              "      <td id=\"T_1bb4e_row0_col2\" class=\"data row0 col2\" >11.250000</td>\n",
              "      <td id=\"T_1bb4e_row0_col3\" class=\"data row0 col3\" >12.460000</td>\n",
              "    </tr>\n",
              "    <tr>\n",
              "      <th id=\"T_1bb4e_level0_row1\" class=\"row_heading level0 row1\" >2005-08-01 00:00:00</th>\n",
              "      <td id=\"T_1bb4e_row1_col0\" class=\"data row1 col0\" >12.580000</td>\n",
              "      <td id=\"T_1bb4e_row1_col1\" class=\"data row1 col1\" >14.880000</td>\n",
              "      <td id=\"T_1bb4e_row1_col2\" class=\"data row1 col2\" >12.550000</td>\n",
              "      <td id=\"T_1bb4e_row1_col3\" class=\"data row1 col3\" >13.420000</td>\n",
              "    </tr>\n",
              "    <tr>\n",
              "      <th id=\"T_1bb4e_level0_row2\" class=\"row_heading level0 row2\" >2005-09-01 00:00:00</th>\n",
              "      <td id=\"T_1bb4e_row2_col0\" class=\"data row2 col0\" >13.480000</td>\n",
              "      <td id=\"T_1bb4e_row2_col1\" class=\"data row2 col1\" >14.870000</td>\n",
              "      <td id=\"T_1bb4e_row2_col2\" class=\"data row2 col2\" >12.270000</td>\n",
              "      <td id=\"T_1bb4e_row2_col3\" class=\"data row2 col3\" >13.300000</td>\n",
              "    </tr>\n",
              "    <tr>\n",
              "      <th id=\"T_1bb4e_level0_row3\" class=\"row_heading level0 row3\" >2005-10-01 00:00:00</th>\n",
              "      <td id=\"T_1bb4e_row3_col0\" class=\"data row3 col0\" >13.200000</td>\n",
              "      <td id=\"T_1bb4e_row3_col1\" class=\"data row3 col1\" >14.470000</td>\n",
              "      <td id=\"T_1bb4e_row3_col2\" class=\"data row3 col2\" >12.400000</td>\n",
              "      <td id=\"T_1bb4e_row3_col3\" class=\"data row3 col3\" >12.990000</td>\n",
              "    </tr>\n",
              "    <tr>\n",
              "      <th id=\"T_1bb4e_level0_row4\" class=\"row_heading level0 row4\" >2005-11-01 00:00:00</th>\n",
              "      <td id=\"T_1bb4e_row4_col0\" class=\"data row4 col0\" >13.350000</td>\n",
              "      <td id=\"T_1bb4e_row4_col1\" class=\"data row4 col1\" >13.880000</td>\n",
              "      <td id=\"T_1bb4e_row4_col2\" class=\"data row4 col2\" >12.880000</td>\n",
              "      <td id=\"T_1bb4e_row4_col3\" class=\"data row4 col3\" >13.410000</td>\n",
              "    </tr>\n",
              "  </tbody>\n",
              "</table>\n"
            ]
          },
          "metadata": {},
          "execution_count": 19
        }
      ]
    },
    {
      "cell_type": "code",
      "source": [
        "# Set the background color of the DataFrame to a gradient\n",
        "# using `style.background_gradient()` method\n",
        "stock_df.tail().style.background_gradient(cmap='hot')"
      ],
      "metadata": {
        "id": "DwpH9_gBY-2a",
        "colab": {
          "base_uri": "https://localhost:8080/",
          "height": 237
        },
        "outputId": "b3731962-2621-4b40-c266-2ff463257771"
      },
      "execution_count": null,
      "outputs": [
        {
          "output_type": "execute_result",
          "data": {
            "text/plain": [
              "<pandas.io.formats.style.Styler at 0x7b3c6586a1a0>"
            ],
            "text/html": [
              "<style type=\"text/css\">\n",
              "#T_48bf5_row0_col0, #T_48bf5_row0_col1, #T_48bf5_row2_col2, #T_48bf5_row4_col3 {\n",
              "  background-color: #ffffff;\n",
              "  color: #000000;\n",
              "}\n",
              "#T_48bf5_row0_col2, #T_48bf5_row0_col3, #T_48bf5_row1_col0, #T_48bf5_row3_col1 {\n",
              "  background-color: #0b0000;\n",
              "  color: #f1f1f1;\n",
              "}\n",
              "#T_48bf5_row1_col1 {\n",
              "  background-color: #9e0000;\n",
              "  color: #f1f1f1;\n",
              "}\n",
              "#T_48bf5_row1_col2 {\n",
              "  background-color: #ff3c00;\n",
              "  color: #f1f1f1;\n",
              "}\n",
              "#T_48bf5_row1_col3 {\n",
              "  background-color: #ffff91;\n",
              "  color: #000000;\n",
              "}\n",
              "#T_48bf5_row2_col0 {\n",
              "  background-color: #7b0000;\n",
              "  color: #f1f1f1;\n",
              "}\n",
              "#T_48bf5_row2_col1 {\n",
              "  background-color: #470000;\n",
              "  color: #f1f1f1;\n",
              "}\n",
              "#T_48bf5_row2_col3 {\n",
              "  background-color: #ff3200;\n",
              "  color: #f1f1f1;\n",
              "}\n",
              "#T_48bf5_row3_col0 {\n",
              "  background-color: #4a0000;\n",
              "  color: #f1f1f1;\n",
              "}\n",
              "#T_48bf5_row3_col2 {\n",
              "  background-color: #ffa500;\n",
              "  color: #000000;\n",
              "}\n",
              "#T_48bf5_row3_col3 {\n",
              "  background-color: #7e0000;\n",
              "  color: #f1f1f1;\n",
              "}\n",
              "#T_48bf5_row4_col0 {\n",
              "  background-color: #1d0000;\n",
              "  color: #f1f1f1;\n",
              "}\n",
              "#T_48bf5_row4_col1 {\n",
              "  background-color: #320000;\n",
              "  color: #f1f1f1;\n",
              "}\n",
              "#T_48bf5_row4_col2 {\n",
              "  background-color: #ffcf00;\n",
              "  color: #000000;\n",
              "}\n",
              "</style>\n",
              "<table id=\"T_48bf5\" class=\"dataframe\">\n",
              "  <thead>\n",
              "    <tr>\n",
              "      <th class=\"blank level0\" >&nbsp;</th>\n",
              "      <th id=\"T_48bf5_level0_col0\" class=\"col_heading level0 col0\" >Open</th>\n",
              "      <th id=\"T_48bf5_level0_col1\" class=\"col_heading level0 col1\" >High</th>\n",
              "      <th id=\"T_48bf5_level0_col2\" class=\"col_heading level0 col2\" >Low</th>\n",
              "      <th id=\"T_48bf5_level0_col3\" class=\"col_heading level0 col3\" >Close</th>\n",
              "    </tr>\n",
              "    <tr>\n",
              "      <th class=\"index_name level0\" >Date</th>\n",
              "      <th class=\"blank col0\" >&nbsp;</th>\n",
              "      <th class=\"blank col1\" >&nbsp;</th>\n",
              "      <th class=\"blank col2\" >&nbsp;</th>\n",
              "      <th class=\"blank col3\" >&nbsp;</th>\n",
              "    </tr>\n",
              "  </thead>\n",
              "  <tbody>\n",
              "    <tr>\n",
              "      <th id=\"T_48bf5_level0_row0\" class=\"row_heading level0 row0\" >2020-07-01 00:00:00</th>\n",
              "      <td id=\"T_48bf5_row0_col0\" class=\"data row0 col0\" >25.600000</td>\n",
              "      <td id=\"T_48bf5_row0_col1\" class=\"data row0 col1\" >28.300000</td>\n",
              "      <td id=\"T_48bf5_row0_col2\" class=\"data row0 col2\" >11.100000</td>\n",
              "      <td id=\"T_48bf5_row0_col3\" class=\"data row0 col3\" >11.950000</td>\n",
              "    </tr>\n",
              "    <tr>\n",
              "      <th id=\"T_48bf5_level0_row1\" class=\"row_heading level0 row1\" >2020-08-01 00:00:00</th>\n",
              "      <td id=\"T_48bf5_row1_col0\" class=\"data row1 col0\" >12.000000</td>\n",
              "      <td id=\"T_48bf5_row1_col1\" class=\"data row1 col1\" >17.160000</td>\n",
              "      <td id=\"T_48bf5_row1_col2\" class=\"data row1 col2\" >11.850000</td>\n",
              "      <td id=\"T_48bf5_row1_col3\" class=\"data row1 col3\" >14.370000</td>\n",
              "    </tr>\n",
              "    <tr>\n",
              "      <th id=\"T_48bf5_level0_row2\" class=\"row_heading level0 row2\" >2020-09-01 00:00:00</th>\n",
              "      <td id=\"T_48bf5_row2_col0\" class=\"data row2 col0\" >14.300000</td>\n",
              "      <td id=\"T_48bf5_row2_col1\" class=\"data row2 col1\" >15.340000</td>\n",
              "      <td id=\"T_48bf5_row2_col2\" class=\"data row2 col2\" >12.750000</td>\n",
              "      <td id=\"T_48bf5_row2_col3\" class=\"data row2 col3\" >13.150000</td>\n",
              "    </tr>\n",
              "    <tr>\n",
              "      <th id=\"T_48bf5_level0_row3\" class=\"row_heading level0 row3\" >2020-10-01 00:00:00</th>\n",
              "      <td id=\"T_48bf5_row3_col0\" class=\"data row3 col0\" >13.300000</td>\n",
              "      <td id=\"T_48bf5_row3_col1\" class=\"data row3 col1\" >14.010000</td>\n",
              "      <td id=\"T_48bf5_row3_col2\" class=\"data row3 col2\" >12.110000</td>\n",
              "      <td id=\"T_48bf5_row3_col3\" class=\"data row3 col3\" >12.420000</td>\n",
              "    </tr>\n",
              "    <tr>\n",
              "      <th id=\"T_48bf5_level0_row4\" class=\"row_heading level0 row4\" >2020-11-01 00:00:00</th>\n",
              "      <td id=\"T_48bf5_row4_col0\" class=\"data row4 col0\" >12.410000</td>\n",
              "      <td id=\"T_48bf5_row4_col1\" class=\"data row4 col1\" >14.900000</td>\n",
              "      <td id=\"T_48bf5_row4_col2\" class=\"data row4 col2\" >12.210000</td>\n",
              "      <td id=\"T_48bf5_row4_col3\" class=\"data row4 col3\" >14.670000</td>\n",
              "    </tr>\n",
              "  </tbody>\n",
              "</table>\n"
            ]
          },
          "metadata": {},
          "execution_count": 20
        }
      ]
    },
    {
      "cell_type": "code",
      "source": [
        "dependent_variable = ['Close']\n",
        "independent_variables = list(stock_df.columns[:-1])"
      ],
      "metadata": {
        "id": "tAmN_6In9yBp"
      },
      "execution_count": null,
      "outputs": []
    },
    {
      "cell_type": "markdown",
      "source": [
        "### What all manipulations have you done and insights you found?"
      ],
      "metadata": {
        "id": "MSa1f5Uengrz"
      }
    },
    {
      "cell_type": "markdown",
      "source": [
        "Upon examining the provided dataframe, it becomes apparent that all the columns exclusively consist of numerical data. There is an absence of any categorical data in the dataset, which means that the information available for analysis primarily comprises quantitative values. This characteristic enables direct application of numerical calculations, statistical analyses, and modeling techniques to the dataset. The lack of categorical data simplifies data processing and ensures a streamlined approach when performing quantitative analyses.\n",
        "\n",
        "Furthermore, during the examination of the dataset, it is evident that outliers are present. These outliers are data points that significantly deviate from the majority of the data. Before proceeding with modeling or conducting further analysis, it is crucial to address these outliers. Dealing with outliers involves assessing their impact on the data and making decisions regarding appropriate actions, such as removing or transforming them. By addressing the outliers, we can enhance the robustness and reliability of our models and analyses."
      ],
      "metadata": {
        "id": "LbyXE7I1olp8"
      }
    },
    {
      "cell_type": "markdown",
      "source": [
        "## ***4. Data Vizualization, Storytelling & Experimenting with charts : Understand the relationships between variables***"
      ],
      "metadata": {
        "id": "GF8Ens_Soomf"
      }
    },
    {
      "cell_type": "markdown",
      "source": [
        "#### Chart - 1 - candle stick graph with price movement"
      ],
      "metadata": {
        "id": "0wOQAZs5pc--"
      }
    },
    {
      "cell_type": "code",
      "source": [
        "# Chart - 1 visualization code\n",
        "# Create a Figure object with Candlestick chart\n",
        "fig = go.Figure(go.Candlestick(\n",
        "    x = stock_df.index,            # x-axis values (dates)\n",
        "    open = stock_df['Open'],       # open prices\n",
        "    high = stock_df['High'],       # high prices\n",
        "    low = stock_df['Low'],         # low prices\n",
        "    close = stock_df['Close']      # close prices\n",
        "))\n",
        "\n",
        "# Update the layout of the figure with a title\n",
        "fig.update_layout(\n",
        "    title={'text': 'Describing the Price Movements', 'x': 0.5, 'y': 0.95, 'font': {'color': 'white'}},\n",
        "    xaxis=dict(title='Year', title_font={'color': 'white'}, tickfont={'color': 'white'}),\n",
        "    yaxis=dict(title='Price', title_font={'color': 'white'}, tickfont={'color': 'white'}),\n",
        "    width=1450,\n",
        "    height=1000,\n",
        "    plot_bgcolor='rgb(36, 40, 47)',  # Set the background color to a professional dark gray\n",
        "    paper_bgcolor='rgb(51, 56, 66)'  # Set the paper color\n",
        ")\n",
        "\n",
        "\n",
        "# Show the figure\n",
        "fig.show()"
      ],
      "metadata": {
        "id": "7v_ESjsspbW7",
        "outputId": "de51e5ca-a079-4b39-cdd2-8d48ae401aed",
        "colab": {
          "base_uri": "https://localhost:8080/",
          "height": 1000
        }
      },
      "execution_count": null,
      "outputs": [
        {
          "output_type": "display_data",
          "data": {
            "text/html": [
              "<html>\n",
              "<head><meta charset=\"utf-8\" /></head>\n",
              "<body>\n",
              "    <div>            <script src=\"https://cdnjs.cloudflare.com/ajax/libs/mathjax/2.7.5/MathJax.js?config=TeX-AMS-MML_SVG\"></script><script type=\"text/javascript\">if (window.MathJax && window.MathJax.Hub && window.MathJax.Hub.Config) {window.MathJax.Hub.Config({SVG: {font: \"STIX-Web\"}});}</script>                <script type=\"text/javascript\">window.PlotlyConfig = {MathJaxConfig: 'local'};</script>\n",
              "        <script charset=\"utf-8\" src=\"https://cdn.plot.ly/plotly-2.24.1.min.js\"></script>                <div id=\"08704529-aed0-4729-ae32-f4a5de776930\" class=\"plotly-graph-div\" style=\"height:1000px; width:1450px;\"></div>            <script type=\"text/javascript\">                                    window.PLOTLYENV=window.PLOTLYENV || {};                                    if (document.getElementById(\"08704529-aed0-4729-ae32-f4a5de776930\")) {                    Plotly.newPlot(                        \"08704529-aed0-4729-ae32-f4a5de776930\",                        [{\"close\":[12.46,13.42,13.3,12.99,13.41,13.71,15.33,16.12,20.08,19.49,18.03,15.62,16.16,17.84,18.46,22.78,25.32,26.97,30.16,28.63,28.14,30.31,33.51,35.98,37.93,36.99,41.36,43.48,46.18,49.81,50.54,49.42,33.75,34.06,31.13,22.85,25.45,26.83,24.13,13.58,12.26,15.03,12.24,10.26,9.98,15.45,25.12,29.68,31.93,33.45,40.99,47.31,50.57,53.41,49.84,47.32,50.97,57.1,57.57,53.83,58.99,62.22,70.3,71.86,61.21,62.54,52.59,51.29,61.98,61.02,60.07,62.38,62.13,55.61,54.5,62.9,54.49,47.72,65.99,69.14,73.46,70.07,66.02,67.83,72.85,65.97,76.44,82.29,88.48,92.84,104.41,94.5,85.71,100.28,97.49,92.2,64.76,48.65,57.5,73.76,73.74,74.02,61.59,60.95,82.7,88.14,113.89,108.38,108.21,114.33,111.7,136.83,142.08,154.57,172.5,172.55,163.31,167.96,176.52,168.6,165.74,137.9,145.92,151.82,153.3,145.23,149.38,137.67,172.91,188.73,206.39,221.3,243.44,272.56,250.85,253.52,234.28,231.26,279.1,290.56,309.82,326.14,286.38,292.37,361.96,351.15,350.0,314.35,306.8,315.05,354.45,322.25,304.9,362.05,346.2,339.6,367.9,343.4,183.45,188.05,169.65,181.75,194.3,231.2,275.05,168.0,147.95,108.7,91.3,59.5,41.45,70.45,68.3,46.95,39.2,34.55,22.45,27.95,26.85,25.6,11.95,14.37,13.15,12.42,14.67],\"high\":[14.0,14.88,14.87,14.47,13.88,14.44,17.16,16.97,20.95,20.8,21.8,18.4,17.2,18.6,18.88,24.2,28.47,29.66,34.16,32.6,31.58,31.99,36.14,36.38,41.04,39.0,41.75,47.3,50.98,54.0,55.56,53.97,48.9,35.8,36.88,32.22,30.5,28.98,29.8,25.0,17.8,16.56,18.34,12.5,11.24,17.51,28.84,31.08,33.16,35.18,41.3,52.34,54.98,55.67,57.58,51.48,52.06,59.48,58.08,59.9,60.94,68.88,71.74,76.0,77.6,68.36,63.54,57.69,65.2,68.26,61.68,63.39,68.0,63.96,60.08,64.8,63.7,59.8,66.5,74.8,77.88,76.1,70.59,70.6,73.19,74.78,77.69,84.2,89.6,95.0,107.0,107.8,100.15,101.8,109.43,102.94,100.4,67.81,78.94,76.44,77.27,83.0,76.35,62.7,83.36,94.98,117.6,117.57,114.46,118.69,126.85,137.8,143.91,155.0,179.0,173.88,182.0,172.8,176.96,179.4,175.58,169.19,155.5,155.94,157.96,154.52,149.9,157.85,175.12,190.44,209.0,223.0,247.18,275.0,290.0,265.5,262.72,245.0,284.31,294.19,311.57,330.58,330.3,306.34,372.0,368.52,383.25,375.75,329.8,319.0,366.0,366.5,325.8,368.75,364.4,350.1,393.35,404.0,350.0,268.45,231.4,194.3,236.3,236.9,281.3,285.9,178.05,153.8,110.6,92.4,72.55,76.65,75.35,70.5,48.5,40.7,87.95,30.45,31.6,31.95,28.3,17.16,15.34,14.01,14.9],\"low\":[11.25,12.55,12.27,12.4,12.88,13.0,13.58,15.4,16.02,18.02,15.8,13.4,13.82,15.7,16.8,18.5,21.4,24.4,27.0,26.8,23.31,26.2,29.11,30.4,35.02,30.2,35.3,33.6,40.02,45.0,30.24,44.4,24.11,28.51,30.03,22.62,20.4,24.62,21.7,11.01,11.25,11.13,11.48,9.9,8.16,9.94,14.76,23.0,24.83,29.0,32.0,36.8,42.84,48.6,46.42,44.6,47.3,48.8,50.66,52.6,53.02,59.01,62.51,68.21,58.0,55.44,49.39,46.71,50.8,60.5,54.5,54.8,61.36,50.51,51.2,48.1,52.04,47.4,46.11,63.6,66.2,69.11,58.85,62.14,67.57,65.27,64.46,75.6,82.22,88.01,93.2,93.4,83.42,83.43,97.2,87.15,57.71,43.22,44.8,56.08,64.65,71.63,60.8,58.42,60.34,80.8,86.98,101.62,100.44,103.31,107.18,109.2,132.44,134.0,150.47,156.1,156.8,154.53,157.8,158.9,156.45,118.0,127.0,141.73,144.03,133.71,126.45,132.74,138.35,165.33,181.28,201.14,221.35,240.68,231.2,245.8,219.1,218.25,226.3,275.61,283.6,300.2,275.15,280.21,290.78,337.37,345.5,299.0,296.0,300.65,307.35,304.65,285.1,303.3,325.7,327.35,332.45,338.0,166.15,168.6,147.0,160.2,181.15,167.65,228.8,165.3,133.05,98.75,81.75,53.15,40.95,29.05,59.95,40.7,36.55,33.6,5.55,20.3,25.2,25.55,11.1,11.85,12.75,12.11,12.21],\"open\":[13.0,12.58,13.48,13.2,13.35,13.49,13.68,15.5,16.2,20.56,19.8,18.2,16.0,15.9,18.0,18.78,22.8,25.4,27.4,30.2,29.3,27.0,30.66,33.89,35.98,37.5,37.4,41.8,44.4,46.4,49.99,50.88,48.9,33.9,34.3,31.22,22.85,25.0,26.68,24.6,14.79,12.4,15.28,12.19,10.0,10.04,15.94,25.6,29.7,31.98,33.8,41.2,46.58,50.98,53.6,49.0,47.8,50.67,56.94,56.7,53.55,59.4,62.8,70.9,72.2,61.8,62.98,53.0,51.84,62.0,61.26,60.4,63.0,62.9,56.0,53.8,62.2,57.0,47.92,65.9,69.0,73.62,70.4,65.45,68.15,73.0,66.2,76.4,82.54,89.2,93.2,104.41,94.0,85.7,100.99,99.0,92.4,66.0,49.2,58.0,74.0,74.4,74.74,61.54,60.52,83.45,88.8,114.8,108.43,107.4,114.6,112.1,137.1,142.08,154.4,172.5,174.8,162.8,170.0,177.0,169.0,165.9,135.61,146.96,151.73,153.0,145.0,150.4,138.8,172.02,189.8,206.4,221.96,244.0,273.3,253.41,255.0,235.4,231.98,280.4,290.6,309.6,326.0,286.66,293.04,363.0,351.0,354.6,315.5,307.2,314.0,355.0,320.7,305.0,362.85,348.0,340.0,369.95,347.2,180.0,192.0,174.0,182.85,197.0,234.6,277.0,163.3,147.95,109.6,89.2,59.5,42.0,71.0,70.0,46.9,39.1,35.2,22.3,27.8,27.75,25.6,12.0,14.3,13.3,12.41],\"x\":[\"2005-07-01T00:00:00\",\"2005-08-01T00:00:00\",\"2005-09-01T00:00:00\",\"2005-10-01T00:00:00\",\"2005-11-01T00:00:00\",\"2005-12-01T00:00:00\",\"2006-01-01T00:00:00\",\"2006-02-01T00:00:00\",\"2006-03-01T00:00:00\",\"2006-04-01T00:00:00\",\"2006-05-01T00:00:00\",\"2006-06-01T00:00:00\",\"2006-07-01T00:00:00\",\"2006-08-01T00:00:00\",\"2006-09-01T00:00:00\",\"2006-10-01T00:00:00\",\"2006-11-01T00:00:00\",\"2006-12-01T00:00:00\",\"2007-01-01T00:00:00\",\"2007-02-01T00:00:00\",\"2007-03-01T00:00:00\",\"2007-04-01T00:00:00\",\"2007-05-01T00:00:00\",\"2007-06-01T00:00:00\",\"2007-07-01T00:00:00\",\"2007-08-01T00:00:00\",\"2007-09-01T00:00:00\",\"2007-10-01T00:00:00\",\"2007-11-01T00:00:00\",\"2007-12-01T00:00:00\",\"2008-01-01T00:00:00\",\"2008-02-01T00:00:00\",\"2008-03-01T00:00:00\",\"2008-04-01T00:00:00\",\"2008-05-01T00:00:00\",\"2008-06-01T00:00:00\",\"2008-07-01T00:00:00\",\"2008-08-01T00:00:00\",\"2008-09-01T00:00:00\",\"2008-10-01T00:00:00\",\"2008-11-01T00:00:00\",\"2008-12-01T00:00:00\",\"2009-01-01T00:00:00\",\"2009-02-01T00:00:00\",\"2009-03-01T00:00:00\",\"2009-04-01T00:00:00\",\"2009-05-01T00:00:00\",\"2009-06-01T00:00:00\",\"2009-07-01T00:00:00\",\"2009-08-01T00:00:00\",\"2009-09-01T00:00:00\",\"2009-10-01T00:00:00\",\"2009-11-01T00:00:00\",\"2009-12-01T00:00:00\",\"2010-01-01T00:00:00\",\"2010-02-01T00:00:00\",\"2010-03-01T00:00:00\",\"2010-04-01T00:00:00\",\"2010-05-01T00:00:00\",\"2010-06-01T00:00:00\",\"2010-07-01T00:00:00\",\"2010-08-01T00:00:00\",\"2010-09-01T00:00:00\",\"2010-10-01T00:00:00\",\"2010-11-01T00:00:00\",\"2010-12-01T00:00:00\",\"2011-01-01T00:00:00\",\"2011-02-01T00:00:00\",\"2011-03-01T00:00:00\",\"2011-04-01T00:00:00\",\"2011-05-01T00:00:00\",\"2011-06-01T00:00:00\",\"2011-07-01T00:00:00\",\"2011-08-01T00:00:00\",\"2011-09-01T00:00:00\",\"2011-10-01T00:00:00\",\"2011-11-01T00:00:00\",\"2011-12-01T00:00:00\",\"2012-01-01T00:00:00\",\"2012-02-01T00:00:00\",\"2012-03-01T00:00:00\",\"2012-04-01T00:00:00\",\"2012-05-01T00:00:00\",\"2012-06-01T00:00:00\",\"2012-07-01T00:00:00\",\"2012-08-01T00:00:00\",\"2012-09-01T00:00:00\",\"2012-10-01T00:00:00\",\"2012-11-01T00:00:00\",\"2012-12-01T00:00:00\",\"2013-01-01T00:00:00\",\"2013-02-01T00:00:00\",\"2013-03-01T00:00:00\",\"2013-04-01T00:00:00\",\"2013-05-01T00:00:00\",\"2013-06-01T00:00:00\",\"2013-07-01T00:00:00\",\"2013-08-01T00:00:00\",\"2013-09-01T00:00:00\",\"2013-10-01T00:00:00\",\"2013-11-01T00:00:00\",\"2013-12-01T00:00:00\",\"2014-01-01T00:00:00\",\"2014-02-01T00:00:00\",\"2014-03-01T00:00:00\",\"2014-04-01T00:00:00\",\"2014-05-01T00:00:00\",\"2014-06-01T00:00:00\",\"2014-07-01T00:00:00\",\"2014-08-01T00:00:00\",\"2014-09-01T00:00:00\",\"2014-10-01T00:00:00\",\"2014-11-01T00:00:00\",\"2014-12-01T00:00:00\",\"2015-01-01T00:00:00\",\"2015-02-01T00:00:00\",\"2015-03-01T00:00:00\",\"2015-04-01T00:00:00\",\"2015-05-01T00:00:00\",\"2015-06-01T00:00:00\",\"2015-07-01T00:00:00\",\"2015-08-01T00:00:00\",\"2015-09-01T00:00:00\",\"2015-10-01T00:00:00\",\"2015-11-01T00:00:00\",\"2015-12-01T00:00:00\",\"2016-01-01T00:00:00\",\"2016-02-01T00:00:00\",\"2016-03-01T00:00:00\",\"2016-04-01T00:00:00\",\"2016-05-01T00:00:00\",\"2016-06-01T00:00:00\",\"2016-07-01T00:00:00\",\"2016-08-01T00:00:00\",\"2016-09-01T00:00:00\",\"2016-10-01T00:00:00\",\"2016-11-01T00:00:00\",\"2016-12-01T00:00:00\",\"2017-01-01T00:00:00\",\"2017-02-01T00:00:00\",\"2017-03-01T00:00:00\",\"2017-04-01T00:00:00\",\"2017-05-01T00:00:00\",\"2017-06-01T00:00:00\",\"2017-07-01T00:00:00\",\"2017-08-01T00:00:00\",\"2017-09-01T00:00:00\",\"2017-10-01T00:00:00\",\"2017-11-01T00:00:00\",\"2017-12-01T00:00:00\",\"2018-01-01T00:00:00\",\"2018-02-01T00:00:00\",\"2018-03-01T00:00:00\",\"2018-04-01T00:00:00\",\"2018-05-01T00:00:00\",\"2018-06-01T00:00:00\",\"2018-07-01T00:00:00\",\"2018-08-01T00:00:00\",\"2018-09-01T00:00:00\",\"2018-10-01T00:00:00\",\"2018-11-01T00:00:00\",\"2018-12-01T00:00:00\",\"2019-01-01T00:00:00\",\"2019-02-01T00:00:00\",\"2019-03-01T00:00:00\",\"2019-04-01T00:00:00\",\"2019-05-01T00:00:00\",\"2019-06-01T00:00:00\",\"2019-07-01T00:00:00\",\"2019-08-01T00:00:00\",\"2019-09-01T00:00:00\",\"2019-10-01T00:00:00\",\"2019-11-01T00:00:00\",\"2019-12-01T00:00:00\",\"2020-01-01T00:00:00\",\"2020-02-01T00:00:00\",\"2020-03-01T00:00:00\",\"2020-04-01T00:00:00\",\"2020-05-01T00:00:00\",\"2020-06-01T00:00:00\",\"2020-07-01T00:00:00\",\"2020-08-01T00:00:00\",\"2020-09-01T00:00:00\",\"2020-10-01T00:00:00\",\"2020-11-01T00:00:00\"],\"type\":\"candlestick\"}],                        {\"template\":{\"data\":{\"histogram2dcontour\":[{\"type\":\"histogram2dcontour\",\"colorbar\":{\"outlinewidth\":0,\"ticks\":\"\"},\"colorscale\":[[0.0,\"#0d0887\"],[0.1111111111111111,\"#46039f\"],[0.2222222222222222,\"#7201a8\"],[0.3333333333333333,\"#9c179e\"],[0.4444444444444444,\"#bd3786\"],[0.5555555555555556,\"#d8576b\"],[0.6666666666666666,\"#ed7953\"],[0.7777777777777778,\"#fb9f3a\"],[0.8888888888888888,\"#fdca26\"],[1.0,\"#f0f921\"]]}],\"choropleth\":[{\"type\":\"choropleth\",\"colorbar\":{\"outlinewidth\":0,\"ticks\":\"\"}}],\"histogram2d\":[{\"type\":\"histogram2d\",\"colorbar\":{\"outlinewidth\":0,\"ticks\":\"\"},\"colorscale\":[[0.0,\"#0d0887\"],[0.1111111111111111,\"#46039f\"],[0.2222222222222222,\"#7201a8\"],[0.3333333333333333,\"#9c179e\"],[0.4444444444444444,\"#bd3786\"],[0.5555555555555556,\"#d8576b\"],[0.6666666666666666,\"#ed7953\"],[0.7777777777777778,\"#fb9f3a\"],[0.8888888888888888,\"#fdca26\"],[1.0,\"#f0f921\"]]}],\"heatmap\":[{\"type\":\"heatmap\",\"colorbar\":{\"outlinewidth\":0,\"ticks\":\"\"},\"colorscale\":[[0.0,\"#0d0887\"],[0.1111111111111111,\"#46039f\"],[0.2222222222222222,\"#7201a8\"],[0.3333333333333333,\"#9c179e\"],[0.4444444444444444,\"#bd3786\"],[0.5555555555555556,\"#d8576b\"],[0.6666666666666666,\"#ed7953\"],[0.7777777777777778,\"#fb9f3a\"],[0.8888888888888888,\"#fdca26\"],[1.0,\"#f0f921\"]]}],\"heatmapgl\":[{\"type\":\"heatmapgl\",\"colorbar\":{\"outlinewidth\":0,\"ticks\":\"\"},\"colorscale\":[[0.0,\"#0d0887\"],[0.1111111111111111,\"#46039f\"],[0.2222222222222222,\"#7201a8\"],[0.3333333333333333,\"#9c179e\"],[0.4444444444444444,\"#bd3786\"],[0.5555555555555556,\"#d8576b\"],[0.6666666666666666,\"#ed7953\"],[0.7777777777777778,\"#fb9f3a\"],[0.8888888888888888,\"#fdca26\"],[1.0,\"#f0f921\"]]}],\"contourcarpet\":[{\"type\":\"contourcarpet\",\"colorbar\":{\"outlinewidth\":0,\"ticks\":\"\"}}],\"contour\":[{\"type\":\"contour\",\"colorbar\":{\"outlinewidth\":0,\"ticks\":\"\"},\"colorscale\":[[0.0,\"#0d0887\"],[0.1111111111111111,\"#46039f\"],[0.2222222222222222,\"#7201a8\"],[0.3333333333333333,\"#9c179e\"],[0.4444444444444444,\"#bd3786\"],[0.5555555555555556,\"#d8576b\"],[0.6666666666666666,\"#ed7953\"],[0.7777777777777778,\"#fb9f3a\"],[0.8888888888888888,\"#fdca26\"],[1.0,\"#f0f921\"]]}],\"surface\":[{\"type\":\"surface\",\"colorbar\":{\"outlinewidth\":0,\"ticks\":\"\"},\"colorscale\":[[0.0,\"#0d0887\"],[0.1111111111111111,\"#46039f\"],[0.2222222222222222,\"#7201a8\"],[0.3333333333333333,\"#9c179e\"],[0.4444444444444444,\"#bd3786\"],[0.5555555555555556,\"#d8576b\"],[0.6666666666666666,\"#ed7953\"],[0.7777777777777778,\"#fb9f3a\"],[0.8888888888888888,\"#fdca26\"],[1.0,\"#f0f921\"]]}],\"mesh3d\":[{\"type\":\"mesh3d\",\"colorbar\":{\"outlinewidth\":0,\"ticks\":\"\"}}],\"scatter\":[{\"fillpattern\":{\"fillmode\":\"overlay\",\"size\":10,\"solidity\":0.2},\"type\":\"scatter\"}],\"parcoords\":[{\"type\":\"parcoords\",\"line\":{\"colorbar\":{\"outlinewidth\":0,\"ticks\":\"\"}}}],\"scatterpolargl\":[{\"type\":\"scatterpolargl\",\"marker\":{\"colorbar\":{\"outlinewidth\":0,\"ticks\":\"\"}}}],\"bar\":[{\"error_x\":{\"color\":\"#2a3f5f\"},\"error_y\":{\"color\":\"#2a3f5f\"},\"marker\":{\"line\":{\"color\":\"#E5ECF6\",\"width\":0.5},\"pattern\":{\"fillmode\":\"overlay\",\"size\":10,\"solidity\":0.2}},\"type\":\"bar\"}],\"scattergeo\":[{\"type\":\"scattergeo\",\"marker\":{\"colorbar\":{\"outlinewidth\":0,\"ticks\":\"\"}}}],\"scatterpolar\":[{\"type\":\"scatterpolar\",\"marker\":{\"colorbar\":{\"outlinewidth\":0,\"ticks\":\"\"}}}],\"histogram\":[{\"marker\":{\"pattern\":{\"fillmode\":\"overlay\",\"size\":10,\"solidity\":0.2}},\"type\":\"histogram\"}],\"scattergl\":[{\"type\":\"scattergl\",\"marker\":{\"colorbar\":{\"outlinewidth\":0,\"ticks\":\"\"}}}],\"scatter3d\":[{\"type\":\"scatter3d\",\"line\":{\"colorbar\":{\"outlinewidth\":0,\"ticks\":\"\"}},\"marker\":{\"colorbar\":{\"outlinewidth\":0,\"ticks\":\"\"}}}],\"scattermapbox\":[{\"type\":\"scattermapbox\",\"marker\":{\"colorbar\":{\"outlinewidth\":0,\"ticks\":\"\"}}}],\"scatterternary\":[{\"type\":\"scatterternary\",\"marker\":{\"colorbar\":{\"outlinewidth\":0,\"ticks\":\"\"}}}],\"scattercarpet\":[{\"type\":\"scattercarpet\",\"marker\":{\"colorbar\":{\"outlinewidth\":0,\"ticks\":\"\"}}}],\"carpet\":[{\"aaxis\":{\"endlinecolor\":\"#2a3f5f\",\"gridcolor\":\"white\",\"linecolor\":\"white\",\"minorgridcolor\":\"white\",\"startlinecolor\":\"#2a3f5f\"},\"baxis\":{\"endlinecolor\":\"#2a3f5f\",\"gridcolor\":\"white\",\"linecolor\":\"white\",\"minorgridcolor\":\"white\",\"startlinecolor\":\"#2a3f5f\"},\"type\":\"carpet\"}],\"table\":[{\"cells\":{\"fill\":{\"color\":\"#EBF0F8\"},\"line\":{\"color\":\"white\"}},\"header\":{\"fill\":{\"color\":\"#C8D4E3\"},\"line\":{\"color\":\"white\"}},\"type\":\"table\"}],\"barpolar\":[{\"marker\":{\"line\":{\"color\":\"#E5ECF6\",\"width\":0.5},\"pattern\":{\"fillmode\":\"overlay\",\"size\":10,\"solidity\":0.2}},\"type\":\"barpolar\"}],\"pie\":[{\"automargin\":true,\"type\":\"pie\"}]},\"layout\":{\"autotypenumbers\":\"strict\",\"colorway\":[\"#636efa\",\"#EF553B\",\"#00cc96\",\"#ab63fa\",\"#FFA15A\",\"#19d3f3\",\"#FF6692\",\"#B6E880\",\"#FF97FF\",\"#FECB52\"],\"font\":{\"color\":\"#2a3f5f\"},\"hovermode\":\"closest\",\"hoverlabel\":{\"align\":\"left\"},\"paper_bgcolor\":\"white\",\"plot_bgcolor\":\"#E5ECF6\",\"polar\":{\"bgcolor\":\"#E5ECF6\",\"angularaxis\":{\"gridcolor\":\"white\",\"linecolor\":\"white\",\"ticks\":\"\"},\"radialaxis\":{\"gridcolor\":\"white\",\"linecolor\":\"white\",\"ticks\":\"\"}},\"ternary\":{\"bgcolor\":\"#E5ECF6\",\"aaxis\":{\"gridcolor\":\"white\",\"linecolor\":\"white\",\"ticks\":\"\"},\"baxis\":{\"gridcolor\":\"white\",\"linecolor\":\"white\",\"ticks\":\"\"},\"caxis\":{\"gridcolor\":\"white\",\"linecolor\":\"white\",\"ticks\":\"\"}},\"coloraxis\":{\"colorbar\":{\"outlinewidth\":0,\"ticks\":\"\"}},\"colorscale\":{\"sequential\":[[0.0,\"#0d0887\"],[0.1111111111111111,\"#46039f\"],[0.2222222222222222,\"#7201a8\"],[0.3333333333333333,\"#9c179e\"],[0.4444444444444444,\"#bd3786\"],[0.5555555555555556,\"#d8576b\"],[0.6666666666666666,\"#ed7953\"],[0.7777777777777778,\"#fb9f3a\"],[0.8888888888888888,\"#fdca26\"],[1.0,\"#f0f921\"]],\"sequentialminus\":[[0.0,\"#0d0887\"],[0.1111111111111111,\"#46039f\"],[0.2222222222222222,\"#7201a8\"],[0.3333333333333333,\"#9c179e\"],[0.4444444444444444,\"#bd3786\"],[0.5555555555555556,\"#d8576b\"],[0.6666666666666666,\"#ed7953\"],[0.7777777777777778,\"#fb9f3a\"],[0.8888888888888888,\"#fdca26\"],[1.0,\"#f0f921\"]],\"diverging\":[[0,\"#8e0152\"],[0.1,\"#c51b7d\"],[0.2,\"#de77ae\"],[0.3,\"#f1b6da\"],[0.4,\"#fde0ef\"],[0.5,\"#f7f7f7\"],[0.6,\"#e6f5d0\"],[0.7,\"#b8e186\"],[0.8,\"#7fbc41\"],[0.9,\"#4d9221\"],[1,\"#276419\"]]},\"xaxis\":{\"gridcolor\":\"white\",\"linecolor\":\"white\",\"ticks\":\"\",\"title\":{\"standoff\":15},\"zerolinecolor\":\"white\",\"automargin\":true,\"zerolinewidth\":2},\"yaxis\":{\"gridcolor\":\"white\",\"linecolor\":\"white\",\"ticks\":\"\",\"title\":{\"standoff\":15},\"zerolinecolor\":\"white\",\"automargin\":true,\"zerolinewidth\":2},\"scene\":{\"xaxis\":{\"backgroundcolor\":\"#E5ECF6\",\"gridcolor\":\"white\",\"linecolor\":\"white\",\"showbackground\":true,\"ticks\":\"\",\"zerolinecolor\":\"white\",\"gridwidth\":2},\"yaxis\":{\"backgroundcolor\":\"#E5ECF6\",\"gridcolor\":\"white\",\"linecolor\":\"white\",\"showbackground\":true,\"ticks\":\"\",\"zerolinecolor\":\"white\",\"gridwidth\":2},\"zaxis\":{\"backgroundcolor\":\"#E5ECF6\",\"gridcolor\":\"white\",\"linecolor\":\"white\",\"showbackground\":true,\"ticks\":\"\",\"zerolinecolor\":\"white\",\"gridwidth\":2}},\"shapedefaults\":{\"line\":{\"color\":\"#2a3f5f\"}},\"annotationdefaults\":{\"arrowcolor\":\"#2a3f5f\",\"arrowhead\":0,\"arrowwidth\":1},\"geo\":{\"bgcolor\":\"white\",\"landcolor\":\"#E5ECF6\",\"subunitcolor\":\"white\",\"showland\":true,\"showlakes\":true,\"lakecolor\":\"white\"},\"title\":{\"x\":0.05},\"mapbox\":{\"style\":\"light\"}}},\"title\":{\"font\":{\"color\":\"white\"},\"text\":\"Describing the Price Movements\",\"x\":0.5,\"y\":0.95},\"xaxis\":{\"title\":{\"text\":\"Year\",\"font\":{\"color\":\"white\"}},\"tickfont\":{\"color\":\"white\"}},\"yaxis\":{\"title\":{\"text\":\"Price\",\"font\":{\"color\":\"white\"}},\"tickfont\":{\"color\":\"white\"}},\"width\":1450,\"height\":1000,\"plot_bgcolor\":\"rgb(36, 40, 47)\",\"paper_bgcolor\":\"rgb(51, 56, 66)\"},                        {\"responsive\": true}                    ).then(function(){\n",
              "                            \n",
              "var gd = document.getElementById('08704529-aed0-4729-ae32-f4a5de776930');\n",
              "var x = new MutationObserver(function (mutations, observer) {{\n",
              "        var display = window.getComputedStyle(gd).display;\n",
              "        if (!display || display === 'none') {{\n",
              "            console.log([gd, 'removed!']);\n",
              "            Plotly.purge(gd);\n",
              "            observer.disconnect();\n",
              "        }}\n",
              "}});\n",
              "\n",
              "// Listen for the removal of the full notebook cells\n",
              "var notebookContainer = gd.closest('#notebook-container');\n",
              "if (notebookContainer) {{\n",
              "    x.observe(notebookContainer, {childList: true});\n",
              "}}\n",
              "\n",
              "// Listen for the clearing of the current output cell\n",
              "var outputEl = gd.closest('.output');\n",
              "if (outputEl) {{\n",
              "    x.observe(outputEl, {childList: true});\n",
              "}}\n",
              "\n",
              "                        })                };                            </script>        </div>\n",
              "</body>\n",
              "</html>"
            ]
          },
          "metadata": {}
        }
      ]
    },
    {
      "cell_type": "markdown",
      "source": [
        "![newplot.png](data:image/png;base64,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)"
      ],
      "metadata": {
        "id": "V5Lqk4HNnr6n"
      }
    },
    {
      "cell_type": "markdown",
      "source": [
        "##### 1. Why did you pick the specific chart?"
      ],
      "metadata": {
        "id": "K5QZ13OEpz2H"
      }
    },
    {
      "cell_type": "markdown",
      "source": [
        "The Candlestick chart was chosen as our preferred visualization for analyzing price movements due to its effectiveness in conveying essential information. It provides a visual representation of open, high, low, and close prices, making it a popular choice for us in financial analysis, particularly in the context of stocks and other assets. The Candlestick chart excels in capturing market sentiment and price trends, as each candlestick represents a specific time interval. By observing the color and shape of the candlesticks, we can quickly discern whether prices increased or decreased during that interval. The high and low points of the candlesticks indicate the highest and lowest prices reached within the given period, while the body represents the opening and closing prices. These features enable us to identify patterns, trends, and potential price reversals, facilitating informed decisions regarding asset buying or selling. The larger graph size further enhances visibility, allowing for a more detailed analysis of the price movements depicted by the Candlestick chart. Overall, the Candlestick chart is a valuable tool for us to understand and interpret price dynamics in financial markets."
      ],
      "metadata": {
        "id": "XESiWehPqBRc"
      }
    },
    {
      "cell_type": "markdown",
      "source": [
        "##### 2. What is/are the insight(s) found from the chart?"
      ],
      "metadata": {
        "id": "lQ7QKXXCp7Bj"
      }
    },
    {
      "cell_type": "markdown",
      "source": [
        "The analysis of Yes Bank stock prices reveals a distinct pattern. Prior to 2018, the stock exhibited a consistent upward trend, indicating positive growth and reflecting investor optimism. However, a significant decline occurred after this period, primarily attributed to the Yes Bank fraud case involving Rana Kapoor, the former CEO.\n",
        "\n",
        "Leading up to 2018, the stock experienced a continuous rise, demonstrating favorable market conditions and investor confidence. However, the revelation of the fraud case involving Rana Kapoor had a profound impact on the stock's performance. This event marked a turning point, as the stock prices sharply declined.\n",
        "\n",
        "The fraud case involving Rana Kapoor significantly affected investor sentiment, eroding trust and confidence in Yes Bank. Consequently, the stock's value experienced a notable decrease, reflecting the negative repercussions of the scandal on the company's reputation and financial stability.\n",
        "\n",
        "Overall, the analysis highlights the contrasting trends in Yes Bank's stock prices. Pre-2018, there was a consistent upward trajectory, while the post-2018 period witnessed a significant decline due to the repercussions of the fraud case involving Rana Kapoor."
      ],
      "metadata": {
        "id": "C_j1G7yiqdRP"
      }
    },
    {
      "cell_type": "markdown",
      "source": [
        "##### 3. Will the gained insights help creating a positive business impact?\n",
        "Are there any insights that lead to negative growth? Justify with specific reason."
      ],
      "metadata": {
        "id": "448CDAPjqfQr"
      }
    },
    {
      "cell_type": "markdown",
      "source": [
        "The impact of the Yes Bank fraud case on the stock prices is evident in the abrupt change in the trend. The case brought about increased scrutiny and regulatory interventions, causing a negative sentiment surrounding the bank's future prospects. Consequently, investors reacted by selling off their shares, leading to a rapid decline in the stock prices.\n",
        "\n",
        "It is important to consider external factors, such as legal proceedings and market sentiment, when interpreting the observed drop in stock prices. The Yes Bank fraud case involving Rana Kapoor significantly affected investor perception and had a direct impact on the stock's value, resulting in the observed downturn in stock prices after 2018."
      ],
      "metadata": {
        "id": "3cspy4FjqxJW"
      }
    },
    {
      "cell_type": "markdown",
      "source": [
        "#### Chart - 2"
      ],
      "metadata": {
        "id": "KSlN3yHqYklG"
      }
    },
    {
      "cell_type": "code",
      "source": [
        "# Chart - 2 visualization code"
      ],
      "metadata": {
        "id": "R4YgtaqtYklH"
      },
      "execution_count": null,
      "outputs": []
    },
    {
      "cell_type": "markdown",
      "source": [
        "##### 1. Why did you pick the specific chart?"
      ],
      "metadata": {
        "id": "t6dVpIINYklI"
      }
    },
    {
      "cell_type": "markdown",
      "source": [
        "Answer Here."
      ],
      "metadata": {
        "id": "5aaW0BYyYklI"
      }
    },
    {
      "cell_type": "markdown",
      "source": [
        "##### 2. What is/are the insight(s) found from the chart?"
      ],
      "metadata": {
        "id": "ijmpgYnKYklI"
      }
    },
    {
      "cell_type": "markdown",
      "source": [
        "Answer Here"
      ],
      "metadata": {
        "id": "PSx9atu2YklI"
      }
    },
    {
      "cell_type": "markdown",
      "source": [
        "##### 3. Will the gained insights help creating a positive business impact?\n",
        "Are there any insights that lead to negative growth? Justify with specific reason."
      ],
      "metadata": {
        "id": "-JiQyfWJYklI"
      }
    },
    {
      "cell_type": "markdown",
      "source": [
        "Answer Here"
      ],
      "metadata": {
        "id": "BcBbebzrYklV"
      }
    },
    {
      "cell_type": "markdown",
      "source": [
        "#### Chart - 3"
      ],
      "metadata": {
        "id": "EM7whBJCYoAo"
      }
    },
    {
      "cell_type": "code",
      "source": [
        "# Chart - 3 visualization code"
      ],
      "metadata": {
        "id": "t6GMdE67YoAp"
      },
      "execution_count": null,
      "outputs": []
    },
    {
      "cell_type": "markdown",
      "source": [
        "##### 1. Why did you pick the specific chart?"
      ],
      "metadata": {
        "id": "fge-S5ZAYoAp"
      }
    },
    {
      "cell_type": "markdown",
      "source": [
        "Answer Here."
      ],
      "metadata": {
        "id": "5dBItgRVYoAp"
      }
    },
    {
      "cell_type": "markdown",
      "source": [
        "##### 2. What is/are the insight(s) found from the chart?"
      ],
      "metadata": {
        "id": "85gYPyotYoAp"
      }
    },
    {
      "cell_type": "markdown",
      "source": [
        "Answer Here"
      ],
      "metadata": {
        "id": "4jstXR6OYoAp"
      }
    },
    {
      "cell_type": "markdown",
      "source": [
        "##### 3. Will the gained insights help creating a positive business impact?\n",
        "Are there any insights that lead to negative growth? Justify with specific reason."
      ],
      "metadata": {
        "id": "RoGjAbkUYoAp"
      }
    },
    {
      "cell_type": "markdown",
      "source": [
        "Answer Here"
      ],
      "metadata": {
        "id": "zfJ8IqMcYoAp"
      }
    },
    {
      "cell_type": "markdown",
      "source": [
        "#### Chart - 4"
      ],
      "metadata": {
        "id": "4Of9eVA-YrdM"
      }
    },
    {
      "cell_type": "code",
      "source": [
        "# Chart - 4 visualization code"
      ],
      "metadata": {
        "id": "irlUoxc8YrdO"
      },
      "execution_count": null,
      "outputs": []
    },
    {
      "cell_type": "markdown",
      "source": [
        "##### 1. Why did you pick the specific chart?"
      ],
      "metadata": {
        "id": "iky9q4vBYrdO"
      }
    },
    {
      "cell_type": "markdown",
      "source": [
        "Answer Here."
      ],
      "metadata": {
        "id": "aJRCwT6DYrdO"
      }
    },
    {
      "cell_type": "markdown",
      "source": [
        "##### 2. What is/are the insight(s) found from the chart?"
      ],
      "metadata": {
        "id": "F6T5p64dYrdO"
      }
    },
    {
      "cell_type": "markdown",
      "source": [
        "Answer Here"
      ],
      "metadata": {
        "id": "Xx8WAJvtYrdO"
      }
    },
    {
      "cell_type": "markdown",
      "source": [
        "##### 3. Will the gained insights help creating a positive business impact?\n",
        "Are there any insights that lead to negative growth? Justify with specific reason."
      ],
      "metadata": {
        "id": "y-Ehk30pYrdP"
      }
    },
    {
      "cell_type": "markdown",
      "source": [
        "Answer Here"
      ],
      "metadata": {
        "id": "jLNxxz7MYrdP"
      }
    },
    {
      "cell_type": "markdown",
      "source": [
        "#### Chart - 5"
      ],
      "metadata": {
        "id": "bamQiAODYuh1"
      }
    },
    {
      "cell_type": "code",
      "source": [
        "# Chart - 5 visualization code"
      ],
      "metadata": {
        "id": "TIJwrbroYuh3"
      },
      "execution_count": null,
      "outputs": []
    },
    {
      "cell_type": "markdown",
      "source": [
        "##### 1. Why did you pick the specific chart?"
      ],
      "metadata": {
        "id": "QHF8YVU7Yuh3"
      }
    },
    {
      "cell_type": "markdown",
      "source": [
        "Answer Here."
      ],
      "metadata": {
        "id": "dcxuIMRPYuh3"
      }
    },
    {
      "cell_type": "markdown",
      "source": [
        "##### 2. What is/are the insight(s) found from the chart?"
      ],
      "metadata": {
        "id": "GwzvFGzlYuh3"
      }
    },
    {
      "cell_type": "markdown",
      "source": [
        "Answer Here"
      ],
      "metadata": {
        "id": "uyqkiB8YYuh3"
      }
    },
    {
      "cell_type": "markdown",
      "source": [
        "##### 3. Will the gained insights help creating a positive business impact?\n",
        "Are there any insights that lead to negative growth? Justify with specific reason."
      ],
      "metadata": {
        "id": "qYpmQ266Yuh3"
      }
    },
    {
      "cell_type": "markdown",
      "source": [
        "Answer Here"
      ],
      "metadata": {
        "id": "_WtzZ_hCYuh4"
      }
    },
    {
      "cell_type": "markdown",
      "source": [
        "#### Chart - 6"
      ],
      "metadata": {
        "id": "OH-pJp9IphqM"
      }
    },
    {
      "cell_type": "code",
      "source": [
        "# Chart - 6 visualization code"
      ],
      "metadata": {
        "id": "kuRf4wtuphqN"
      },
      "execution_count": null,
      "outputs": []
    },
    {
      "cell_type": "markdown",
      "source": [
        "##### 1. Why did you pick the specific chart?"
      ],
      "metadata": {
        "id": "bbFf2-_FphqN"
      }
    },
    {
      "cell_type": "markdown",
      "source": [
        "Answer Here."
      ],
      "metadata": {
        "id": "loh7H2nzphqN"
      }
    },
    {
      "cell_type": "markdown",
      "source": [
        "##### 2. What is/are the insight(s) found from the chart?"
      ],
      "metadata": {
        "id": "_ouA3fa0phqN"
      }
    },
    {
      "cell_type": "markdown",
      "source": [
        "Answer Here"
      ],
      "metadata": {
        "id": "VECbqPI7phqN"
      }
    },
    {
      "cell_type": "markdown",
      "source": [
        "##### 3. Will the gained insights help creating a positive business impact?\n",
        "Are there any insights that lead to negative growth? Justify with specific reason."
      ],
      "metadata": {
        "id": "Seke61FWphqN"
      }
    },
    {
      "cell_type": "markdown",
      "source": [
        "Answer Here"
      ],
      "metadata": {
        "id": "DW4_bGpfphqN"
      }
    },
    {
      "cell_type": "markdown",
      "source": [
        "#### Chart - 7"
      ],
      "metadata": {
        "id": "PIIx-8_IphqN"
      }
    },
    {
      "cell_type": "code",
      "source": [
        "# Chart - 7 visualization code"
      ],
      "metadata": {
        "id": "lqAIGUfyphqO"
      },
      "execution_count": null,
      "outputs": []
    },
    {
      "cell_type": "markdown",
      "source": [
        "##### 1. Why did you pick the specific chart?"
      ],
      "metadata": {
        "id": "t27r6nlMphqO"
      }
    },
    {
      "cell_type": "markdown",
      "source": [
        "Answer Here."
      ],
      "metadata": {
        "id": "iv6ro40sphqO"
      }
    },
    {
      "cell_type": "markdown",
      "source": [
        "##### 2. What is/are the insight(s) found from the chart?"
      ],
      "metadata": {
        "id": "r2jJGEOYphqO"
      }
    },
    {
      "cell_type": "markdown",
      "source": [
        "Answer Here"
      ],
      "metadata": {
        "id": "Po6ZPi4hphqO"
      }
    },
    {
      "cell_type": "markdown",
      "source": [
        "##### 3. Will the gained insights help creating a positive business impact?\n",
        "Are there any insights that lead to negative growth? Justify with specific reason."
      ],
      "metadata": {
        "id": "b0JNsNcRphqO"
      }
    },
    {
      "cell_type": "markdown",
      "source": [
        "Answer Here"
      ],
      "metadata": {
        "id": "xvSq8iUTphqO"
      }
    },
    {
      "cell_type": "markdown",
      "source": [
        "#### Chart - 8"
      ],
      "metadata": {
        "id": "BZR9WyysphqO"
      }
    },
    {
      "cell_type": "code",
      "source": [
        "# Chart - 8 visualization code"
      ],
      "metadata": {
        "id": "TdPTWpAVphqO"
      },
      "execution_count": null,
      "outputs": []
    },
    {
      "cell_type": "markdown",
      "source": [
        "##### 1. Why did you pick the specific chart?"
      ],
      "metadata": {
        "id": "jj7wYXLtphqO"
      }
    },
    {
      "cell_type": "markdown",
      "source": [
        "Answer Here."
      ],
      "metadata": {
        "id": "Ob8u6rCTphqO"
      }
    },
    {
      "cell_type": "markdown",
      "source": [
        "##### 2. What is/are the insight(s) found from the chart?"
      ],
      "metadata": {
        "id": "eZrbJ2SmphqO"
      }
    },
    {
      "cell_type": "markdown",
      "source": [
        "Answer Here"
      ],
      "metadata": {
        "id": "mZtgC_hjphqO"
      }
    },
    {
      "cell_type": "markdown",
      "source": [
        "##### 3. Will the gained insights help creating a positive business impact?\n",
        "Are there any insights that lead to negative growth? Justify with specific reason."
      ],
      "metadata": {
        "id": "rFu4xreNphqO"
      }
    },
    {
      "cell_type": "markdown",
      "source": [
        "Answer Here"
      ],
      "metadata": {
        "id": "ey_0qi68phqO"
      }
    },
    {
      "cell_type": "markdown",
      "source": [
        "#### Chart - 9"
      ],
      "metadata": {
        "id": "YJ55k-q6phqO"
      }
    },
    {
      "cell_type": "code",
      "source": [
        "# Chart - 9 visualization code"
      ],
      "metadata": {
        "id": "B2aS4O1ophqO"
      },
      "execution_count": null,
      "outputs": []
    },
    {
      "cell_type": "markdown",
      "source": [
        "##### 1. Why did you pick the specific chart?"
      ],
      "metadata": {
        "id": "gCFgpxoyphqP"
      }
    },
    {
      "cell_type": "markdown",
      "source": [
        "Answer Here."
      ],
      "metadata": {
        "id": "TVxDimi2phqP"
      }
    },
    {
      "cell_type": "markdown",
      "source": [
        "##### 2. What is/are the insight(s) found from the chart?"
      ],
      "metadata": {
        "id": "OVtJsKN_phqQ"
      }
    },
    {
      "cell_type": "markdown",
      "source": [
        "Answer Here"
      ],
      "metadata": {
        "id": "ngGi97qjphqQ"
      }
    },
    {
      "cell_type": "markdown",
      "source": [
        "##### 3. Will the gained insights help creating a positive business impact?\n",
        "Are there any insights that lead to negative growth? Justify with specific reason."
      ],
      "metadata": {
        "id": "lssrdh5qphqQ"
      }
    },
    {
      "cell_type": "markdown",
      "source": [
        "Answer Here"
      ],
      "metadata": {
        "id": "tBpY5ekJphqQ"
      }
    },
    {
      "cell_type": "markdown",
      "source": [
        "#### Chart - 10"
      ],
      "metadata": {
        "id": "U2RJ9gkRphqQ"
      }
    },
    {
      "cell_type": "code",
      "source": [
        "# Chart - 10 visualization code"
      ],
      "metadata": {
        "id": "GM7a4YP4phqQ"
      },
      "execution_count": null,
      "outputs": []
    },
    {
      "cell_type": "markdown",
      "source": [
        "##### 1. Why did you pick the specific chart?"
      ],
      "metadata": {
        "id": "1M8mcRywphqQ"
      }
    },
    {
      "cell_type": "markdown",
      "source": [
        "Answer Here."
      ],
      "metadata": {
        "id": "8agQvks0phqQ"
      }
    },
    {
      "cell_type": "markdown",
      "source": [
        "##### 2. What is/are the insight(s) found from the chart?"
      ],
      "metadata": {
        "id": "tgIPom80phqQ"
      }
    },
    {
      "cell_type": "markdown",
      "source": [
        "Answer Here"
      ],
      "metadata": {
        "id": "Qp13pnNzphqQ"
      }
    },
    {
      "cell_type": "markdown",
      "source": [
        "##### 3. Will the gained insights help creating a positive business impact?\n",
        "Are there any insights that lead to negative growth? Justify with specific reason."
      ],
      "metadata": {
        "id": "JMzcOPDDphqR"
      }
    },
    {
      "cell_type": "markdown",
      "source": [
        "Answer Here"
      ],
      "metadata": {
        "id": "R4Ka1PC2phqR"
      }
    },
    {
      "cell_type": "markdown",
      "source": [
        "#### Chart - 11"
      ],
      "metadata": {
        "id": "x-EpHcCOp1ci"
      }
    },
    {
      "cell_type": "code",
      "source": [
        "# Chart - 11 visualization code"
      ],
      "metadata": {
        "id": "mAQTIvtqp1cj"
      },
      "execution_count": null,
      "outputs": []
    },
    {
      "cell_type": "markdown",
      "source": [
        "##### 1. Why did you pick the specific chart?"
      ],
      "metadata": {
        "id": "X_VqEhTip1ck"
      }
    },
    {
      "cell_type": "markdown",
      "source": [
        "Answer Here."
      ],
      "metadata": {
        "id": "-vsMzt_np1ck"
      }
    },
    {
      "cell_type": "markdown",
      "source": [
        "##### 2. What is/are the insight(s) found from the chart?"
      ],
      "metadata": {
        "id": "8zGJKyg5p1ck"
      }
    },
    {
      "cell_type": "markdown",
      "source": [
        "Answer Here"
      ],
      "metadata": {
        "id": "ZYdMsrqVp1ck"
      }
    },
    {
      "cell_type": "markdown",
      "source": [
        "##### 3. Will the gained insights help creating a positive business impact?\n",
        "Are there any insights that lead to negative growth? Justify with specific reason."
      ],
      "metadata": {
        "id": "PVzmfK_Ep1ck"
      }
    },
    {
      "cell_type": "markdown",
      "source": [
        "Answer Here"
      ],
      "metadata": {
        "id": "druuKYZpp1ck"
      }
    },
    {
      "cell_type": "markdown",
      "source": [
        "#### Chart - 12"
      ],
      "metadata": {
        "id": "n3dbpmDWp1ck"
      }
    },
    {
      "cell_type": "code",
      "source": [
        "# Chart - 12 visualization code"
      ],
      "metadata": {
        "id": "bwevp1tKp1ck"
      },
      "execution_count": null,
      "outputs": []
    },
    {
      "cell_type": "markdown",
      "source": [
        "##### 1. Why did you pick the specific chart?"
      ],
      "metadata": {
        "id": "ylSl6qgtp1ck"
      }
    },
    {
      "cell_type": "markdown",
      "source": [
        "Answer Here."
      ],
      "metadata": {
        "id": "m2xqNkiQp1ck"
      }
    },
    {
      "cell_type": "markdown",
      "source": [
        "##### 2. What is/are the insight(s) found from the chart?"
      ],
      "metadata": {
        "id": "ZWILFDl5p1ck"
      }
    },
    {
      "cell_type": "markdown",
      "source": [
        "Answer Here"
      ],
      "metadata": {
        "id": "x-lUsV2mp1ck"
      }
    },
    {
      "cell_type": "markdown",
      "source": [
        "##### 3. Will the gained insights help creating a positive business impact?\n",
        "Are there any insights that lead to negative growth? Justify with specific reason."
      ],
      "metadata": {
        "id": "M7G43BXep1ck"
      }
    },
    {
      "cell_type": "markdown",
      "source": [
        "Answer Here"
      ],
      "metadata": {
        "id": "5wwDJXsLp1cl"
      }
    },
    {
      "cell_type": "markdown",
      "source": [
        "#### Chart - 13"
      ],
      "metadata": {
        "id": "Ag9LCva-p1cl"
      }
    },
    {
      "cell_type": "code",
      "source": [
        "# Chart - 13 visualization code"
      ],
      "metadata": {
        "id": "EUfxeq9-p1cl"
      },
      "execution_count": null,
      "outputs": []
    },
    {
      "cell_type": "markdown",
      "source": [
        "##### 1. Why did you pick the specific chart?"
      ],
      "metadata": {
        "id": "E6MkPsBcp1cl"
      }
    },
    {
      "cell_type": "markdown",
      "source": [
        "Answer Here."
      ],
      "metadata": {
        "id": "V22bRsFWp1cl"
      }
    },
    {
      "cell_type": "markdown",
      "source": [
        "##### 2. What is/are the insight(s) found from the chart?"
      ],
      "metadata": {
        "id": "2cELzS2fp1cl"
      }
    },
    {
      "cell_type": "markdown",
      "source": [
        "Answer Here"
      ],
      "metadata": {
        "id": "ozQPc2_Ip1cl"
      }
    },
    {
      "cell_type": "markdown",
      "source": [
        "##### 3. Will the gained insights help creating a positive business impact?\n",
        "Are there any insights that lead to negative growth? Justify with specific reason."
      ],
      "metadata": {
        "id": "3MPXvC8up1cl"
      }
    },
    {
      "cell_type": "markdown",
      "source": [
        "Answer Here"
      ],
      "metadata": {
        "id": "GL8l1tdLp1cl"
      }
    },
    {
      "cell_type": "markdown",
      "source": [
        "#### Chart - 14 - Correlation Heatmap"
      ],
      "metadata": {
        "id": "NC_X3p0fY2L0"
      }
    },
    {
      "cell_type": "code",
      "source": [
        "# Correlation Heatmap visualization code"
      ],
      "metadata": {
        "id": "xyC9zolEZNRQ"
      },
      "execution_count": null,
      "outputs": []
    },
    {
      "cell_type": "markdown",
      "source": [
        "##### 1. Why did you pick the specific chart?"
      ],
      "metadata": {
        "id": "UV0SzAkaZNRQ"
      }
    },
    {
      "cell_type": "markdown",
      "source": [
        "Answer Here."
      ],
      "metadata": {
        "id": "DVPuT8LYZNRQ"
      }
    },
    {
      "cell_type": "markdown",
      "source": [
        "##### 2. What is/are the insight(s) found from the chart?"
      ],
      "metadata": {
        "id": "YPEH6qLeZNRQ"
      }
    },
    {
      "cell_type": "markdown",
      "source": [
        "Answer Here"
      ],
      "metadata": {
        "id": "bfSqtnDqZNRR"
      }
    },
    {
      "cell_type": "markdown",
      "source": [
        "#### Chart - 15 - Pair Plot"
      ],
      "metadata": {
        "id": "q29F0dvdveiT"
      }
    },
    {
      "cell_type": "code",
      "source": [
        "# Pair Plot visualization code"
      ],
      "metadata": {
        "id": "o58-TEIhveiU"
      },
      "execution_count": null,
      "outputs": []
    },
    {
      "cell_type": "markdown",
      "source": [
        "##### 1. Why did you pick the specific chart?"
      ],
      "metadata": {
        "id": "EXh0U9oCveiU"
      }
    },
    {
      "cell_type": "markdown",
      "source": [
        "Answer Here."
      ],
      "metadata": {
        "id": "eMmPjTByveiU"
      }
    },
    {
      "cell_type": "markdown",
      "source": [
        "##### 2. What is/are the insight(s) found from the chart?"
      ],
      "metadata": {
        "id": "22aHeOlLveiV"
      }
    },
    {
      "cell_type": "markdown",
      "source": [
        "Answer Here"
      ],
      "metadata": {
        "id": "uPQ8RGwHveiV"
      }
    },
    {
      "cell_type": "markdown",
      "source": [
        "## ***5. Hypothesis Testing***"
      ],
      "metadata": {
        "id": "g-ATYxFrGrvw"
      }
    },
    {
      "cell_type": "markdown",
      "source": [
        "### Based on your chart experiments, define three hypothetical statements from the dataset. In the next three questions, perform hypothesis testing to obtain final conclusion about the statements through your code and statistical testing."
      ],
      "metadata": {
        "id": "Yfr_Vlr8HBkt"
      }
    },
    {
      "cell_type": "markdown",
      "source": [
        "Answer Here."
      ],
      "metadata": {
        "id": "-7MS06SUHkB-"
      }
    },
    {
      "cell_type": "markdown",
      "source": [
        "### Hypothetical Statement - 1"
      ],
      "metadata": {
        "id": "8yEUt7NnHlrM"
      }
    },
    {
      "cell_type": "markdown",
      "source": [
        "#### 1. State Your research hypothesis as a null hypothesis and alternate hypothesis."
      ],
      "metadata": {
        "id": "tEA2Xm5dHt1r"
      }
    },
    {
      "cell_type": "markdown",
      "source": [
        "Answer Here."
      ],
      "metadata": {
        "id": "HI9ZP0laH0D-"
      }
    },
    {
      "cell_type": "markdown",
      "source": [
        "#### 2. Perform an appropriate statistical test."
      ],
      "metadata": {
        "id": "I79__PHVH19G"
      }
    },
    {
      "cell_type": "code",
      "source": [
        "# Perform Statistical Test to obtain P-Value"
      ],
      "metadata": {
        "id": "oZrfquKtyian"
      },
      "execution_count": null,
      "outputs": []
    },
    {
      "cell_type": "markdown",
      "source": [
        "##### Which statistical test have you done to obtain P-Value?"
      ],
      "metadata": {
        "id": "Ou-I18pAyIpj"
      }
    },
    {
      "cell_type": "markdown",
      "source": [
        "Answer Here."
      ],
      "metadata": {
        "id": "s2U0kk00ygSB"
      }
    },
    {
      "cell_type": "markdown",
      "source": [
        "##### Why did you choose the specific statistical test?"
      ],
      "metadata": {
        "id": "fF3858GYyt-u"
      }
    },
    {
      "cell_type": "markdown",
      "source": [
        "Answer Here."
      ],
      "metadata": {
        "id": "HO4K0gP5y3B4"
      }
    },
    {
      "cell_type": "markdown",
      "source": [
        "### Hypothetical Statement - 2"
      ],
      "metadata": {
        "id": "4_0_7-oCpUZd"
      }
    },
    {
      "cell_type": "markdown",
      "source": [
        "#### 1. State Your research hypothesis as a null hypothesis and alternate hypothesis."
      ],
      "metadata": {
        "id": "hwyV_J3ipUZe"
      }
    },
    {
      "cell_type": "markdown",
      "source": [
        "Answer Here."
      ],
      "metadata": {
        "id": "FnpLGJ-4pUZe"
      }
    },
    {
      "cell_type": "markdown",
      "source": [
        "#### 2. Perform an appropriate statistical test."
      ],
      "metadata": {
        "id": "3yB-zSqbpUZe"
      }
    },
    {
      "cell_type": "code",
      "source": [
        "# Perform Statistical Test to obtain P-Value"
      ],
      "metadata": {
        "id": "sWxdNTXNpUZe"
      },
      "execution_count": null,
      "outputs": []
    },
    {
      "cell_type": "markdown",
      "source": [
        "##### Which statistical test have you done to obtain P-Value?"
      ],
      "metadata": {
        "id": "dEUvejAfpUZe"
      }
    },
    {
      "cell_type": "markdown",
      "source": [
        "Answer Here."
      ],
      "metadata": {
        "id": "oLDrPz7HpUZf"
      }
    },
    {
      "cell_type": "markdown",
      "source": [
        "##### Why did you choose the specific statistical test?"
      ],
      "metadata": {
        "id": "Fd15vwWVpUZf"
      }
    },
    {
      "cell_type": "markdown",
      "source": [
        "Answer Here."
      ],
      "metadata": {
        "id": "4xOGYyiBpUZf"
      }
    },
    {
      "cell_type": "markdown",
      "source": [
        "### Hypothetical Statement - 3"
      ],
      "metadata": {
        "id": "bn_IUdTipZyH"
      }
    },
    {
      "cell_type": "markdown",
      "source": [
        "#### 1. State Your research hypothesis as a null hypothesis and alternate hypothesis."
      ],
      "metadata": {
        "id": "49K5P_iCpZyH"
      }
    },
    {
      "cell_type": "markdown",
      "source": [
        "Answer Here."
      ],
      "metadata": {
        "id": "7gWI5rT9pZyH"
      }
    },
    {
      "cell_type": "markdown",
      "source": [
        "#### 2. Perform an appropriate statistical test."
      ],
      "metadata": {
        "id": "Nff-vKELpZyI"
      }
    },
    {
      "cell_type": "code",
      "source": [
        "# Perform Statistical Test to obtain P-Value"
      ],
      "metadata": {
        "id": "s6AnJQjtpZyI"
      },
      "execution_count": null,
      "outputs": []
    },
    {
      "cell_type": "markdown",
      "source": [
        "##### Which statistical test have you done to obtain P-Value?"
      ],
      "metadata": {
        "id": "kLW572S8pZyI"
      }
    },
    {
      "cell_type": "markdown",
      "source": [
        "Answer Here."
      ],
      "metadata": {
        "id": "ytWJ8v15pZyI"
      }
    },
    {
      "cell_type": "markdown",
      "source": [
        "##### Why did you choose the specific statistical test?"
      ],
      "metadata": {
        "id": "dWbDXHzopZyI"
      }
    },
    {
      "cell_type": "markdown",
      "source": [
        "Answer Here."
      ],
      "metadata": {
        "id": "M99G98V6pZyI"
      }
    },
    {
      "cell_type": "markdown",
      "source": [
        "## ***6. Feature Engineering & Data Pre-processing***"
      ],
      "metadata": {
        "id": "yLjJCtPM0KBk"
      }
    },
    {
      "cell_type": "markdown",
      "source": [
        "### 1. Handling Missing Values"
      ],
      "metadata": {
        "id": "xiyOF9F70UgQ"
      }
    },
    {
      "cell_type": "code",
      "source": [
        "# Handling Missing Values & Missing Value Imputation"
      ],
      "metadata": {
        "id": "iRsAHk1K0fpS"
      },
      "execution_count": null,
      "outputs": []
    },
    {
      "cell_type": "markdown",
      "source": [
        "#### What all missing value imputation techniques have you used and why did you use those techniques?"
      ],
      "metadata": {
        "id": "7wuGOrhz0itI"
      }
    },
    {
      "cell_type": "markdown",
      "source": [
        "Answer Here."
      ],
      "metadata": {
        "id": "1ixusLtI0pqI"
      }
    },
    {
      "cell_type": "markdown",
      "source": [
        "### 2. Handling Outliers"
      ],
      "metadata": {
        "id": "id1riN9m0vUs"
      }
    },
    {
      "cell_type": "code",
      "source": [
        "# Handling Outliers & Outlier treatments"
      ],
      "metadata": {
        "id": "M6w2CzZf04JK"
      },
      "execution_count": null,
      "outputs": []
    },
    {
      "cell_type": "markdown",
      "source": [
        "##### What all outlier treatment techniques have you used and why did you use those techniques?"
      ],
      "metadata": {
        "id": "578E2V7j08f6"
      }
    },
    {
      "cell_type": "markdown",
      "source": [
        "Answer Here."
      ],
      "metadata": {
        "id": "uGZz5OrT1HH-"
      }
    },
    {
      "cell_type": "markdown",
      "source": [
        "### 3. Categorical Encoding"
      ],
      "metadata": {
        "id": "89xtkJwZ18nB"
      }
    },
    {
      "cell_type": "code",
      "source": [
        "# Encode your categorical columns"
      ],
      "metadata": {
        "id": "21JmIYMG2hEo"
      },
      "execution_count": null,
      "outputs": []
    },
    {
      "cell_type": "markdown",
      "source": [
        "#### What all categorical encoding techniques have you used & why did you use those techniques?"
      ],
      "metadata": {
        "id": "67NQN5KX2AMe"
      }
    },
    {
      "cell_type": "markdown",
      "source": [
        "Answer Here."
      ],
      "metadata": {
        "id": "UDaue5h32n_G"
      }
    },
    {
      "cell_type": "markdown",
      "source": [
        "### 4. Textual Data Preprocessing\n",
        "(It's mandatory for textual dataset i.e., NLP, Sentiment Analysis, Text Clustering etc.)"
      ],
      "metadata": {
        "id": "Iwf50b-R2tYG"
      }
    },
    {
      "cell_type": "markdown",
      "source": [
        "#### 1. Expand Contraction"
      ],
      "metadata": {
        "id": "GMQiZwjn3iu7"
      }
    },
    {
      "cell_type": "code",
      "source": [
        "# Expand Contraction"
      ],
      "metadata": {
        "id": "PTouz10C3oNN"
      },
      "execution_count": null,
      "outputs": []
    },
    {
      "cell_type": "markdown",
      "source": [
        "#### 2. Lower Casing"
      ],
      "metadata": {
        "id": "WVIkgGqN3qsr"
      }
    },
    {
      "cell_type": "code",
      "source": [
        "# Lower Casing"
      ],
      "metadata": {
        "id": "88JnJ1jN3w7j"
      },
      "execution_count": null,
      "outputs": []
    },
    {
      "cell_type": "markdown",
      "source": [
        "#### 3. Removing Punctuations"
      ],
      "metadata": {
        "id": "XkPnILGE3zoT"
      }
    },
    {
      "cell_type": "code",
      "source": [
        "# Remove Punctuations"
      ],
      "metadata": {
        "id": "vqbBqNaA33c0"
      },
      "execution_count": null,
      "outputs": []
    },
    {
      "cell_type": "markdown",
      "source": [
        "#### 4. Removing URLs & Removing words and digits contain digits."
      ],
      "metadata": {
        "id": "Hlsf0x5436Go"
      }
    },
    {
      "cell_type": "code",
      "source": [
        "# Remove URLs & Remove words and digits contain digits"
      ],
      "metadata": {
        "id": "2sxKgKxu4Ip3"
      },
      "execution_count": null,
      "outputs": []
    },
    {
      "cell_type": "markdown",
      "source": [
        "#### 5. Removing Stopwords & Removing White spaces"
      ],
      "metadata": {
        "id": "mT9DMSJo4nBL"
      }
    },
    {
      "cell_type": "code",
      "source": [
        "# Remove Stopwords"
      ],
      "metadata": {
        "id": "T2LSJh154s8W"
      },
      "execution_count": null,
      "outputs": []
    },
    {
      "cell_type": "code",
      "source": [
        "# Remove White spaces"
      ],
      "metadata": {
        "id": "EgLJGffy4vm0"
      },
      "execution_count": null,
      "outputs": []
    },
    {
      "cell_type": "markdown",
      "source": [
        "#### 6. Rephrase Text"
      ],
      "metadata": {
        "id": "c49ITxTc407N"
      }
    },
    {
      "cell_type": "code",
      "source": [
        "# Rephrase Text"
      ],
      "metadata": {
        "id": "foqY80Qu48N2"
      },
      "execution_count": null,
      "outputs": []
    },
    {
      "cell_type": "markdown",
      "source": [
        "#### 7. Tokenization"
      ],
      "metadata": {
        "id": "OeJFEK0N496M"
      }
    },
    {
      "cell_type": "code",
      "source": [
        "# Tokenization"
      ],
      "metadata": {
        "id": "ijx1rUOS5CUU"
      },
      "execution_count": null,
      "outputs": []
    },
    {
      "cell_type": "markdown",
      "source": [
        "#### 8. Text Normalization"
      ],
      "metadata": {
        "id": "9ExmJH0g5HBk"
      }
    },
    {
      "cell_type": "code",
      "source": [
        "# Normalizing Text (i.e., Stemming, Lemmatization etc.)"
      ],
      "metadata": {
        "id": "AIJ1a-Zc5PY8"
      },
      "execution_count": null,
      "outputs": []
    },
    {
      "cell_type": "markdown",
      "source": [
        "##### Which text normalization technique have you used and why?"
      ],
      "metadata": {
        "id": "cJNqERVU536h"
      }
    },
    {
      "cell_type": "markdown",
      "source": [
        "Answer Here."
      ],
      "metadata": {
        "id": "Z9jKVxE06BC1"
      }
    },
    {
      "cell_type": "markdown",
      "source": [
        "#### 9. Part of speech tagging"
      ],
      "metadata": {
        "id": "k5UmGsbsOxih"
      }
    },
    {
      "cell_type": "code",
      "source": [
        "# POS Taging"
      ],
      "metadata": {
        "id": "btT3ZJBAO6Ik"
      },
      "execution_count": null,
      "outputs": []
    },
    {
      "cell_type": "markdown",
      "source": [
        "#### 10. Text Vectorization"
      ],
      "metadata": {
        "id": "T0VqWOYE6DLQ"
      }
    },
    {
      "cell_type": "code",
      "source": [
        "# Vectorizing Text"
      ],
      "metadata": {
        "id": "yBRtdhth6JDE"
      },
      "execution_count": null,
      "outputs": []
    },
    {
      "cell_type": "markdown",
      "source": [
        "##### Which text vectorization technique have you used and why?"
      ],
      "metadata": {
        "id": "qBMux9mC6MCf"
      }
    },
    {
      "cell_type": "markdown",
      "source": [
        "Answer Here."
      ],
      "metadata": {
        "id": "su2EnbCh6UKQ"
      }
    },
    {
      "cell_type": "markdown",
      "source": [
        "### 4. Feature Manipulation & Selection"
      ],
      "metadata": {
        "id": "-oLEiFgy-5Pf"
      }
    },
    {
      "cell_type": "markdown",
      "source": [
        "#### 1. Feature Manipulation"
      ],
      "metadata": {
        "id": "C74aWNz2AliB"
      }
    },
    {
      "cell_type": "code",
      "source": [
        "# Manipulate Features to minimize feature correlation and create new features"
      ],
      "metadata": {
        "id": "h1qC4yhBApWC"
      },
      "execution_count": null,
      "outputs": []
    },
    {
      "cell_type": "markdown",
      "source": [
        "#### 2. Feature Selection"
      ],
      "metadata": {
        "id": "2DejudWSA-a0"
      }
    },
    {
      "cell_type": "code",
      "source": [
        "# Select your features wisely to avoid overfitting"
      ],
      "metadata": {
        "id": "YLhe8UmaBCEE"
      },
      "execution_count": null,
      "outputs": []
    },
    {
      "cell_type": "markdown",
      "source": [
        "##### What all feature selection methods have you used  and why?"
      ],
      "metadata": {
        "id": "pEMng2IbBLp7"
      }
    },
    {
      "cell_type": "markdown",
      "source": [
        "Answer Here."
      ],
      "metadata": {
        "id": "rb2Lh6Z8BgGs"
      }
    },
    {
      "cell_type": "markdown",
      "source": [
        "##### Which all features you found important and why?"
      ],
      "metadata": {
        "id": "rAdphbQ9Bhjc"
      }
    },
    {
      "cell_type": "markdown",
      "source": [
        "Answer Here."
      ],
      "metadata": {
        "id": "fGgaEstsBnaf"
      }
    },
    {
      "cell_type": "markdown",
      "source": [
        "### 5. Data Transformation"
      ],
      "metadata": {
        "id": "TNVZ9zx19K6k"
      }
    },
    {
      "cell_type": "markdown",
      "source": [
        "#### Do you think that your data needs to be transformed? If yes, which transformation have you used. Explain Why?"
      ],
      "metadata": {
        "id": "nqoHp30x9hH9"
      }
    },
    {
      "cell_type": "code",
      "source": [
        "# Transform Your data"
      ],
      "metadata": {
        "id": "I6quWQ1T9rtH"
      },
      "execution_count": null,
      "outputs": []
    },
    {
      "cell_type": "markdown",
      "source": [
        "### 6. Data Scaling"
      ],
      "metadata": {
        "id": "rMDnDkt2B6du"
      }
    },
    {
      "cell_type": "code",
      "source": [
        "# Scaling your data"
      ],
      "metadata": {
        "id": "dL9LWpySC6x_"
      },
      "execution_count": null,
      "outputs": []
    },
    {
      "cell_type": "markdown",
      "source": [
        "##### Which method have you used to scale you data and why?"
      ],
      "metadata": {
        "id": "yiiVWRdJDDil"
      }
    },
    {
      "cell_type": "markdown",
      "source": [
        "### 7. Dimesionality Reduction"
      ],
      "metadata": {
        "id": "1UUpS68QDMuG"
      }
    },
    {
      "cell_type": "markdown",
      "source": [
        "##### Do you think that dimensionality reduction is needed? Explain Why?"
      ],
      "metadata": {
        "id": "kexQrXU-DjzY"
      }
    },
    {
      "cell_type": "markdown",
      "source": [
        "Answer Here."
      ],
      "metadata": {
        "id": "GGRlBsSGDtTQ"
      }
    },
    {
      "cell_type": "code",
      "source": [
        "# DImensionality Reduction (If needed)"
      ],
      "metadata": {
        "id": "kQfvxBBHDvCa"
      },
      "execution_count": null,
      "outputs": []
    },
    {
      "cell_type": "markdown",
      "source": [
        "##### Which dimensionality reduction technique have you used and why? (If dimensionality reduction done on dataset.)"
      ],
      "metadata": {
        "id": "T5CmagL3EC8N"
      }
    },
    {
      "cell_type": "markdown",
      "source": [
        "Answer Here."
      ],
      "metadata": {
        "id": "ZKr75IDuEM7t"
      }
    },
    {
      "cell_type": "markdown",
      "source": [
        "### 8. Data Splitting"
      ],
      "metadata": {
        "id": "BhH2vgX9EjGr"
      }
    },
    {
      "cell_type": "code",
      "source": [
        "# Split your data to train and test. Choose Splitting ratio wisely."
      ],
      "metadata": {
        "id": "0CTyd2UwEyNM"
      },
      "execution_count": null,
      "outputs": []
    },
    {
      "cell_type": "markdown",
      "source": [
        "##### What data splitting ratio have you used and why?"
      ],
      "metadata": {
        "id": "qjKvONjwE8ra"
      }
    },
    {
      "cell_type": "markdown",
      "source": [
        "Answer Here."
      ],
      "metadata": {
        "id": "Y2lJ8cobFDb_"
      }
    },
    {
      "cell_type": "markdown",
      "source": [
        "### 9. Handling Imbalanced Dataset"
      ],
      "metadata": {
        "id": "P1XJ9OREExlT"
      }
    },
    {
      "cell_type": "markdown",
      "source": [
        "##### Do you think the dataset is imbalanced? Explain Why."
      ],
      "metadata": {
        "id": "VFOzZv6IFROw"
      }
    },
    {
      "cell_type": "markdown",
      "source": [
        "Answer Here."
      ],
      "metadata": {
        "id": "GeKDIv7pFgcC"
      }
    },
    {
      "cell_type": "code",
      "source": [
        "# Handling Imbalanced Dataset (If needed)"
      ],
      "metadata": {
        "id": "nQsRhhZLFiDs"
      },
      "execution_count": null,
      "outputs": []
    },
    {
      "cell_type": "markdown",
      "source": [
        "##### What technique did you use to handle the imbalance dataset and why? (If needed to be balanced)"
      ],
      "metadata": {
        "id": "TIqpNgepFxVj"
      }
    },
    {
      "cell_type": "markdown",
      "source": [
        "Answer Here."
      ],
      "metadata": {
        "id": "qbet1HwdGDTz"
      }
    },
    {
      "cell_type": "markdown",
      "source": [
        "## ***7. ML Model Implementation***"
      ],
      "metadata": {
        "id": "VfCC591jGiD4"
      }
    },
    {
      "cell_type": "markdown",
      "source": [
        "### ML Model - 1"
      ],
      "metadata": {
        "id": "OB4l2ZhMeS1U"
      }
    },
    {
      "cell_type": "code",
      "source": [
        "# ML Model - 1 Implementation\n",
        "\n",
        "# Fit the Algorithm\n",
        "\n",
        "# Predict on the model"
      ],
      "metadata": {
        "id": "7ebyywQieS1U"
      },
      "execution_count": null,
      "outputs": []
    },
    {
      "cell_type": "markdown",
      "source": [
        "#### 1. Explain the ML Model used and it's performance using Evaluation metric Score Chart."
      ],
      "metadata": {
        "id": "ArJBuiUVfxKd"
      }
    },
    {
      "cell_type": "code",
      "source": [
        "# Visualizing evaluation Metric Score chart"
      ],
      "metadata": {
        "id": "rqD5ZohzfxKe"
      },
      "execution_count": null,
      "outputs": []
    },
    {
      "cell_type": "markdown",
      "source": [
        "#### 2. Cross- Validation & Hyperparameter Tuning"
      ],
      "metadata": {
        "id": "4qY1EAkEfxKe"
      }
    },
    {
      "cell_type": "code",
      "source": [
        "# ML Model - 1 Implementation with hyperparameter optimization techniques (i.e., GridSearch CV, RandomSearch CV, Bayesian Optimization etc.)\n",
        "\n",
        "# Fit the Algorithm\n",
        "\n",
        "# Predict on the model"
      ],
      "metadata": {
        "id": "Dy61ujd6fxKe"
      },
      "execution_count": null,
      "outputs": []
    },
    {
      "cell_type": "markdown",
      "source": [
        "##### Which hyperparameter optimization technique have you used and why?"
      ],
      "metadata": {
        "id": "PiV4Ypx8fxKe"
      }
    },
    {
      "cell_type": "markdown",
      "source": [
        "Answer Here."
      ],
      "metadata": {
        "id": "negyGRa7fxKf"
      }
    },
    {
      "cell_type": "markdown",
      "source": [
        "##### Have you seen any improvement? Note down the improvement with updates Evaluation metric Score Chart."
      ],
      "metadata": {
        "id": "TfvqoZmBfxKf"
      }
    },
    {
      "cell_type": "markdown",
      "source": [
        "Answer Here."
      ],
      "metadata": {
        "id": "OaLui8CcfxKf"
      }
    },
    {
      "cell_type": "markdown",
      "source": [
        "### ML Model - 2"
      ],
      "metadata": {
        "id": "dJ2tPlVmpsJ0"
      }
    },
    {
      "cell_type": "markdown",
      "source": [
        "#### 1. Explain the ML Model used and it's performance using Evaluation metric Score Chart."
      ],
      "metadata": {
        "id": "JWYfwnehpsJ1"
      }
    },
    {
      "cell_type": "code",
      "source": [
        "# Visualizing evaluation Metric Score chart"
      ],
      "metadata": {
        "id": "yEl-hgQWpsJ1"
      },
      "execution_count": null,
      "outputs": []
    },
    {
      "cell_type": "markdown",
      "source": [
        "#### 2. Cross- Validation & Hyperparameter Tuning"
      ],
      "metadata": {
        "id": "-jK_YjpMpsJ2"
      }
    },
    {
      "cell_type": "code",
      "source": [
        "# ML Model - 1 Implementation with hyperparameter optimization techniques (i.e., GridSearch CV, RandomSearch CV, Bayesian Optimization etc.)\n",
        "\n",
        "# Fit the Algorithm\n",
        "\n",
        "# Predict on the model"
      ],
      "metadata": {
        "id": "Dn0EOfS6psJ2"
      },
      "execution_count": null,
      "outputs": []
    },
    {
      "cell_type": "markdown",
      "source": [
        "##### Which hyperparameter optimization technique have you used and why?"
      ],
      "metadata": {
        "id": "HAih1iBOpsJ2"
      }
    },
    {
      "cell_type": "markdown",
      "source": [
        "Answer Here."
      ],
      "metadata": {
        "id": "9kBgjYcdpsJ2"
      }
    },
    {
      "cell_type": "markdown",
      "source": [
        "##### Have you seen any improvement? Note down the improvement with updates Evaluation metric Score Chart."
      ],
      "metadata": {
        "id": "zVGeBEFhpsJ2"
      }
    },
    {
      "cell_type": "markdown",
      "source": [
        "Answer Here."
      ],
      "metadata": {
        "id": "74yRdG6UpsJ3"
      }
    },
    {
      "cell_type": "markdown",
      "source": [
        "#### 3. Explain each evaluation metric's indication towards business and the business impact pf the ML model used."
      ],
      "metadata": {
        "id": "bmKjuQ-FpsJ3"
      }
    },
    {
      "cell_type": "markdown",
      "source": [
        "Answer Here."
      ],
      "metadata": {
        "id": "BDKtOrBQpsJ3"
      }
    },
    {
      "cell_type": "markdown",
      "source": [
        "### ML Model - 3"
      ],
      "metadata": {
        "id": "Fze-IPXLpx6K"
      }
    },
    {
      "cell_type": "code",
      "source": [
        "# ML Model - 3 Implementation\n",
        "\n",
        "# Fit the Algorithm\n",
        "\n",
        "# Predict on the model"
      ],
      "metadata": {
        "id": "FFrSXAtrpx6M"
      },
      "execution_count": null,
      "outputs": []
    },
    {
      "cell_type": "markdown",
      "source": [
        "#### 1. Explain the ML Model used and it's performance using Evaluation metric Score Chart."
      ],
      "metadata": {
        "id": "7AN1z2sKpx6M"
      }
    },
    {
      "cell_type": "code",
      "source": [
        "# Visualizing evaluation Metric Score chart"
      ],
      "metadata": {
        "id": "xIY4lxxGpx6M"
      },
      "execution_count": null,
      "outputs": []
    },
    {
      "cell_type": "markdown",
      "source": [
        "#### 2. Cross- Validation & Hyperparameter Tuning"
      ],
      "metadata": {
        "id": "9PIHJqyupx6M"
      }
    },
    {
      "cell_type": "code",
      "source": [
        "# ML Model - 3 Implementation with hyperparameter optimization techniques (i.e., GridSearch CV, RandomSearch CV, Bayesian Optimization etc.)\n",
        "\n",
        "# Fit the Algorithm\n",
        "\n",
        "# Predict on the model"
      ],
      "metadata": {
        "id": "eSVXuaSKpx6M"
      },
      "execution_count": null,
      "outputs": []
    },
    {
      "cell_type": "markdown",
      "source": [
        "##### Which hyperparameter optimization technique have you used and why?"
      ],
      "metadata": {
        "id": "_-qAgymDpx6N"
      }
    },
    {
      "cell_type": "markdown",
      "source": [
        "Answer Here."
      ],
      "metadata": {
        "id": "lQMffxkwpx6N"
      }
    },
    {
      "cell_type": "markdown",
      "source": [
        "##### Have you seen any improvement? Note down the improvement with updates Evaluation metric Score Chart."
      ],
      "metadata": {
        "id": "Z-hykwinpx6N"
      }
    },
    {
      "cell_type": "markdown",
      "source": [
        "Answer Here."
      ],
      "metadata": {
        "id": "MzVzZC6opx6N"
      }
    },
    {
      "cell_type": "markdown",
      "source": [
        "### 1. Which Evaluation metrics did you consider for a positive business impact and why?"
      ],
      "metadata": {
        "id": "h_CCil-SKHpo"
      }
    },
    {
      "cell_type": "markdown",
      "source": [
        "Answer Here."
      ],
      "metadata": {
        "id": "jHVz9hHDKFms"
      }
    },
    {
      "cell_type": "markdown",
      "source": [
        "### 2. Which ML model did you choose from the above created models as your final prediction model and why?"
      ],
      "metadata": {
        "id": "cBFFvTBNJzUa"
      }
    },
    {
      "cell_type": "markdown",
      "source": [
        "Answer Here."
      ],
      "metadata": {
        "id": "6ksF5Q1LKTVm"
      }
    },
    {
      "cell_type": "markdown",
      "source": [
        "### 3. Explain the model which you have used and the feature importance using any model explainability tool?"
      ],
      "metadata": {
        "id": "HvGl1hHyA_VK"
      }
    },
    {
      "cell_type": "markdown",
      "source": [
        "Answer Here."
      ],
      "metadata": {
        "id": "YnvVTiIxBL-C"
      }
    },
    {
      "cell_type": "markdown",
      "source": [
        "## ***8.*** ***Future Work (Optional)***"
      ],
      "metadata": {
        "id": "EyNgTHvd2WFk"
      }
    },
    {
      "cell_type": "markdown",
      "source": [
        "### 1. Save the best performing ml model in a pickle file or joblib file format for deployment process.\n"
      ],
      "metadata": {
        "id": "KH5McJBi2d8v"
      }
    },
    {
      "cell_type": "code",
      "source": [
        "# Save the File"
      ],
      "metadata": {
        "id": "bQIANRl32f4J"
      },
      "execution_count": null,
      "outputs": []
    },
    {
      "cell_type": "markdown",
      "source": [
        "### 2. Again Load the saved model file and try to predict unseen data for a sanity check.\n"
      ],
      "metadata": {
        "id": "iW_Lq9qf2h6X"
      }
    },
    {
      "cell_type": "code",
      "source": [
        "# Load the File and predict unseen data."
      ],
      "metadata": {
        "id": "oEXk9ydD2nVC"
      },
      "execution_count": null,
      "outputs": []
    },
    {
      "cell_type": "markdown",
      "source": [
        "### ***Congrats! Your model is successfully created and ready for deployment on a live server for a real user interaction !!!***"
      ],
      "metadata": {
        "id": "-Kee-DAl2viO"
      }
    },
    {
      "cell_type": "markdown",
      "source": [
        "# **Conclusion**"
      ],
      "metadata": {
        "id": "gCX9965dhzqZ"
      }
    },
    {
      "cell_type": "markdown",
      "source": [
        "Write the conclusion here."
      ],
      "metadata": {
        "id": "Fjb1IsQkh3yE"
      }
    },
    {
      "cell_type": "markdown",
      "source": [
        "### ***Hurrah! You have successfully completed your Machine Learning Capstone Project !!!***"
      ],
      "metadata": {
        "id": "gIfDvo9L0UH2"
      }
    }
  ]
}